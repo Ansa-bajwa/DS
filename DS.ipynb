{
 "cells": [
  {
   "cell_type": "markdown",
   "metadata": {},
   "source": [
    "# Data Cleaning With Python"
   ]
  },
  {
   "cell_type": "markdown",
   "metadata": {},
   "source": [
    "Dataset: "
   ]
  },
  {
   "cell_type": "code",
   "execution_count": 1,
   "metadata": {},
   "outputs": [],
   "source": [
    "import pandas as pd"
   ]
  },
  {
   "cell_type": "code",
   "execution_count": 2,
   "metadata": {},
   "outputs": [],
   "source": [
    "covid_data = pd.read_excel('COVID_FINAL_DATA.xlsx')"
   ]
  },
  {
   "cell_type": "code",
   "execution_count": 3,
   "metadata": {
    "scrolled": true
   },
   "outputs": [
    {
     "data": {
      "text/html": [
       "<div>\n",
       "<style scoped>\n",
       "    .dataframe tbody tr th:only-of-type {\n",
       "        vertical-align: middle;\n",
       "    }\n",
       "\n",
       "    .dataframe tbody tr th {\n",
       "        vertical-align: top;\n",
       "    }\n",
       "\n",
       "    .dataframe thead th {\n",
       "        text-align: right;\n",
       "    }\n",
       "</style>\n",
       "<table border=\"1\" class=\"dataframe\">\n",
       "  <thead>\n",
       "    <tr style=\"text-align: right;\">\n",
       "      <th></th>\n",
       "      <th>Unnamed: 0</th>\n",
       "      <th>Cumulative</th>\n",
       "      <th>Cumulative  Test positive</th>\n",
       "      <th>Cumulative  tests performed</th>\n",
       "      <th>Date</th>\n",
       "      <th>Discharged</th>\n",
       "      <th>Expired</th>\n",
       "      <th>Home Quarantine</th>\n",
       "      <th>New  (last 24 hrs)</th>\n",
       "      <th>Region</th>\n",
       "      <th>Still admitted</th>\n",
       "      <th>Tests  performed in last 24 hours</th>\n",
       "    </tr>\n",
       "  </thead>\n",
       "  <tbody>\n",
       "    <tr>\n",
       "      <td>0</td>\n",
       "      <td>4</td>\n",
       "      <td>48</td>\n",
       "      <td>2</td>\n",
       "      <td>80</td>\n",
       "      <td>2020-03-11 00:00:00</td>\n",
       "      <td>0</td>\n",
       "      <td>0</td>\n",
       "      <td>NaN</td>\n",
       "      <td>3</td>\n",
       "      <td>ICT</td>\n",
       "      <td>2</td>\n",
       "      <td>8</td>\n",
       "    </tr>\n",
       "    <tr>\n",
       "      <td>1</td>\n",
       "      <td>5</td>\n",
       "      <td>61</td>\n",
       "      <td>0</td>\n",
       "      <td>95</td>\n",
       "      <td>2020-03-11 00:00:00</td>\n",
       "      <td>0</td>\n",
       "      <td>0</td>\n",
       "      <td>NaN</td>\n",
       "      <td>6</td>\n",
       "      <td>Punjab</td>\n",
       "      <td>0</td>\n",
       "      <td>7</td>\n",
       "    </tr>\n",
       "    <tr>\n",
       "      <td>2</td>\n",
       "      <td>6</td>\n",
       "      <td>84</td>\n",
       "      <td>14</td>\n",
       "      <td>171</td>\n",
       "      <td>2020-03-11 00:00:00</td>\n",
       "      <td>1</td>\n",
       "      <td>0</td>\n",
       "      <td>NaN</td>\n",
       "      <td>1</td>\n",
       "      <td>Sindh</td>\n",
       "      <td>13</td>\n",
       "      <td>55</td>\n",
       "    </tr>\n",
       "    <tr>\n",
       "      <td>3</td>\n",
       "      <td>7</td>\n",
       "      <td>20</td>\n",
       "      <td>0</td>\n",
       "      <td>28</td>\n",
       "      <td>2020-03-11 00:00:00</td>\n",
       "      <td>0</td>\n",
       "      <td>0</td>\n",
       "      <td>NaN</td>\n",
       "      <td>0</td>\n",
       "      <td>KP</td>\n",
       "      <td>0</td>\n",
       "      <td>2</td>\n",
       "    </tr>\n",
       "    <tr>\n",
       "      <td>4</td>\n",
       "      <td>8</td>\n",
       "      <td>3</td>\n",
       "      <td>0</td>\n",
       "      <td>0</td>\n",
       "      <td>2020-03-11 00:00:00</td>\n",
       "      <td>0</td>\n",
       "      <td>0</td>\n",
       "      <td>NaN</td>\n",
       "      <td>0</td>\n",
       "      <td>KPTD</td>\n",
       "      <td>0</td>\n",
       "      <td>0</td>\n",
       "    </tr>\n",
       "  </tbody>\n",
       "</table>\n",
       "</div>"
      ],
      "text/plain": [
       "   Unnamed: 0  Cumulative  Cumulative  Test positive  \\\n",
       "0           4          48                          2   \n",
       "1           5          61                          0   \n",
       "2           6          84                         14   \n",
       "3           7          20                          0   \n",
       "4           8           3                          0   \n",
       "\n",
       "   Cumulative  tests performed                 Date  Discharged  Expired  \\\n",
       "0                           80  2020-03-11 00:00:00           0        0   \n",
       "1                           95  2020-03-11 00:00:00           0        0   \n",
       "2                          171  2020-03-11 00:00:00           1        0   \n",
       "3                           28  2020-03-11 00:00:00           0        0   \n",
       "4                            0  2020-03-11 00:00:00           0        0   \n",
       "\n",
       "   Home Quarantine  New  (last 24 hrs)  Region  Still admitted  \\\n",
       "0              NaN                   3     ICT               2   \n",
       "1              NaN                   6  Punjab               0   \n",
       "2              NaN                   1   Sindh              13   \n",
       "3              NaN                   0      KP               0   \n",
       "4              NaN                   0    KPTD               0   \n",
       "\n",
       "  Tests  performed in last 24 hours  \n",
       "0                                 8  \n",
       "1                                 7  \n",
       "2                                55  \n",
       "3                                 2  \n",
       "4                                 0  "
      ]
     },
     "execution_count": 3,
     "metadata": {},
     "output_type": "execute_result"
    }
   ],
   "source": [
    "covid_data.head()"
   ]
  },
  {
   "cell_type": "code",
   "execution_count": 4,
   "metadata": {},
   "outputs": [
    {
     "data": {
      "text/plain": [
       "(440, 12)"
      ]
     },
     "execution_count": 4,
     "metadata": {},
     "output_type": "execute_result"
    }
   ],
   "source": [
    "covid_data.shape"
   ]
  },
  {
   "cell_type": "code",
   "execution_count": 5,
   "metadata": {},
   "outputs": [
    {
     "data": {
      "text/plain": [
       "Index(['Unnamed: 0', 'Cumulative', 'Cumulative  Test positive',\n",
       "       'Cumulative  tests performed', 'Date', 'Discharged', 'Expired',\n",
       "       'Home Quarantine', 'New  (last 24 hrs)', 'Region', 'Still admitted',\n",
       "       'Tests  performed in last 24 hours'],\n",
       "      dtype='object')"
      ]
     },
     "execution_count": 5,
     "metadata": {},
     "output_type": "execute_result"
    }
   ],
   "source": [
    "covid_data.columns"
   ]
  },
  {
   "cell_type": "code",
   "execution_count": 6,
   "metadata": {},
   "outputs": [],
   "source": [
    "covid_data.drop([\"Unnamed: 0\"], axis = 1, inplace = True) "
   ]
  },
  {
   "cell_type": "code",
   "execution_count": 7,
   "metadata": {},
   "outputs": [
    {
     "data": {
      "text/plain": [
       "(440, 11)"
      ]
     },
     "execution_count": 7,
     "metadata": {},
     "output_type": "execute_result"
    }
   ],
   "source": [
    "covid_data.shape"
   ]
  },
  {
   "cell_type": "code",
   "execution_count": 8,
   "metadata": {},
   "outputs": [
    {
     "data": {
      "text/plain": [
       "Index(['Cumulative', 'Cumulative  Test positive',\n",
       "       'Cumulative  tests performed', 'Date', 'Discharged', 'Expired',\n",
       "       'Home Quarantine', 'New  (last 24 hrs)', 'Region', 'Still admitted',\n",
       "       'Tests  performed in last 24 hours'],\n",
       "      dtype='object')"
      ]
     },
     "execution_count": 8,
     "metadata": {},
     "output_type": "execute_result"
    }
   ],
   "source": [
    "covid_data.columns"
   ]
  },
  {
   "cell_type": "code",
   "execution_count": 9,
   "metadata": {},
   "outputs": [
    {
     "data": {
      "text/plain": [
       "Cumulative                             0\n",
       "Cumulative  Test positive              0\n",
       "Cumulative  tests performed            0\n",
       "Date                                   0\n",
       "Discharged                             0\n",
       "Expired                                0\n",
       "Home Quarantine                      139\n",
       "New  (last 24 hrs)                     0\n",
       "Region                                 0\n",
       "Still admitted                         0\n",
       "Tests  performed in last 24 hours      0\n",
       "dtype: int64"
      ]
     },
     "execution_count": 9,
     "metadata": {},
     "output_type": "execute_result"
    }
   ],
   "source": [
    "covid_data.isnull().sum()"
   ]
  },
  {
   "cell_type": "code",
   "execution_count": 10,
   "metadata": {},
   "outputs": [],
   "source": [
    "covid_data[\"Home Quarantine\"] = covid_data[\"Home Quarantine\"].fillna(0)"
   ]
  },
  {
   "cell_type": "code",
   "execution_count": 11,
   "metadata": {},
   "outputs": [
    {
     "data": {
      "text/plain": [
       "Cumulative                           0\n",
       "Cumulative  Test positive            0\n",
       "Cumulative  tests performed          0\n",
       "Date                                 0\n",
       "Discharged                           0\n",
       "Expired                              0\n",
       "Home Quarantine                      0\n",
       "New  (last 24 hrs)                   0\n",
       "Region                               0\n",
       "Still admitted                       0\n",
       "Tests  performed in last 24 hours    0\n",
       "dtype: int64"
      ]
     },
     "execution_count": 11,
     "metadata": {},
     "output_type": "execute_result"
    }
   ],
   "source": [
    "covid_data.isnull().sum()"
   ]
  },
  {
   "cell_type": "code",
   "execution_count": 12,
   "metadata": {},
   "outputs": [
    {
     "data": {
      "text/plain": [
       "Cumulative                             int64\n",
       "Cumulative  Test positive              int64\n",
       "Cumulative  tests performed            int64\n",
       "Date                                  object\n",
       "Discharged                             int64\n",
       "Expired                                int64\n",
       "Home Quarantine                      float64\n",
       "New  (last 24 hrs)                     int64\n",
       "Region                                object\n",
       "Still admitted                         int64\n",
       "Tests  performed in last 24 hours     object\n",
       "dtype: object"
      ]
     },
     "execution_count": 12,
     "metadata": {},
     "output_type": "execute_result"
    }
   ],
   "source": [
    "covid_data.dtypes"
   ]
  },
  {
   "cell_type": "markdown",
   "metadata": {},
   "source": [
    "There is a value 'NO 0' in column 'Tests  performed in last 24 hours '. we will replace it with zero and then will change datatype of column from object to float"
   ]
  },
  {
   "cell_type": "code",
   "execution_count": 13,
   "metadata": {},
   "outputs": [],
   "source": [
    "covid_data[\"Tests  performed in last 24 hours\"]=covid_data[\"Tests  performed in last 24 hours\"].astype(str)"
   ]
  },
  {
   "cell_type": "code",
   "execution_count": 14,
   "metadata": {},
   "outputs": [
    {
     "data": {
      "text/html": [
       "<div>\n",
       "<style scoped>\n",
       "    .dataframe tbody tr th:only-of-type {\n",
       "        vertical-align: middle;\n",
       "    }\n",
       "\n",
       "    .dataframe tbody tr th {\n",
       "        vertical-align: top;\n",
       "    }\n",
       "\n",
       "    .dataframe thead th {\n",
       "        text-align: right;\n",
       "    }\n",
       "</style>\n",
       "<table border=\"1\" class=\"dataframe\">\n",
       "  <thead>\n",
       "    <tr style=\"text-align: right;\">\n",
       "      <th></th>\n",
       "      <th>Cumulative</th>\n",
       "      <th>Cumulative  Test positive</th>\n",
       "      <th>Cumulative  tests performed</th>\n",
       "      <th>Date</th>\n",
       "      <th>Discharged</th>\n",
       "      <th>Expired</th>\n",
       "      <th>Home Quarantine</th>\n",
       "      <th>New  (last 24 hrs)</th>\n",
       "      <th>Region</th>\n",
       "      <th>Still admitted</th>\n",
       "      <th>Tests  performed in last 24 hours</th>\n",
       "    </tr>\n",
       "  </thead>\n",
       "  <tbody>\n",
       "    <tr>\n",
       "      <td>0</td>\n",
       "      <td>48</td>\n",
       "      <td>2</td>\n",
       "      <td>80</td>\n",
       "      <td>2020-03-11 00:00:00</td>\n",
       "      <td>0</td>\n",
       "      <td>0</td>\n",
       "      <td>0.0</td>\n",
       "      <td>3</td>\n",
       "      <td>ICT</td>\n",
       "      <td>2</td>\n",
       "      <td>8</td>\n",
       "    </tr>\n",
       "    <tr>\n",
       "      <td>1</td>\n",
       "      <td>61</td>\n",
       "      <td>0</td>\n",
       "      <td>95</td>\n",
       "      <td>2020-03-11 00:00:00</td>\n",
       "      <td>0</td>\n",
       "      <td>0</td>\n",
       "      <td>0.0</td>\n",
       "      <td>6</td>\n",
       "      <td>Punjab</td>\n",
       "      <td>0</td>\n",
       "      <td>7</td>\n",
       "    </tr>\n",
       "    <tr>\n",
       "      <td>2</td>\n",
       "      <td>84</td>\n",
       "      <td>14</td>\n",
       "      <td>171</td>\n",
       "      <td>2020-03-11 00:00:00</td>\n",
       "      <td>1</td>\n",
       "      <td>0</td>\n",
       "      <td>0.0</td>\n",
       "      <td>1</td>\n",
       "      <td>Sindh</td>\n",
       "      <td>13</td>\n",
       "      <td>55</td>\n",
       "    </tr>\n",
       "    <tr>\n",
       "      <td>3</td>\n",
       "      <td>20</td>\n",
       "      <td>0</td>\n",
       "      <td>28</td>\n",
       "      <td>2020-03-11 00:00:00</td>\n",
       "      <td>0</td>\n",
       "      <td>0</td>\n",
       "      <td>0.0</td>\n",
       "      <td>0</td>\n",
       "      <td>KP</td>\n",
       "      <td>0</td>\n",
       "      <td>2</td>\n",
       "    </tr>\n",
       "    <tr>\n",
       "      <td>4</td>\n",
       "      <td>3</td>\n",
       "      <td>0</td>\n",
       "      <td>0</td>\n",
       "      <td>2020-03-11 00:00:00</td>\n",
       "      <td>0</td>\n",
       "      <td>0</td>\n",
       "      <td>0.0</td>\n",
       "      <td>0</td>\n",
       "      <td>KPTD</td>\n",
       "      <td>0</td>\n",
       "      <td>0</td>\n",
       "    </tr>\n",
       "  </tbody>\n",
       "</table>\n",
       "</div>"
      ],
      "text/plain": [
       "   Cumulative  Cumulative  Test positive  Cumulative  tests performed  \\\n",
       "0          48                          2                           80   \n",
       "1          61                          0                           95   \n",
       "2          84                         14                          171   \n",
       "3          20                          0                           28   \n",
       "4           3                          0                            0   \n",
       "\n",
       "                  Date  Discharged  Expired  Home Quarantine  \\\n",
       "0  2020-03-11 00:00:00           0        0              0.0   \n",
       "1  2020-03-11 00:00:00           0        0              0.0   \n",
       "2  2020-03-11 00:00:00           1        0              0.0   \n",
       "3  2020-03-11 00:00:00           0        0              0.0   \n",
       "4  2020-03-11 00:00:00           0        0              0.0   \n",
       "\n",
       "   New  (last 24 hrs)  Region  Still admitted  \\\n",
       "0                   3     ICT               2   \n",
       "1                   6  Punjab               0   \n",
       "2                   1   Sindh              13   \n",
       "3                   0      KP               0   \n",
       "4                   0    KPTD               0   \n",
       "\n",
       "  Tests  performed in last 24 hours  \n",
       "0                                 8  \n",
       "1                                 7  \n",
       "2                                55  \n",
       "3                                 2  \n",
       "4                                 0  "
      ]
     },
     "execution_count": 14,
     "metadata": {},
     "output_type": "execute_result"
    }
   ],
   "source": [
    "covid_data[\"Tests  performed in last 24 hours\"]=covid_data[\"Tests  performed in last 24 hours\"].str.replace('No 0', '0')\n",
    "covid_data.head()"
   ]
  },
  {
   "cell_type": "code",
   "execution_count": 15,
   "metadata": {},
   "outputs": [
    {
     "name": "stdout",
     "output_type": "stream",
     "text": [
      "Cumulative                             int64\n",
      "Cumulative  Test positive              int64\n",
      "Cumulative  tests performed            int64\n",
      "Date                                  object\n",
      "Discharged                             int64\n",
      "Expired                                int64\n",
      "Home Quarantine                      float64\n",
      "New  (last 24 hrs)                     int64\n",
      "Region                                object\n",
      "Still admitted                         int64\n",
      "Tests  performed in last 24 hours    float64\n",
      "dtype: object\n"
     ]
    }
   ],
   "source": [
    "covid_data[\"Tests  performed in last 24 hours\"]=covid_data[\"Tests  performed in last 24 hours\"].astype(str).astype(float)\n",
    "print(covid_data.dtypes)"
   ]
  },
  {
   "cell_type": "markdown",
   "metadata": {},
   "source": [
    "Now we will change datatype of column 'Date' from object to date"
   ]
  },
  {
   "cell_type": "code",
   "execution_count": 16,
   "metadata": {},
   "outputs": [],
   "source": [
    "covid_data['Date'] = pd.to_datetime(covid_data['Date'])"
   ]
  },
  {
   "cell_type": "code",
   "execution_count": 17,
   "metadata": {},
   "outputs": [],
   "source": [
    "#covid_data[\"Region\"]=covid_data[\"Region\"].astype(str)\n",
    "#covid_data[\"Region\"]=covid_data[\"Region\"].str.split(',') \n",
    "#covid_data[\"Region\"].dtype=pd.StringDtype()\n",
    "#dtype=pd.StringDtype())"
   ]
  },
  {
   "cell_type": "code",
   "execution_count": 18,
   "metadata": {},
   "outputs": [
    {
     "data": {
      "text/plain": [
       "Cumulative                                    int64\n",
       "Cumulative  Test positive                     int64\n",
       "Cumulative  tests performed                   int64\n",
       "Date                                 datetime64[ns]\n",
       "Discharged                                    int64\n",
       "Expired                                       int64\n",
       "Home Quarantine                             float64\n",
       "New  (last 24 hrs)                            int64\n",
       "Region                                       object\n",
       "Still admitted                                int64\n",
       "Tests  performed in last 24 hours           float64\n",
       "dtype: object"
      ]
     },
     "execution_count": 18,
     "metadata": {},
     "output_type": "execute_result"
    }
   ],
   "source": [
    "covid_data.dtypes"
   ]
  },
  {
   "cell_type": "markdown",
   "metadata": {},
   "source": [
    "Now, Writing this cleaned dataset to an excel file"
   ]
  },
  {
   "cell_type": "code",
   "execution_count": 19,
   "metadata": {},
   "outputs": [],
   "source": [
    "covid_data['Date'] = covid_data['Date'].dt.strftime('%Y/%m/%d')\n",
    "writer = pd.ExcelWriter('covid_cleaned_data.xlsx', engine='xlsxwriter',datetime_format='mmm d yyyy hh:mm:ss')\n",
    "covid_data.to_excel(writer, 'Sheet1')\n",
    "writer.save()"
   ]
  },
  {
   "cell_type": "code",
   "execution_count": 20,
   "metadata": {},
   "outputs": [
    {
     "data": {
      "text/plain": [
       "'2020/03/11'"
      ]
     },
     "execution_count": 20,
     "metadata": {},
     "output_type": "execute_result"
    }
   ],
   "source": [
    "#start date \n",
    "covid_data.Date.min()"
   ]
  },
  {
   "cell_type": "code",
   "execution_count": 21,
   "metadata": {},
   "outputs": [
    {
     "data": {
      "text/plain": [
       "'2020/05/11'"
      ]
     },
     "execution_count": 21,
     "metadata": {},
     "output_type": "execute_result"
    }
   ],
   "source": [
    "#max date \n",
    "covid_data.Date.max()"
   ]
  },
  {
   "cell_type": "code",
   "execution_count": 22,
   "metadata": {},
   "outputs": [],
   "source": [
    "import matplotlib.pyplot as plt"
   ]
  },
  {
   "cell_type": "code",
   "execution_count": 26,
   "metadata": {},
   "outputs": [
    {
     "name": "stdout",
     "output_type": "stream",
     "text": [
      "474057 135542 9827 348342\n"
     ]
    },
    {
     "data": {
      "image/png": "[encoded data removed]",
      "text/plain": [
       "<Figure size 864x432 with 1 Axes>"
      ]
     },
     "metadata": {},
     "output_type": "display_data"
    }
   ],
   "source": [
    "confirmed = covid_data['Cumulative  Test positive'].sum()\n",
    "recovered = covid_data['Discharged'].sum()\n",
    "deaths = covid_data['Expired'].sum()\n",
    "active = confirmed - (recovered - deaths)\n",
    "\n",
    "print(confirmed, recovered, deaths, active)\n",
    "\n",
    "labels = ['Active Cases','Recovered Cases','Death Cases']\n",
    "sizes = [active,recovered,deaths]\n",
    "color= ['#66b3ff','green','red']\n",
    "explode = []\n",
    "\n",
    "for i in labels:\n",
    "    explode.append(0.1)\n",
    "    \n",
    "plt.figure(figsize= (12,6))\n",
    "plt.pie(sizes, labels=labels, autopct='%3.1f%%', startangle=9, explode =explode,colors = color)\n",
    "centre_circle = plt.Circle((0,0),0.60,fc='white')\n",
    "\n",
    "fig = plt.gcf()\n",
    "fig.gca().add_artist(centre_circle)\n",
    "plt.title('Pakistan COVID-19 Cases',fontsize = 24)\n",
    "plt.axis('equal')  \n",
    "plt.tight_layout()"
   ]
  },
  {
   "cell_type": "code",
   "execution_count": 27,
   "metadata": {},
   "outputs": [],
   "source": [
    "import plotly.express as px\n",
    "import plotly.express as ex\n",
    "import matplotlib.pyplot as plt\n",
    "from statsmodels.tsa.statespace.sarimax import SARIMAX\n",
    "from statsmodels.tsa.arima_model import ARIMA\n",
    "import plotly.graph_objects as go\n",
    "import pandas as pd\n",
    "import warnings\n",
    "warnings.filterwarnings(\"ignore\")\n",
    "\n",
    "%matplotlib inline\n"
   ]
  },
  {
   "cell_type": "code",
   "execution_count": 32,
   "metadata": {},
   "outputs": [
    {
     "data": {
      "application/vnd.plotly.v1+json": {
       "config": {
        "plotlyServerURL": "https://plot.ly"
       },
       "data": [
        {
         "marker": {
          "color": "blue"
         },
         "mode": "lines+markers",
         "name": "Confimned Cases",
         "type": "scatter",
         "x": [
          "2020/03/11",
          "2020/03/11",
          "2020/03/11",
          "2020/03/11",
          "2020/03/11",
          "2020/03/11",
          "2020/03/11",
          "2020/03/11",
          "2020/03/12",
          "2020/03/12",
          "2020/03/12",
          "2020/03/12",
          "2020/03/12",
          "2020/03/12",
          "2020/03/12",
          "2020/03/12",
          "2020/03/13",
          "2020/03/13",
          "2020/03/13",
          "2020/03/13",
          "2020/03/13",
          "2020/03/13",
          "2020/03/13",
          "2020/03/13",
          "2020/03/14",
          "2020/03/14",
          "2020/03/14",
          "2020/03/14",
          "2020/03/14",
          "2020/03/14",
          "2020/03/14",
          "2020/03/14",
          "2020/03/15",
          "2020/03/15",
          "2020/03/15",
          "2020/03/15",
          "2020/03/15",
          "2020/03/15",
          "2020/03/15",
          "2020/03/15",
          "2020/03/16",
          "2020/03/16",
          "2020/03/16",
          "2020/03/16",
          "2020/03/16",
          "2020/03/16",
          "2020/03/16",
          "2020/03/16",
          "2020/03/16",
          "2020/03/17",
          "2020/03/17",
          "2020/03/17",
          "2020/03/17",
          "2020/03/17",
          "2020/03/17",
          "2020/03/17",
          "2020/03/17",
          "2020/03/18",
          "2020/03/18",
          "2020/03/18",
          "2020/03/18",
          "2020/03/18",
          "2020/03/18",
          "2020/03/18",
          "2020/03/18",
          "2020/03/19",
          "2020/03/19",
          "2020/03/19",
          "2020/03/19",
          "2020/03/19",
          "2020/03/19",
          "2020/03/19",
          "2020/03/19",
          "2020/03/20",
          "2020/03/20",
          "2020/03/20",
          "2020/03/20",
          "2020/03/20",
          "2020/03/20",
          "2020/03/20",
          "2020/03/20",
          "2020/03/21",
          "2020/03/21",
          "2020/03/21",
          "2020/03/21",
          "2020/03/21",
          "2020/03/21",
          "2020/03/21",
          "2020/03/21",
          "2020/03/22",
          "2020/03/22",
          "2020/03/22",
          "2020/03/22",
          "2020/03/22",
          "2020/03/22",
          "2020/03/22",
          "2020/03/22",
          "2020/03/23",
          "2020/03/23",
          "2020/03/23",
          "2020/03/23",
          "2020/03/23",
          "2020/03/23",
          "2020/03/23",
          "2020/03/24",
          "2020/03/24",
          "2020/03/24",
          "2020/03/24",
          "2020/03/24",
          "2020/03/24",
          "2020/03/24",
          "2020/03/25",
          "2020/03/25",
          "2020/03/25",
          "2020/03/25",
          "2020/03/25",
          "2020/03/25",
          "2020/03/25",
          "2020/03/26",
          "2020/03/26",
          "2020/03/26",
          "2020/03/26",
          "2020/03/26",
          "2020/03/26",
          "2020/03/26",
          "2020/03/27",
          "2020/03/27",
          "2020/03/27",
          "2020/03/27",
          "2020/03/27",
          "2020/03/27",
          "2020/03/27",
          "2020/03/28",
          "2020/03/28",
          "2020/03/28",
          "2020/03/28",
          "2020/03/28",
          "2020/03/28",
          "2020/03/28",
          "2020/03/29",
          "2020/03/29",
          "2020/03/29",
          "2020/03/29",
          "2020/03/29",
          "2020/03/29",
          "2020/03/29",
          "2020/03/30",
          "2020/03/30",
          "2020/03/30",
          "2020/03/30",
          "2020/03/30",
          "2020/03/30",
          "2020/03/30",
          "2020/03/31",
          "2020/03/31",
          "2020/03/31",
          "2020/03/31",
          "2020/03/31",
          "2020/03/31",
          "2020/03/31",
          "2020/04/01",
          "2020/04/01",
          "2020/04/01",
          "2020/04/01",
          "2020/04/01",
          "2020/04/01",
          "2020/04/01",
          "2020/04/02",
          "2020/04/02",
          "2020/04/02",
          "2020/04/02",
          "2020/04/02",
          "2020/04/02",
          "2020/04/02",
          "2020/04/03",
          "2020/04/03",
          "2020/04/03",
          "2020/04/03",
          "2020/04/03",
          "2020/04/03",
          "2020/04/03",
          "2020/04/04",
          "2020/04/04",
          "2020/04/04",
          "2020/04/04",
          "2020/04/04",
          "2020/04/04",
          "2020/04/04",
          "2020/04/05",
          "2020/04/05",
          "2020/04/05",
          "2020/04/05",
          "2020/04/05",
          "2020/04/05",
          "2020/04/05",
          "2020/04/06",
          "2020/04/06",
          "2020/04/06",
          "2020/04/06",
          "2020/04/06",
          "2020/04/06",
          "2020/04/06",
          "2020/04/07",
          "2020/04/07",
          "2020/04/07",
          "2020/04/07",
          "2020/04/07",
          "2020/04/07",
          "2020/04/07",
          "2020/04/08",
          "2020/04/08",
          "2020/04/08",
          "2020/04/08",
          "2020/04/08",
          "2020/04/08",
          "2020/04/08",
          "2020/04/09",
          "2020/04/09",
          "2020/04/09",
          "2020/04/09",
          "2020/04/09",
          "2020/04/09",
          "2020/04/09",
          "2020/04/10",
          "2020/04/10",
          "2020/04/10",
          "2020/04/10",
          "2020/04/10",
          "2020/04/10",
          "2020/04/10",
          "2020/04/11",
          "2020/04/11",
          "2020/04/11",
          "2020/04/11",
          "2020/04/11",
          "2020/04/11",
          "2020/04/11",
          "2020/04/12",
          "2020/04/12",
          "2020/04/12",
          "2020/04/12",
          "2020/04/12",
          "2020/04/12",
          "2020/04/12",
          "2020/04/13",
          "2020/04/13",
          "2020/04/13",
          "2020/04/13",
          "2020/04/13",
          "2020/04/13",
          "2020/04/13",
          "2020/04/14",
          "2020/04/14",
          "2020/04/14",
          "2020/04/14",
          "2020/04/14",
          "2020/04/14",
          "2020/04/14",
          "2020/04/15",
          "2020/04/15",
          "2020/04/15",
          "2020/04/15",
          "2020/04/15",
          "2020/04/15",
          "2020/04/15",
          "2020/04/16",
          "2020/04/16",
          "2020/04/16",
          "2020/04/16",
          "2020/04/16",
          "2020/04/16",
          "2020/04/16",
          "2020/04/17",
          "2020/04/17",
          "2020/04/17",
          "2020/04/17",
          "2020/04/17",
          "2020/04/17",
          "2020/04/17",
          "2020/04/18",
          "2020/04/18",
          "2020/04/18",
          "2020/04/18",
          "2020/04/18",
          "2020/04/18",
          "2020/04/18",
          "2020/04/19",
          "2020/04/19",
          "2020/04/19",
          "2020/04/19",
          "2020/04/19",
          "2020/04/19",
          "2020/04/19",
          "2020/04/20",
          "2020/04/20",
          "2020/04/20",
          "2020/04/20",
          "2020/04/20",
          "2020/04/20",
          "2020/04/20",
          "2020/04/21",
          "2020/04/21",
          "2020/04/21",
          "2020/04/21",
          "2020/04/21",
          "2020/04/21",
          "2020/04/21",
          "2020/04/22",
          "2020/04/22",
          "2020/04/22",
          "2020/04/22",
          "2020/04/22",
          "2020/04/22",
          "2020/04/22",
          "2020/04/23",
          "2020/04/23",
          "2020/04/23",
          "2020/04/23",
          "2020/04/23",
          "2020/04/23",
          "2020/04/23",
          "2020/04/24",
          "2020/04/24",
          "2020/04/24",
          "2020/04/24",
          "2020/04/24",
          "2020/04/24",
          "2020/04/24",
          "2020/04/25",
          "2020/04/25",
          "2020/04/25",
          "2020/04/25",
          "2020/04/25",
          "2020/04/25",
          "2020/04/25",
          "2020/04/26",
          "2020/04/26",
          "2020/04/26",
          "2020/04/26",
          "2020/04/26",
          "2020/04/26",
          "2020/04/26",
          "2020/04/27",
          "2020/04/27",
          "2020/04/27",
          "2020/04/27",
          "2020/04/27",
          "2020/04/27",
          "2020/04/27",
          "2020/04/28",
          "2020/04/28",
          "2020/04/28",
          "2020/04/28",
          "2020/04/28",
          "2020/04/28",
          "2020/04/28",
          "2020/04/29",
          "2020/04/29",
          "2020/04/29",
          "2020/04/29",
          "2020/04/29",
          "2020/04/29",
          "2020/04/29",
          "2020/04/30",
          "2020/04/30",
          "2020/04/30",
          "2020/04/30",
          "2020/04/30",
          "2020/04/30",
          "2020/04/30",
          "2020/05/01",
          "2020/05/01",
          "2020/05/01",
          "2020/05/01",
          "2020/05/01",
          "2020/05/01",
          "2020/05/01",
          "2020/05/02",
          "2020/05/02",
          "2020/05/02",
          "2020/05/02",
          "2020/05/02",
          "2020/05/02",
          "2020/05/02",
          "2020/05/04",
          "2020/05/04",
          "2020/05/04",
          "2020/05/04",
          "2020/05/04",
          "2020/05/04",
          "2020/05/04",
          "2020/05/05",
          "2020/05/05",
          "2020/05/05",
          "2020/05/05",
          "2020/05/05",
          "2020/05/05",
          "2020/05/05",
          "2020/05/06",
          "2020/05/06",
          "2020/05/06",
          "2020/05/06",
          "2020/05/06",
          "2020/05/06",
          "2020/05/06",
          "2020/05/07",
          "2020/05/07",
          "2020/05/07",
          "2020/05/07",
          "2020/05/07",
          "2020/05/07",
          "2020/05/07",
          "2020/05/08",
          "2020/05/08",
          "2020/05/08",
          "2020/05/08",
          "2020/05/08",
          "2020/05/08",
          "2020/05/08",
          "2020/05/09",
          "2020/05/09",
          "2020/05/09",
          "2020/05/09",
          "2020/05/09",
          "2020/05/09",
          "2020/05/09",
          "2020/05/10",
          "2020/05/10",
          "2020/05/10",
          "2020/05/10",
          "2020/05/10",
          "2020/05/10",
          "2020/05/10",
          "2020/05/11",
          "2020/05/11",
          "2020/05/11",
          "2020/05/11",
          "2020/05/11",
          "2020/05/11",
          "2020/05/11"
         ],
         "y": [
          2,
          0,
          14,
          0,
          0,
          1,
          0,
          2,
          2,
          0,
          14,
          0,
          0,
          1,
          0,
          3,
          2,
          0,
          15,
          0,
          0,
          1,
          0,
          3,
          3,
          0,
          16,
          0,
          0,
          6,
          0,
          3,
          4,
          0,
          18,
          0,
          0,
          6,
          0,
          3,
          4,
          1,
          34,
          0,
          0,
          5,
          0,
          3,
          6,
          4,
          1,
          150,
          15,
          0,
          14,
          0,
          3,
          8,
          26,
          172,
          17,
          0,
          15,
          0,
          3,
          5,
          33,
          208,
          19,
          0,
          23,
          1,
          13,
          10,
          80,
          245,
          23,
          0,
          81,
          1,
          21,
          11,
          96,
          253,
          23,
          0,
          81,
          1,
          30,
          11,
          152,
          396,
          31,
          0,
          104,
          1,
          55,
          15,
          225,
          333,
          31,
          108,
          1,
          71,
          15,
          249,
          394,
          38,
          110,
          1,
          80,
          18,
          296,
          407,
          78,
          110,
          1,
          81,
          25,
          323,
          413,
          80,
          131,
          1,
          84,
          25,
          408,
          417,
          123,
          131,
          2,
          91,
          39,
          490,
          457,
          180,
          133,
          2,
          107,
          43,
          558,
          481,
          188,
          138,
          2,
          116,
          51,
          593,
          508,
          195,
          144,
          6,
          128,
          58,
          652,
          627,
          221,
          153,
          6,
          148,
          54,
          708,
          676,
          253,
          158,
          6,
          184,
          62,
          845,
          743,
          276,
          169,
          9,
          187,
          68,
          920,
          783,
          311,
          169,
          9,
          190,
          11,
          175,
          193,
          75,
          343,
          1072,
          839,
          12,
          185,
          206,
          78,
          372,
          1163,
          864,
          15,
          191,
          210,
          82,
          405,
          1493,
          881,
          18,
          202,
          211,
          83,
          500,
          1918,
          932,
          19,
          206,
          212,
          92,
          527,
          2030,
          986,
          28,
          212,
          213,
          102,
          560,
          2171,
          1036,
          33,
          219,
          215,
          107,
          620,
          2279,
          1128,
          34,
          220,
          215,
          113,
          656,
          2336,
          1214,
          35,
          228,
          216,
          119,
          697,
          2425,
          1318,
          40,
          230,
          224,
          131,
          744,
          2594,
          1411,
          43,
          231,
          233,
          131,
          800,
          2826,
          1452,
          46,
          240,
          234,
          140,
          865,
          2945,
          1518,
          46,
          280,
          237,
          145,
          912,
          3217,
          1668,
          46,
          303,
          245,
          154,
          993,
          3276,
          2008,
          48,
          335,
          250,
          163,
          1077,
          3391,
          2217,
          48,
          376,
          257,
          171,
          1137,
          3649,
          2355,
          49,
          432,
          263,
          181,
          1235,
          3721,
          2537,
          50,
          465,
          281,
          185,
          1276,
          4195,
          2764,
          51,
          552,
          290,
          204,
          1453,
          4590,
          3373,
          55,
          607,
          300,
          214,
          1541,
          4767,
          3671,
          55,
          656,
          307,
          223,
          1708,
          5046,
          3945,
          55,
          722,
          308,
          235,
          1793,
          5378,
          4232,
          55,
          722,
          308,
          235,
          1793,
          5378,
          4232,
          59,
          781,
          318,
          245,
          1864,
          5446,
          4615,
          65,
          853,
          320,
          261,
          1984,
          5640,
          4956,
          65,
          915,
          330,
          297,
          2160,
          5827,
          5291,
          66,
          978,
          333,
          313,
          2313,
          6061,
          5695,
          66,
          1049,
          339,
          343,
          2627,
          6340,
          6053,
          66,
          1136,
          340,
          365,
          2799,
          6733,
          6675,
          71,
          1218,
          364,
          415,
          3129,
          7524,
          7465,
          71,
          1321,
          372,
          464,
          3288,
          8103,
          7882,
          76,
          1495,
          386,
          485,
          3499,
          8420,
          8189,
          76,
          1659,
          388,
          521,
          3712,
          9077,
          8640,
          78,
          1725,
          394,
          558,
          3956,
          10033,
          9093,
          79,
          1876,
          421,
          609,
          4327,
          10471,
          9691,
          86,
          1935,
          430,
          641,
          4509,
          11093,
          10771,
          86,
          2017,
          442,
          679,
          4669,
          11568,
          11480
         ]
        },
        {
         "marker": {
          "color": "green"
         },
         "mode": "lines+markers",
         "name": "Recovered",
         "type": "scatter",
         "x": [
          "2020/03/11",
          "2020/03/11",
          "2020/03/11",
          "2020/03/11",
          "2020/03/11",
          "2020/03/11",
          "2020/03/11",
          "2020/03/11",
          "2020/03/12",
          "2020/03/12",
          "2020/03/12",
          "2020/03/12",
          "2020/03/12",
          "2020/03/12",
          "2020/03/12",
          "2020/03/12",
          "2020/03/13",
          "2020/03/13",
          "2020/03/13",
          "2020/03/13",
          "2020/03/13",
          "2020/03/13",
          "2020/03/13",
          "2020/03/13",
          "2020/03/14",
          "2020/03/14",
          "2020/03/14",
          "2020/03/14",
          "2020/03/14",
          "2020/03/14",
          "2020/03/14",
          "2020/03/14",
          "2020/03/15",
          "2020/03/15",
          "2020/03/15",
          "2020/03/15",
          "2020/03/15",
          "2020/03/15",
          "2020/03/15",
          "2020/03/15",
          "2020/03/16",
          "2020/03/16",
          "2020/03/16",
          "2020/03/16",
          "2020/03/16",
          "2020/03/16",
          "2020/03/16",
          "2020/03/16",
          "2020/03/16",
          "2020/03/17",
          "2020/03/17",
          "2020/03/17",
          "2020/03/17",
          "2020/03/17",
          "2020/03/17",
          "2020/03/17",
          "2020/03/17",
          "2020/03/18",
          "2020/03/18",
          "2020/03/18",
          "2020/03/18",
          "2020/03/18",
          "2020/03/18",
          "2020/03/18",
          "2020/03/18",
          "2020/03/19",
          "2020/03/19",
          "2020/03/19",
          "2020/03/19",
          "2020/03/19",
          "2020/03/19",
          "2020/03/19",
          "2020/03/19",
          "2020/03/20",
          "2020/03/20",
          "2020/03/20",
          "2020/03/20",
          "2020/03/20",
          "2020/03/20",
          "2020/03/20",
          "2020/03/20",
          "2020/03/21",
          "2020/03/21",
          "2020/03/21",
          "2020/03/21",
          "2020/03/21",
          "2020/03/21",
          "2020/03/21",
          "2020/03/21",
          "2020/03/22",
          "2020/03/22",
          "2020/03/22",
          "2020/03/22",
          "2020/03/22",
          "2020/03/22",
          "2020/03/22",
          "2020/03/22",
          "2020/03/23",
          "2020/03/23",
          "2020/03/23",
          "2020/03/23",
          "2020/03/23",
          "2020/03/23",
          "2020/03/23",
          "2020/03/24",
          "2020/03/24",
          "2020/03/24",
          "2020/03/24",
          "2020/03/24",
          "2020/03/24",
          "2020/03/24",
          "2020/03/25",
          "2020/03/25",
          "2020/03/25",
          "2020/03/25",
          "2020/03/25",
          "2020/03/25",
          "2020/03/25",
          "2020/03/26",
          "2020/03/26",
          "2020/03/26",
          "2020/03/26",
          "2020/03/26",
          "2020/03/26",
          "2020/03/26",
          "2020/03/27",
          "2020/03/27",
          "2020/03/27",
          "2020/03/27",
          "2020/03/27",
          "2020/03/27",
          "2020/03/27",
          "2020/03/28",
          "2020/03/28",
          "2020/03/28",
          "2020/03/28",
          "2020/03/28",
          "2020/03/28",
          "2020/03/28",
          "2020/03/29",
          "2020/03/29",
          "2020/03/29",
          "2020/03/29",
          "2020/03/29",
          "2020/03/29",
          "2020/03/29",
          "2020/03/30",
          "2020/03/30",
          "2020/03/30",
          "2020/03/30",
          "2020/03/30",
          "2020/03/30",
          "2020/03/30",
          "2020/03/31",
          "2020/03/31",
          "2020/03/31",
          "2020/03/31",
          "2020/03/31",
          "2020/03/31",
          "2020/03/31",
          "2020/04/01",
          "2020/04/01",
          "2020/04/01",
          "2020/04/01",
          "2020/04/01",
          "2020/04/01",
          "2020/04/01",
          "2020/04/02",
          "2020/04/02",
          "2020/04/02",
          "2020/04/02",
          "2020/04/02",
          "2020/04/02",
          "2020/04/02",
          "2020/04/03",
          "2020/04/03",
          "2020/04/03",
          "2020/04/03",
          "2020/04/03",
          "2020/04/03",
          "2020/04/03",
          "2020/04/04",
          "2020/04/04",
          "2020/04/04",
          "2020/04/04",
          "2020/04/04",
          "2020/04/04",
          "2020/04/04",
          "2020/04/05",
          "2020/04/05",
          "2020/04/05",
          "2020/04/05",
          "2020/04/05",
          "2020/04/05",
          "2020/04/05",
          "2020/04/06",
          "2020/04/06",
          "2020/04/06",
          "2020/04/06",
          "2020/04/06",
          "2020/04/06",
          "2020/04/06",
          "2020/04/07",
          "2020/04/07",
          "2020/04/07",
          "2020/04/07",
          "2020/04/07",
          "2020/04/07",
          "2020/04/07",
          "2020/04/08",
          "2020/04/08",
          "2020/04/08",
          "2020/04/08",
          "2020/04/08",
          "2020/04/08",
          "2020/04/08",
          "2020/04/09",
          "2020/04/09",
          "2020/04/09",
          "2020/04/09",
          "2020/04/09",
          "2020/04/09",
          "2020/04/09",
          "2020/04/10",
          "2020/04/10",
          "2020/04/10",
          "2020/04/10",
          "2020/04/10",
          "2020/04/10",
          "2020/04/10",
          "2020/04/11",
          "2020/04/11",
          "2020/04/11",
          "2020/04/11",
          "2020/04/11",
          "2020/04/11",
          "2020/04/11",
          "2020/04/12",
          "2020/04/12",
          "2020/04/12",
          "2020/04/12",
          "2020/04/12",
          "2020/04/12",
          "2020/04/12",
          "2020/04/13",
          "2020/04/13",
          "2020/04/13",
          "2020/04/13",
          "2020/04/13",
          "2020/04/13",
          "2020/04/13",
          "2020/04/14",
          "2020/04/14",
          "2020/04/14",
          "2020/04/14",
          "2020/04/14",
          "2020/04/14",
          "2020/04/14",
          "2020/04/15",
          "2020/04/15",
          "2020/04/15",
          "2020/04/15",
          "2020/04/15",
          "2020/04/15",
          "2020/04/15",
          "2020/04/16",
          "2020/04/16",
          "2020/04/16",
          "2020/04/16",
          "2020/04/16",
          "2020/04/16",
          "2020/04/16",
          "2020/04/17",
          "2020/04/17",
          "2020/04/17",
          "2020/04/17",
          "2020/04/17",
          "2020/04/17",
          "2020/04/17",
          "2020/04/18",
          "2020/04/18",
          "2020/04/18",
          "2020/04/18",
          "2020/04/18",
          "2020/04/18",
          "2020/04/18",
          "2020/04/19",
          "2020/04/19",
          "2020/04/19",
          "2020/04/19",
          "2020/04/19",
          "2020/04/19",
          "2020/04/19",
          "2020/04/20",
          "2020/04/20",
          "2020/04/20",
          "2020/04/20",
          "2020/04/20",
          "2020/04/20",
          "2020/04/20",
          "2020/04/21",
          "2020/04/21",
          "2020/04/21",
          "2020/04/21",
          "2020/04/21",
          "2020/04/21",
          "2020/04/21",
          "2020/04/22",
          "2020/04/22",
          "2020/04/22",
          "2020/04/22",
          "2020/04/22",
          "2020/04/22",
          "2020/04/22",
          "2020/04/23",
          "2020/04/23",
          "2020/04/23",
          "2020/04/23",
          "2020/04/23",
          "2020/04/23",
          "2020/04/23",
          "2020/04/24",
          "2020/04/24",
          "2020/04/24",
          "2020/04/24",
          "2020/04/24",
          "2020/04/24",
          "2020/04/24",
          "2020/04/25",
          "2020/04/25",
          "2020/04/25",
          "2020/04/25",
          "2020/04/25",
          "2020/04/25",
          "2020/04/25",
          "2020/04/26",
          "2020/04/26",
          "2020/04/26",
          "2020/04/26",
          "2020/04/26",
          "2020/04/26",
          "2020/04/26",
          "2020/04/27",
          "2020/04/27",
          "2020/04/27",
          "2020/04/27",
          "2020/04/27",
          "2020/04/27",
          "2020/04/27",
          "2020/04/28",
          "2020/04/28",
          "2020/04/28",
          "2020/04/28",
          "2020/04/28",
          "2020/04/28",
          "2020/04/28",
          "2020/04/29",
          "2020/04/29",
          "2020/04/29",
          "2020/04/29",
          "2020/04/29",
          "2020/04/29",
          "2020/04/29",
          "2020/04/30",
          "2020/04/30",
          "2020/04/30",
          "2020/04/30",
          "2020/04/30",
          "2020/04/30",
          "2020/04/30",
          "2020/05/01",
          "2020/05/01",
          "2020/05/01",
          "2020/05/01",
          "2020/05/01",
          "2020/05/01",
          "2020/05/01",
          "2020/05/02",
          "2020/05/02",
          "2020/05/02",
          "2020/05/02",
          "2020/05/02",
          "2020/05/02",
          "2020/05/02",
          "2020/05/04",
          "2020/05/04",
          "2020/05/04",
          "2020/05/04",
          "2020/05/04",
          "2020/05/04",
          "2020/05/04",
          "2020/05/05",
          "2020/05/05",
          "2020/05/05",
          "2020/05/05",
          "2020/05/05",
          "2020/05/05",
          "2020/05/05",
          "2020/05/06",
          "2020/05/06",
          "2020/05/06",
          "2020/05/06",
          "2020/05/06",
          "2020/05/06",
          "2020/05/06",
          "2020/05/07",
          "2020/05/07",
          "2020/05/07",
          "2020/05/07",
          "2020/05/07",
          "2020/05/07",
          "2020/05/07",
          "2020/05/08",
          "2020/05/08",
          "2020/05/08",
          "2020/05/08",
          "2020/05/08",
          "2020/05/08",
          "2020/05/08",
          "2020/05/09",
          "2020/05/09",
          "2020/05/09",
          "2020/05/09",
          "2020/05/09",
          "2020/05/09",
          "2020/05/09",
          "2020/05/10",
          "2020/05/10",
          "2020/05/10",
          "2020/05/10",
          "2020/05/10",
          "2020/05/10",
          "2020/05/10",
          "2020/05/11",
          "2020/05/11",
          "2020/05/11",
          "2020/05/11",
          "2020/05/11",
          "2020/05/11",
          "2020/05/11"
         ],
         "y": [
          0,
          0,
          1,
          0,
          0,
          0,
          0,
          0,
          0,
          0,
          2,
          0,
          0,
          0,
          0,
          0,
          0,
          0,
          2,
          0,
          0,
          0,
          0,
          0,
          0,
          0,
          3,
          0,
          0,
          0,
          0,
          0,
          0,
          0,
          3,
          0,
          0,
          0,
          0,
          0,
          0,
          0,
          3,
          0,
          0,
          0,
          0,
          0,
          0,
          1,
          0,
          3,
          0,
          0,
          0,
          0,
          0,
          1,
          0,
          3,
          0,
          0,
          0,
          0,
          0,
          2,
          0,
          3,
          0,
          0,
          0,
          0,
          0,
          2,
          0,
          3,
          0,
          0,
          0,
          0,
          0,
          2,
          0,
          3,
          0,
          0,
          0,
          0,
          0,
          2,
          0,
          3,
          0,
          0,
          0,
          0,
          0,
          2,
          0,
          4,
          0,
          0,
          0,
          0,
          2,
          0,
          4,
          0,
          0,
          0,
          0,
          2,
          2,
          14,
          0,
          0,
          0,
          0,
          2,
          3,
          14,
          2,
          0,
          0,
          0,
          2,
          3,
          14,
          2,
          0,
          0,
          2,
          2,
          4,
          14,
          2,
          2,
          0,
          3,
          2,
          4,
          14,
          2,
          2,
          0,
          4,
          3,
          5,
          16,
          2,
          2,
          0,
          4,
          3,
          5,
          42,
          2,
          2,
          0,
          4,
          3,
          5,
          51,
          2,
          17,
          0,
          4,
          3,
          6,
          58,
          19,
          17,
          0,
          4,
          3,
          6,
          65,
          30,
          17,
          0,
          5,
          0,
          17,
          9,
          3,
          30,
          6,
          65,
          1,
          17,
          9,
          3,
          30,
          25,
          85,
          1,
          30,
          13,
          3,
          62,
          25,
          123,
          1,
          63,
          15,
          3,
          69,
          25,
          253,
          1,
          75,
          15,
          3,
          70,
          34,
          269,
          1,
          76,
          96,
          10,
          74,
          35,
          280,
          1,
          89,
          111,
          10,
          128,
          39,
          349,
          1,
          95,
          125,
          13,
          131,
          39,
          358,
          1,
          95,
          146,
          13,
          142,
          258,
          371,
          2,
          123,
          149,
          15,
          145,
          272,
          389,
          4,
          124,
          155,
          15,
          153,
          508,
          419,
          4,
          137,
          175,
          17,
          178,
          508,
          427,
          9,
          140,
          178,
          17,
          191,
          550,
          560,
          9,
          142,
          183,
          20,
          205,
          630,
          576,
          9,
          142,
          192,
          20,
          216,
          672,
          581,
          9,
          144,
          193,
          20,
          226,
          684,
          592,
          10,
          152,
          194,
          20,
          267,
          702,
          625,
          16,
          161,
          195,
          20,
          297,
          742,
          635,
          23,
          168,
          201,
          26,
          414,
          790,
          715,
          0,
          346,
          75,
          173,
          628,
          2497,
          1805,
          0,
          393,
          81,
          177,
          738,
          2577,
          1893,
          0,
          449,
          79,
          188,
          760,
          2577,
          2146,
          32,
          176,
          216,
          29,
          485,
          1126,
          802,
          35,
          176,
          219,
          29,
          515,
          1183,
          872,
          35,
          176,
          222,
          36,
          533,
          1306,
          925,
          37,
          176,
          224,
          36,
          562,
          1427,
          963,
          37,
          180,
          228,
          44,
          614,
          1780,
          1169,
          43,
          183,
          248,
          44,
          654,
          1921,
          1222,
          0,
          847,
          72,
          302,
          1322,
          2610,
          4044,
          0,
          917,
          91,
          339,
          1535,
          2775,
          4638,
          0,
          1014,
          80,
          383,
          1578,
          2779,
          4994,
          54,
          206,
          282,
          56,
          875,
          3073,
          1671,
          57,
          209,
          288,
          56,
          939,
          3184,
          1731,
          58,
          209,
          292,
          72,
          984,
          4062,
          1853,
          60,
          222,
          298,
          72,
          1033,
          4131,
          1940,
          60,
          242,
          303,
          72,
          1086,
          4240,
          2020,
          64,
          242,
          304,
          72,
          1126,
          4323,
          2081
         ]
        },
        {
         "marker": {
          "color": "red"
         },
         "mode": "lines+markers",
         "name": "Deaths",
         "type": "scatter",
         "x": [
          "2020/03/11",
          "2020/03/11",
          "2020/03/11",
          "2020/03/11",
          "2020/03/11",
          "2020/03/11",
          "2020/03/11",
          "2020/03/11",
          "2020/03/12",
          "2020/03/12",
          "2020/03/12",
          "2020/03/12",
          "2020/03/12",
          "2020/03/12",
          "2020/03/12",
          "2020/03/12",
          "2020/03/13",
          "2020/03/13",
          "2020/03/13",
          "2020/03/13",
          "2020/03/13",
          "2020/03/13",
          "2020/03/13",
          "2020/03/13",
          "2020/03/14",
          "2020/03/14",
          "2020/03/14",
          "2020/03/14",
          "2020/03/14",
          "2020/03/14",
          "2020/03/14",
          "2020/03/14",
          "2020/03/15",
          "2020/03/15",
          "2020/03/15",
          "2020/03/15",
          "2020/03/15",
          "2020/03/15",
          "2020/03/15",
          "2020/03/15",
          "2020/03/16",
          "2020/03/16",
          "2020/03/16",
          "2020/03/16",
          "2020/03/16",
          "2020/03/16",
          "2020/03/16",
          "2020/03/16",
          "2020/03/16",
          "2020/03/17",
          "2020/03/17",
          "2020/03/17",
          "2020/03/17",
          "2020/03/17",
          "2020/03/17",
          "2020/03/17",
          "2020/03/17",
          "2020/03/18",
          "2020/03/18",
          "2020/03/18",
          "2020/03/18",
          "2020/03/18",
          "2020/03/18",
          "2020/03/18",
          "2020/03/18",
          "2020/03/19",
          "2020/03/19",
          "2020/03/19",
          "2020/03/19",
          "2020/03/19",
          "2020/03/19",
          "2020/03/19",
          "2020/03/19",
          "2020/03/20",
          "2020/03/20",
          "2020/03/20",
          "2020/03/20",
          "2020/03/20",
          "2020/03/20",
          "2020/03/20",
          "2020/03/20",
          "2020/03/21",
          "2020/03/21",
          "2020/03/21",
          "2020/03/21",
          "2020/03/21",
          "2020/03/21",
          "2020/03/21",
          "2020/03/21",
          "2020/03/22",
          "2020/03/22",
          "2020/03/22",
          "2020/03/22",
          "2020/03/22",
          "2020/03/22",
          "2020/03/22",
          "2020/03/22",
          "2020/03/23",
          "2020/03/23",
          "2020/03/23",
          "2020/03/23",
          "2020/03/23",
          "2020/03/23",
          "2020/03/23",
          "2020/03/24",
          "2020/03/24",
          "2020/03/24",
          "2020/03/24",
          "2020/03/24",
          "2020/03/24",
          "2020/03/24",
          "2020/03/25",
          "2020/03/25",
          "2020/03/25",
          "2020/03/25",
          "2020/03/25",
          "2020/03/25",
          "2020/03/25",
          "2020/03/26",
          "2020/03/26",
          "2020/03/26",
          "2020/03/26",
          "2020/03/26",
          "2020/03/26",
          "2020/03/26",
          "2020/03/27",
          "2020/03/27",
          "2020/03/27",
          "2020/03/27",
          "2020/03/27",
          "2020/03/27",
          "2020/03/27",
          "2020/03/28",
          "2020/03/28",
          "2020/03/28",
          "2020/03/28",
          "2020/03/28",
          "2020/03/28",
          "2020/03/28",
          "2020/03/29",
          "2020/03/29",
          "2020/03/29",
          "2020/03/29",
          "2020/03/29",
          "2020/03/29",
          "2020/03/29",
          "2020/03/30",
          "2020/03/30",
          "2020/03/30",
          "2020/03/30",
          "2020/03/30",
          "2020/03/30",
          "2020/03/30",
          "2020/03/31",
          "2020/03/31",
          "2020/03/31",
          "2020/03/31",
          "2020/03/31",
          "2020/03/31",
          "2020/03/31",
          "2020/04/01",
          "2020/04/01",
          "2020/04/01",
          "2020/04/01",
          "2020/04/01",
          "2020/04/01",
          "2020/04/01",
          "2020/04/02",
          "2020/04/02",
          "2020/04/02",
          "2020/04/02",
          "2020/04/02",
          "2020/04/02",
          "2020/04/02",
          "2020/04/03",
          "2020/04/03",
          "2020/04/03",
          "2020/04/03",
          "2020/04/03",
          "2020/04/03",
          "2020/04/03",
          "2020/04/04",
          "2020/04/04",
          "2020/04/04",
          "2020/04/04",
          "2020/04/04",
          "2020/04/04",
          "2020/04/04",
          "2020/04/05",
          "2020/04/05",
          "2020/04/05",
          "2020/04/05",
          "2020/04/05",
          "2020/04/05",
          "2020/04/05",
          "2020/04/06",
          "2020/04/06",
          "2020/04/06",
          "2020/04/06",
          "2020/04/06",
          "2020/04/06",
          "2020/04/06",
          "2020/04/07",
          "2020/04/07",
          "2020/04/07",
          "2020/04/07",
          "2020/04/07",
          "2020/04/07",
          "2020/04/07",
          "2020/04/08",
          "2020/04/08",
          "2020/04/08",
          "2020/04/08",
          "2020/04/08",
          "2020/04/08",
          "2020/04/08",
          "2020/04/09",
          "2020/04/09",
          "2020/04/09",
          "2020/04/09",
          "2020/04/09",
          "2020/04/09",
          "2020/04/09",
          "2020/04/10",
          "2020/04/10",
          "2020/04/10",
          "2020/04/10",
          "2020/04/10",
          "2020/04/10",
          "2020/04/10",
          "2020/04/11",
          "2020/04/11",
          "2020/04/11",
          "2020/04/11",
          "2020/04/11",
          "2020/04/11",
          "2020/04/11",
          "2020/04/12",
          "2020/04/12",
          "2020/04/12",
          "2020/04/12",
          "2020/04/12",
          "2020/04/12",
          "2020/04/12",
          "2020/04/13",
          "2020/04/13",
          "2020/04/13",
          "2020/04/13",
          "2020/04/13",
          "2020/04/13",
          "2020/04/13",
          "2020/04/14",
          "2020/04/14",
          "2020/04/14",
          "2020/04/14",
          "2020/04/14",
          "2020/04/14",
          "2020/04/14",
          "2020/04/15",
          "2020/04/15",
          "2020/04/15",
          "2020/04/15",
          "2020/04/15",
          "2020/04/15",
          "2020/04/15",
          "2020/04/16",
          "2020/04/16",
          "2020/04/16",
          "2020/04/16",
          "2020/04/16",
          "2020/04/16",
          "2020/04/16",
          "2020/04/17",
          "2020/04/17",
          "2020/04/17",
          "2020/04/17",
          "2020/04/17",
          "2020/04/17",
          "2020/04/17",
          "2020/04/18",
          "2020/04/18",
          "2020/04/18",
          "2020/04/18",
          "2020/04/18",
          "2020/04/18",
          "2020/04/18",
          "2020/04/19",
          "2020/04/19",
          "2020/04/19",
          "2020/04/19",
          "2020/04/19",
          "2020/04/19",
          "2020/04/19",
          "2020/04/20",
          "2020/04/20",
          "2020/04/20",
          "2020/04/20",
          "2020/04/20",
          "2020/04/20",
          "2020/04/20",
          "2020/04/21",
          "2020/04/21",
          "2020/04/21",
          "2020/04/21",
          "2020/04/21",
          "2020/04/21",
          "2020/04/21",
          "2020/04/22",
          "2020/04/22",
          "2020/04/22",
          "2020/04/22",
          "2020/04/22",
          "2020/04/22",
          "2020/04/22",
          "2020/04/23",
          "2020/04/23",
          "2020/04/23",
          "2020/04/23",
          "2020/04/23",
          "2020/04/23",
          "2020/04/23",
          "2020/04/24",
          "2020/04/24",
          "2020/04/24",
          "2020/04/24",
          "2020/04/24",
          "2020/04/24",
          "2020/04/24",
          "2020/04/25",
          "2020/04/25",
          "2020/04/25",
          "2020/04/25",
          "2020/04/25",
          "2020/04/25",
          "2020/04/25",
          "2020/04/26",
          "2020/04/26",
          "2020/04/26",
          "2020/04/26",
          "2020/04/26",
          "2020/04/26",
          "2020/04/26",
          "2020/04/27",
          "2020/04/27",
          "2020/04/27",
          "2020/04/27",
          "2020/04/27",
          "2020/04/27",
          "2020/04/27",
          "2020/04/28",
          "2020/04/28",
          "2020/04/28",
          "2020/04/28",
          "2020/04/28",
          "2020/04/28",
          "2020/04/28",
          "2020/04/29",
          "2020/04/29",
          "2020/04/29",
          "2020/04/29",
          "2020/04/29",
          "2020/04/29",
          "2020/04/29",
          "2020/04/30",
          "2020/04/30",
          "2020/04/30",
          "2020/04/30",
          "2020/04/30",
          "2020/04/30",
          "2020/04/30",
          "2020/05/01",
          "2020/05/01",
          "2020/05/01",
          "2020/05/01",
          "2020/05/01",
          "2020/05/01",
          "2020/05/01",
          "2020/05/02",
          "2020/05/02",
          "2020/05/02",
          "2020/05/02",
          "2020/05/02",
          "2020/05/02",
          "2020/05/02",
          "2020/05/04",
          "2020/05/04",
          "2020/05/04",
          "2020/05/04",
          "2020/05/04",
          "2020/05/04",
          "2020/05/04",
          "2020/05/05",
          "2020/05/05",
          "2020/05/05",
          "2020/05/05",
          "2020/05/05",
          "2020/05/05",
          "2020/05/05",
          "2020/05/06",
          "2020/05/06",
          "2020/05/06",
          "2020/05/06",
          "2020/05/06",
          "2020/05/06",
          "2020/05/06",
          "2020/05/07",
          "2020/05/07",
          "2020/05/07",
          "2020/05/07",
          "2020/05/07",
          "2020/05/07",
          "2020/05/07",
          "2020/05/08",
          "2020/05/08",
          "2020/05/08",
          "2020/05/08",
          "2020/05/08",
          "2020/05/08",
          "2020/05/08",
          "2020/05/09",
          "2020/05/09",
          "2020/05/09",
          "2020/05/09",
          "2020/05/09",
          "2020/05/09",
          "2020/05/09",
          "2020/05/10",
          "2020/05/10",
          "2020/05/10",
          "2020/05/10",
          "2020/05/10",
          "2020/05/10",
          "2020/05/10",
          "2020/05/11",
          "2020/05/11",
          "2020/05/11",
          "2020/05/11",
          "2020/05/11",
          "2020/05/11",
          "2020/05/11"
         ],
         "y": [
          0,
          0,
          0,
          0,
          0,
          0,
          0,
          0,
          0,
          0,
          0,
          0,
          0,
          0,
          0,
          0,
          0,
          0,
          0,
          0,
          0,
          0,
          0,
          0,
          0,
          0,
          0,
          0,
          0,
          0,
          0,
          0,
          0,
          0,
          0,
          0,
          0,
          0,
          0,
          0,
          0,
          0,
          0,
          0,
          0,
          0,
          0,
          0,
          0,
          0,
          0,
          0,
          0,
          0,
          0,
          0,
          0,
          0,
          0,
          0,
          0,
          0,
          0,
          0,
          0,
          0,
          0,
          0,
          2,
          0,
          0,
          0,
          0,
          0,
          0,
          0,
          2,
          0,
          0,
          0,
          0,
          0,
          0,
          1,
          2,
          0,
          0,
          0,
          0,
          0,
          0,
          1,
          2,
          0,
          0,
          0,
          0,
          0,
          0,
          1,
          3,
          1,
          0,
          0,
          0,
          0,
          1,
          3,
          1,
          0,
          1,
          0,
          1,
          1,
          3,
          1,
          0,
          1,
          0,
          2,
          1,
          3,
          1,
          0,
          1,
          0,
          3,
          1,
          3,
          1,
          0,
          1,
          0,
          5,
          1,
          3,
          1,
          0,
          1,
          0,
          5,
          2,
          4,
          1,
          0,
          1,
          0,
          6,
          5,
          5,
          1,
          0,
          1,
          0,
          9,
          7,
          6,
          1,
          0,
          2,
          0,
          9,
          8,
          6,
          1,
          0,
          2,
          0,
          11,
          9,
          8,
          1,
          0,
          2,
          0,
          11,
          11,
          9,
          1,
          0,
          3,
          0,
          1,
          3,
          0,
          11,
          11,
          14,
          0,
          1,
          3,
          0,
          14,
          12,
          15,
          0,
          1,
          3,
          0,
          16,
          15,
          15,
          0,
          1,
          3,
          1,
          17,
          15,
          17,
          0,
          2,
          3,
          1,
          18,
          16,
          18,
          0,
          2,
          3,
          1,
          20,
          17,
          20,
          0,
          1,
          3,
          1,
          22,
          18,
          21,
          0,
          1,
          3,
          1,
          25,
          19,
          22,
          0,
          2,
          3,
          1,
          31,
          21,
          28,
          0,
          2,
          3,
          1,
          34,
          23,
          30,
          0,
          2,
          3,
          1,
          35,
          24,
          31,
          0,
          2,
          3,
          1,
          38,
          28,
          35,
          0,
          3,
          3,
          1,
          42,
          34,
          41,
          0,
          5,
          3,
          1,
          45,
          36,
          45,
          0,
          5,
          3,
          1,
          50,
          37,
          47,
          0,
          5,
          3,
          2,
          60,
          41,
          48,
          0,
          5,
          3,
          3,
          67,
          42,
          56,
          0,
          6,
          3,
          3,
          74,
          45,
          61,
          0,
          8,
          3,
          3,
          83,
          58,
          69,
          0,
          8,
          3,
          3,
          85,
          65,
          73,
          0,
          10,
          3,
          3,
          89,
          73,
          75,
          0,
          11,
          3,
          3,
          93,
          81,
          78,
          0,
          11,
          3,
          3,
          93,
          81,
          78,
          0,
          13,
          3,
          3,
          98,
          83,
          81,
          0,
          14,
          3,
          4,
          104,
          91,
          85,
          0,
          14,
          3,
          4,
          114,
          100,
          92,
          0,
          14,
          3,
          4,
          122,
          103,
          100,
          0,
          14,
          3,
          4,
          146,
          106,
          112,
          0,
          16,
          3,
          4,
          161,
          115,
          118,
          0,
          21,
          3,
          4,
          180,
          124,
          130,
          0,
          21,
          3,
          4,
          185,
          136,
          137,
          0,
          21,
          3,
          4,
          194,
          156,
          148,
          0,
          22,
          3,
          4,
          203,
          175,
          157,
          0,
          24,
          3,
          4,
          209,
          183,
          171,
          0,
          24,
          3,
          4,
          221,
          191,
          175,
          0,
          24,
          4,
          5,
          234,
          192,
          180,
          0,
          26,
          4,
          6,
          245,
          197,
          189
         ]
        }
       ],
       "layout": {
        "height": 500,
        "plot_bgcolor": "rgb(180, 170, 175)",
        "template": {
         "data": {
          "bar": [
           {
            "error_x": {
             "color": "#2a3f5f"
            },
            "error_y": {
             "color": "#2a3f5f"
            },
            "marker": {
             "line": {
              "color": "#E5ECF6",
              "width": 0.5
             }
            },
            "type": "bar"
           }
          ],
          "barpolar": [
           {
            "marker": {
             "line": {
              "color": "#E5ECF6",
              "width": 0.5
             }
            },
            "type": "barpolar"
           }
          ],
          "carpet": [
           {
            "aaxis": {
             "endlinecolor": "#2a3f5f",
             "gridcolor": "white",
             "linecolor": "white",
             "minorgridcolor": "white",
             "startlinecolor": "#2a3f5f"
            },
            "baxis": {
             "endlinecolor": "#2a3f5f",
             "gridcolor": "white",
             "linecolor": "white",
             "minorgridcolor": "white",
             "startlinecolor": "#2a3f5f"
            },
            "type": "carpet"
           }
          ],
          "choropleth": [
           {
            "colorbar": {
             "outlinewidth": 0,
             "ticks": ""
            },
            "type": "choropleth"
           }
          ],
          "contour": [
           {
            "colorbar": {
             "outlinewidth": 0,
             "ticks": ""
            },
            "colorscale": [
             [
              0,
              "#0d0887"
             ],
             [
              0.1111111111111111,
              "#46039f"
             ],
             [
              0.2222222222222222,
              "#7201a8"
             ],
             [
              0.3333333333333333,
              "#9c179e"
             ],
             [
              0.4444444444444444,
              "#bd3786"
             ],
             [
              0.5555555555555556,
              "#d8576b"
             ],
             [
              0.6666666666666666,
              "#ed7953"
             ],
             [
              0.7777777777777778,
              "#fb9f3a"
             ],
             [
              0.8888888888888888,
              "#fdca26"
             ],
             [
              1,
              "#f0f921"
             ]
            ],
            "type": "contour"
           }
          ],
          "contourcarpet": [
           {
            "colorbar": {
             "outlinewidth": 0,
             "ticks": ""
            },
            "type": "contourcarpet"
           }
          ],
          "heatmap": [
           {
            "colorbar": {
             "outlinewidth": 0,
             "ticks": ""
            },
            "colorscale": [
             [
              0,
              "#0d0887"
             ],
             [
              0.1111111111111111,
              "#46039f"
             ],
             [
              0.2222222222222222,
              "#7201a8"
             ],
             [
              0.3333333333333333,
              "#9c179e"
             ],
             [
              0.4444444444444444,
              "#bd3786"
             ],
             [
              0.5555555555555556,
              "#d8576b"
             ],
             [
              0.6666666666666666,
              "#ed7953"
             ],
             [
              0.7777777777777778,
              "#fb9f3a"
             ],
             [
              0.8888888888888888,
              "#fdca26"
             ],
             [
              1,
              "#f0f921"
             ]
            ],
            "type": "heatmap"
           }
          ],
          "heatmapgl": [
           {
            "colorbar": {
             "outlinewidth": 0,
             "ticks": ""
            },
            "colorscale": [
             [
              0,
              "#0d0887"
             ],
             [
              0.1111111111111111,
              "#46039f"
             ],
             [
              0.2222222222222222,
              "#7201a8"
             ],
             [
              0.3333333333333333,
              "#9c179e"
             ],
             [
              0.4444444444444444,
              "#bd3786"
             ],
             [
              0.5555555555555556,
              "#d8576b"
             ],
             [
              0.6666666666666666,
              "#ed7953"
             ],
             [
              0.7777777777777778,
              "#fb9f3a"
             ],
             [
              0.8888888888888888,
              "#fdca26"
             ],
             [
              1,
              "#f0f921"
             ]
            ],
            "type": "heatmapgl"
           }
          ],
          "histogram": [
           {
            "marker": {
             "colorbar": {
              "outlinewidth": 0,
              "ticks": ""
             }
            },
            "type": "histogram"
           }
          ],
          "histogram2d": [
           {
            "colorbar": {
             "outlinewidth": 0,
             "ticks": ""
            },
            "colorscale": [
             [
              0,
              "#0d0887"
             ],
             [
              0.1111111111111111,
              "#46039f"
             ],
             [
              0.2222222222222222,
              "#7201a8"
             ],
             [
              0.3333333333333333,
              "#9c179e"
             ],
             [
              0.4444444444444444,
              "#bd3786"
             ],
             [
              0.5555555555555556,
              "#d8576b"
             ],
             [
              0.6666666666666666,
              "#ed7953"
             ],
             [
              0.7777777777777778,
              "#fb9f3a"
             ],
             [
              0.8888888888888888,
              "#fdca26"
             ],
             [
              1,
              "#f0f921"
             ]
            ],
            "type": "histogram2d"
           }
          ],
          "histogram2dcontour": [
           {
            "colorbar": {
             "outlinewidth": 0,
             "ticks": ""
            },
            "colorscale": [
             [
              0,
              "#0d0887"
             ],
             [
              0.1111111111111111,
              "#46039f"
             ],
             [
              0.2222222222222222,
              "#7201a8"
             ],
             [
              0.3333333333333333,
              "#9c179e"
             ],
             [
              0.4444444444444444,
              "#bd3786"
             ],
             [
              0.5555555555555556,
              "#d8576b"
             ],
             [
              0.6666666666666666,
              "#ed7953"
             ],
             [
              0.7777777777777778,
              "#fb9f3a"
             ],
             [
              0.8888888888888888,
              "#fdca26"
             ],
             [
              1,
              "#f0f921"
             ]
            ],
            "type": "histogram2dcontour"
           }
          ],
          "mesh3d": [
           {
            "colorbar": {
             "outlinewidth": 0,
             "ticks": ""
            },
            "type": "mesh3d"
           }
          ],
          "parcoords": [
           {
            "line": {
             "colorbar": {
              "outlinewidth": 0,
              "ticks": ""
             }
            },
            "type": "parcoords"
           }
          ],
          "pie": [
           {
            "automargin": true,
            "type": "pie"
           }
          ],
          "scatter": [
           {
            "marker": {
             "colorbar": {
              "outlinewidth": 0,
              "ticks": ""
             }
            },
            "type": "scatter"
           }
          ],
          "scatter3d": [
           {
            "line": {
             "colorbar": {
              "outlinewidth": 0,
              "ticks": ""
             }
            },
            "marker": {
             "colorbar": {
              "outlinewidth": 0,
              "ticks": ""
             }
            },
            "type": "scatter3d"
           }
          ],
          "scattercarpet": [
           {
            "marker": {
             "colorbar": {
              "outlinewidth": 0,
              "ticks": ""
             }
            },
            "type": "scattercarpet"
           }
          ],
          "scattergeo": [
           {
            "marker": {
             "colorbar": {
              "outlinewidth": 0,
              "ticks": ""
             }
            },
            "type": "scattergeo"
           }
          ],
          "scattergl": [
           {
            "marker": {
             "colorbar": {
              "outlinewidth": 0,
              "ticks": ""
             }
            },
            "type": "scattergl"
           }
          ],
          "scattermapbox": [
           {
            "marker": {
             "colorbar": {
              "outlinewidth": 0,
              "ticks": ""
             }
            },
            "type": "scattermapbox"
           }
          ],
          "scatterpolar": [
           {
            "marker": {
             "colorbar": {
              "outlinewidth": 0,
              "ticks": ""
             }
            },
            "type": "scatterpolar"
           }
          ],
          "scatterpolargl": [
           {
            "marker": {
             "colorbar": {
              "outlinewidth": 0,
              "ticks": ""
             }
            },
            "type": "scatterpolargl"
           }
          ],
          "scatterternary": [
           {
            "marker": {
             "colorbar": {
              "outlinewidth": 0,
              "ticks": ""
             }
            },
            "type": "scatterternary"
           }
          ],
          "surface": [
           {
            "colorbar": {
             "outlinewidth": 0,
             "ticks": ""
            },
            "colorscale": [
             [
              0,
              "#0d0887"
             ],
             [
              0.1111111111111111,
              "#46039f"
             ],
             [
              0.2222222222222222,
              "#7201a8"
             ],
             [
              0.3333333333333333,
              "#9c179e"
             ],
             [
              0.4444444444444444,
              "#bd3786"
             ],
             [
              0.5555555555555556,
              "#d8576b"
             ],
             [
              0.6666666666666666,
              "#ed7953"
             ],
             [
              0.7777777777777778,
              "#fb9f3a"
             ],
             [
              0.8888888888888888,
              "#fdca26"
             ],
             [
              1,
              "#f0f921"
             ]
            ],
            "type": "surface"
           }
          ],
          "table": [
           {
            "cells": {
             "fill": {
              "color": "#EBF0F8"
             },
             "line": {
              "color": "white"
             }
            },
            "header": {
             "fill": {
              "color": "#C8D4E3"
             },
             "line": {
              "color": "white"
             }
            },
            "type": "table"
           }
          ]
         },
         "layout": {
          "annotationdefaults": {
           "arrowcolor": "#2a3f5f",
           "arrowhead": 0,
           "arrowwidth": 1
          },
          "coloraxis": {
           "colorbar": {
            "outlinewidth": 0,
            "ticks": ""
           }
          },
          "colorscale": {
           "diverging": [
            [
             0,
             "#8e0152"
            ],
            [
             0.1,
             "#c51b7d"
            ],
            [
             0.2,
             "#de77ae"
            ],
            [
             0.3,
             "#f1b6da"
            ],
            [
             0.4,
             "#fde0ef"
            ],
            [
             0.5,
             "#f7f7f7"
            ],
            [
             0.6,
             "#e6f5d0"
            ],
            [
             0.7,
             "#b8e186"
            ],
            [
             0.8,
             "#7fbc41"
            ],
            [
             0.9,
             "#4d9221"
            ],
            [
             1,
             "#276419"
            ]
           ],
           "sequential": [
            [
             0,
             "#0d0887"
            ],
            [
             0.1111111111111111,
             "#46039f"
            ],
            [
             0.2222222222222222,
             "#7201a8"
            ],
            [
             0.3333333333333333,
             "#9c179e"
            ],
            [
             0.4444444444444444,
             "#bd3786"
            ],
            [
             0.5555555555555556,
             "#d8576b"
            ],
            [
             0.6666666666666666,
             "#ed7953"
            ],
            [
             0.7777777777777778,
             "#fb9f3a"
            ],
            [
             0.8888888888888888,
             "#fdca26"
            ],
            [
             1,
             "#f0f921"
            ]
           ],
           "sequentialminus": [
            [
             0,
             "#0d0887"
            ],
            [
             0.1111111111111111,
             "#46039f"
            ],
            [
             0.2222222222222222,
             "#7201a8"
            ],
            [
             0.3333333333333333,
             "#9c179e"
            ],
            [
             0.4444444444444444,
             "#bd3786"
            ],
            [
             0.5555555555555556,
             "#d8576b"
            ],
            [
             0.6666666666666666,
             "#ed7953"
            ],
            [
             0.7777777777777778,
             "#fb9f3a"
            ],
            [
             0.8888888888888888,
             "#fdca26"
            ],
            [
             1,
             "#f0f921"
            ]
           ]
          },
          "colorway": [
           "#636efa",
           "#EF553B",
           "#00cc96",
           "#ab63fa",
           "#FFA15A",
           "#19d3f3",
           "#FF6692",
           "#B6E880",
           "#FF97FF",
           "#FECB52"
          ],
          "font": {
           "color": "#2a3f5f"
          },
          "geo": {
           "bgcolor": "white",
           "lakecolor": "white",
           "landcolor": "#E5ECF6",
           "showlakes": true,
           "showland": true,
           "subunitcolor": "white"
          },
          "hoverlabel": {
           "align": "left"
          },
          "hovermode": "closest",
          "mapbox": {
           "style": "light"
          },
          "paper_bgcolor": "white",
          "plot_bgcolor": "#E5ECF6",
          "polar": {
           "angularaxis": {
            "gridcolor": "white",
            "linecolor": "white",
            "ticks": ""
           },
           "bgcolor": "#E5ECF6",
           "radialaxis": {
            "gridcolor": "white",
            "linecolor": "white",
            "ticks": ""
           }
          },
          "scene": {
           "xaxis": {
            "backgroundcolor": "#E5ECF6",
            "gridcolor": "white",
            "gridwidth": 2,
            "linecolor": "white",
            "showbackground": true,
            "ticks": "",
            "zerolinecolor": "white"
           },
           "yaxis": {
            "backgroundcolor": "#E5ECF6",
            "gridcolor": "white",
            "gridwidth": 2,
            "linecolor": "white",
            "showbackground": true,
            "ticks": "",
            "zerolinecolor": "white"
           },
           "zaxis": {
            "backgroundcolor": "#E5ECF6",
            "gridcolor": "white",
            "gridwidth": 2,
            "linecolor": "white",
            "showbackground": true,
            "ticks": "",
            "zerolinecolor": "white"
           }
          },
          "shapedefaults": {
           "line": {
            "color": "#2a3f5f"
           }
          },
          "ternary": {
           "aaxis": {
            "gridcolor": "white",
            "linecolor": "white",
            "ticks": ""
           },
           "baxis": {
            "gridcolor": "white",
            "linecolor": "white",
            "ticks": ""
           },
           "bgcolor": "#E5ECF6",
           "caxis": {
            "gridcolor": "white",
            "linecolor": "white",
            "ticks": ""
           }
          },
          "title": {
           "x": 0.05
          },
          "xaxis": {
           "automargin": true,
           "gridcolor": "white",
           "linecolor": "white",
           "ticks": "",
           "title": {
            "standoff": 15
           },
           "zerolinecolor": "white",
           "zerolinewidth": 2
          },
          "yaxis": {
           "automargin": true,
           "gridcolor": "white",
           "linecolor": "white",
           "ticks": "",
           "title": {
            "standoff": 15
           },
           "zerolinecolor": "white",
           "zerolinewidth": 2
          }
         }
        },
        "title": {
         "text": "Coronavirus Cases in Pakistan"
        },
        "width": 500
       }
      },
      "text/html": [
       "<div>\n",
       "        \n",
       "        \n",
       "            <div id=\"e00151d6-39c8-4272-a9f9-d721890deddf\" class=\"plotly-graph-div\" style=\"height:500px; width:500px;\"></div>\n",
       "            <script type=\"text/javascript\">\n",
       "                require([\"plotly\"], function(Plotly) {\n",
       "                    window.PLOTLYENV=window.PLOTLYENV || {};\n",
       "                    \n",
       "                if (document.getElementById(\"e00151d6-39c8-4272-a9f9-d721890deddf\")) {\n",
       "                    Plotly.newPlot(\n",
       "                        'e00151d6-39c8-4272-a9f9-d721890deddf',\n",
       "                        [{\"marker\": {\"color\": \"blue\"}, \"mode\": \"lines+markers\", \"name\": \"Confimned Cases\", \"type\": \"scatter\", \"x\": [\"2020/03/11\", \"2020/03/11\", \"2020/03/11\", \"2020/03/11\", \"2020/03/11\", \"2020/03/11\", \"2020/03/11\", \"2020/03/11\", \"2020/03/12\", \"2020/03/12\", \"2020/03/12\", \"2020/03/12\", \"2020/03/12\", \"2020/03/12\", \"2020/03/12\", \"2020/03/12\", \"2020/03/13\", \"2020/03/13\", \"2020/03/13\", \"2020/03/13\", \"2020/03/13\", \"2020/03/13\", \"2020/03/13\", \"2020/03/13\", \"2020/03/14\", \"2020/03/14\", \"2020/03/14\", \"2020/03/14\", \"2020/03/14\", \"2020/03/14\", \"2020/03/14\", \"2020/03/14\", \"2020/03/15\", \"2020/03/15\", \"2020/03/15\", \"2020/03/15\", \"2020/03/15\", \"2020/03/15\", \"2020/03/15\", \"2020/03/15\", \"2020/03/16\", \"2020/03/16\", \"2020/03/16\", \"2020/03/16\", \"2020/03/16\", \"2020/03/16\", \"2020/03/16\", \"2020/03/16\", \"2020/03/16\", \"2020/03/17\", \"2020/03/17\", \"2020/03/17\", \"2020/03/17\", \"2020/03/17\", \"2020/03/17\", \"2020/03/17\", \"2020/03/17\", \"2020/03/18\", \"2020/03/18\", \"2020/03/18\", \"2020/03/18\", \"2020/03/18\", \"2020/03/18\", \"2020/03/18\", \"2020/03/18\", \"2020/03/19\", \"2020/03/19\", \"2020/03/19\", \"2020/03/19\", \"2020/03/19\", \"2020/03/19\", \"2020/03/19\", \"2020/03/19\", \"2020/03/20\", \"2020/03/20\", \"2020/03/20\", \"2020/03/20\", \"2020/03/20\", \"2020/03/20\", \"2020/03/20\", \"2020/03/20\", \"2020/03/21\", \"2020/03/21\", \"2020/03/21\", \"2020/03/21\", \"2020/03/21\", \"2020/03/21\", \"2020/03/21\", \"2020/03/21\", \"2020/03/22\", \"2020/03/22\", \"2020/03/22\", \"2020/03/22\", \"2020/03/22\", \"2020/03/22\", \"2020/03/22\", \"2020/03/22\", \"2020/03/23\", \"2020/03/23\", \"2020/03/23\", \"2020/03/23\", \"2020/03/23\", \"2020/03/23\", \"2020/03/23\", \"2020/03/24\", \"2020/03/24\", \"2020/03/24\", \"2020/03/24\", \"2020/03/24\", \"2020/03/24\", \"2020/03/24\", \"2020/03/25\", \"2020/03/25\", \"2020/03/25\", \"2020/03/25\", \"2020/03/25\", \"2020/03/25\", \"2020/03/25\", \"2020/03/26\", \"2020/03/26\", \"2020/03/26\", \"2020/03/26\", \"2020/03/26\", \"2020/03/26\", \"2020/03/26\", \"2020/03/27\", \"2020/03/27\", \"2020/03/27\", \"2020/03/27\", \"2020/03/27\", \"2020/03/27\", \"2020/03/27\", \"2020/03/28\", \"2020/03/28\", \"2020/03/28\", \"2020/03/28\", \"2020/03/28\", \"2020/03/28\", \"2020/03/28\", \"2020/03/29\", \"2020/03/29\", \"2020/03/29\", \"2020/03/29\", \"2020/03/29\", \"2020/03/29\", \"2020/03/29\", \"2020/03/30\", \"2020/03/30\", \"2020/03/30\", \"2020/03/30\", \"2020/03/30\", \"2020/03/30\", \"2020/03/30\", \"2020/03/31\", \"2020/03/31\", \"2020/03/31\", \"2020/03/31\", \"2020/03/31\", \"2020/03/31\", \"2020/03/31\", \"2020/04/01\", \"2020/04/01\", \"2020/04/01\", \"2020/04/01\", \"2020/04/01\", \"2020/04/01\", \"2020/04/01\", \"2020/04/02\", \"2020/04/02\", \"2020/04/02\", \"2020/04/02\", \"2020/04/02\", \"2020/04/02\", \"2020/04/02\", \"2020/04/03\", \"2020/04/03\", \"2020/04/03\", \"2020/04/03\", \"2020/04/03\", \"2020/04/03\", \"2020/04/03\", \"2020/04/04\", \"2020/04/04\", \"2020/04/04\", \"2020/04/04\", \"2020/04/04\", \"2020/04/04\", \"2020/04/04\", \"2020/04/05\", \"2020/04/05\", \"2020/04/05\", \"2020/04/05\", \"2020/04/05\", \"2020/04/05\", \"2020/04/05\", \"2020/04/06\", \"2020/04/06\", \"2020/04/06\", \"2020/04/06\", \"2020/04/06\", \"2020/04/06\", \"2020/04/06\", \"2020/04/07\", \"2020/04/07\", \"2020/04/07\", \"2020/04/07\", \"2020/04/07\", \"2020/04/07\", \"2020/04/07\", \"2020/04/08\", \"2020/04/08\", \"2020/04/08\", \"2020/04/08\", \"2020/04/08\", \"2020/04/08\", \"2020/04/08\", \"2020/04/09\", \"2020/04/09\", \"2020/04/09\", \"2020/04/09\", \"2020/04/09\", \"2020/04/09\", \"2020/04/09\", \"2020/04/10\", \"2020/04/10\", \"2020/04/10\", \"2020/04/10\", \"2020/04/10\", \"2020/04/10\", \"2020/04/10\", \"2020/04/11\", \"2020/04/11\", \"2020/04/11\", \"2020/04/11\", \"2020/04/11\", \"2020/04/11\", \"2020/04/11\", \"2020/04/12\", \"2020/04/12\", \"2020/04/12\", \"2020/04/12\", \"2020/04/12\", \"2020/04/12\", \"2020/04/12\", \"2020/04/13\", \"2020/04/13\", \"2020/04/13\", \"2020/04/13\", \"2020/04/13\", \"2020/04/13\", \"2020/04/13\", \"2020/04/14\", \"2020/04/14\", \"2020/04/14\", \"2020/04/14\", \"2020/04/14\", \"2020/04/14\", \"2020/04/14\", \"2020/04/15\", \"2020/04/15\", \"2020/04/15\", \"2020/04/15\", \"2020/04/15\", \"2020/04/15\", \"2020/04/15\", \"2020/04/16\", \"2020/04/16\", \"2020/04/16\", \"2020/04/16\", \"2020/04/16\", \"2020/04/16\", \"2020/04/16\", \"2020/04/17\", \"2020/04/17\", \"2020/04/17\", \"2020/04/17\", \"2020/04/17\", \"2020/04/17\", \"2020/04/17\", \"2020/04/18\", \"2020/04/18\", \"2020/04/18\", \"2020/04/18\", \"2020/04/18\", \"2020/04/18\", \"2020/04/18\", \"2020/04/19\", \"2020/04/19\", \"2020/04/19\", \"2020/04/19\", \"2020/04/19\", \"2020/04/19\", \"2020/04/19\", \"2020/04/20\", \"2020/04/20\", \"2020/04/20\", \"2020/04/20\", \"2020/04/20\", \"2020/04/20\", \"2020/04/20\", \"2020/04/21\", \"2020/04/21\", \"2020/04/21\", \"2020/04/21\", \"2020/04/21\", \"2020/04/21\", \"2020/04/21\", \"2020/04/22\", \"2020/04/22\", \"2020/04/22\", \"2020/04/22\", \"2020/04/22\", \"2020/04/22\", \"2020/04/22\", \"2020/04/23\", \"2020/04/23\", \"2020/04/23\", \"2020/04/23\", \"2020/04/23\", \"2020/04/23\", \"2020/04/23\", \"2020/04/24\", \"2020/04/24\", \"2020/04/24\", \"2020/04/24\", \"2020/04/24\", \"2020/04/24\", \"2020/04/24\", \"2020/04/25\", \"2020/04/25\", \"2020/04/25\", \"2020/04/25\", \"2020/04/25\", \"2020/04/25\", \"2020/04/25\", \"2020/04/26\", \"2020/04/26\", \"2020/04/26\", \"2020/04/26\", \"2020/04/26\", \"2020/04/26\", \"2020/04/26\", \"2020/04/27\", \"2020/04/27\", \"2020/04/27\", \"2020/04/27\", \"2020/04/27\", \"2020/04/27\", \"2020/04/27\", \"2020/04/28\", \"2020/04/28\", \"2020/04/28\", \"2020/04/28\", \"2020/04/28\", \"2020/04/28\", \"2020/04/28\", \"2020/04/29\", \"2020/04/29\", \"2020/04/29\", \"2020/04/29\", \"2020/04/29\", \"2020/04/29\", \"2020/04/29\", \"2020/04/30\", \"2020/04/30\", \"2020/04/30\", \"2020/04/30\", \"2020/04/30\", \"2020/04/30\", \"2020/04/30\", \"2020/05/01\", \"2020/05/01\", \"2020/05/01\", \"2020/05/01\", \"2020/05/01\", \"2020/05/01\", \"2020/05/01\", \"2020/05/02\", \"2020/05/02\", \"2020/05/02\", \"2020/05/02\", \"2020/05/02\", \"2020/05/02\", \"2020/05/02\", \"2020/05/04\", \"2020/05/04\", \"2020/05/04\", \"2020/05/04\", \"2020/05/04\", \"2020/05/04\", \"2020/05/04\", \"2020/05/05\", \"2020/05/05\", \"2020/05/05\", \"2020/05/05\", \"2020/05/05\", \"2020/05/05\", \"2020/05/05\", \"2020/05/06\", \"2020/05/06\", \"2020/05/06\", \"2020/05/06\", \"2020/05/06\", \"2020/05/06\", \"2020/05/06\", \"2020/05/07\", \"2020/05/07\", \"2020/05/07\", \"2020/05/07\", \"2020/05/07\", \"2020/05/07\", \"2020/05/07\", \"2020/05/08\", \"2020/05/08\", \"2020/05/08\", \"2020/05/08\", \"2020/05/08\", \"2020/05/08\", \"2020/05/08\", \"2020/05/09\", \"2020/05/09\", \"2020/05/09\", \"2020/05/09\", \"2020/05/09\", \"2020/05/09\", \"2020/05/09\", \"2020/05/10\", \"2020/05/10\", \"2020/05/10\", \"2020/05/10\", \"2020/05/10\", \"2020/05/10\", \"2020/05/10\", \"2020/05/11\", \"2020/05/11\", \"2020/05/11\", \"2020/05/11\", \"2020/05/11\", \"2020/05/11\", \"2020/05/11\"], \"y\": [2, 0, 14, 0, 0, 1, 0, 2, 2, 0, 14, 0, 0, 1, 0, 3, 2, 0, 15, 0, 0, 1, 0, 3, 3, 0, 16, 0, 0, 6, 0, 3, 4, 0, 18, 0, 0, 6, 0, 3, 4, 1, 34, 0, 0, 5, 0, 3, 6, 4, 1, 150, 15, 0, 14, 0, 3, 8, 26, 172, 17, 0, 15, 0, 3, 5, 33, 208, 19, 0, 23, 1, 13, 10, 80, 245, 23, 0, 81, 1, 21, 11, 96, 253, 23, 0, 81, 1, 30, 11, 152, 396, 31, 0, 104, 1, 55, 15, 225, 333, 31, 108, 1, 71, 15, 249, 394, 38, 110, 1, 80, 18, 296, 407, 78, 110, 1, 81, 25, 323, 413, 80, 131, 1, 84, 25, 408, 417, 123, 131, 2, 91, 39, 490, 457, 180, 133, 2, 107, 43, 558, 481, 188, 138, 2, 116, 51, 593, 508, 195, 144, 6, 128, 58, 652, 627, 221, 153, 6, 148, 54, 708, 676, 253, 158, 6, 184, 62, 845, 743, 276, 169, 9, 187, 68, 920, 783, 311, 169, 9, 190, 11, 175, 193, 75, 343, 1072, 839, 12, 185, 206, 78, 372, 1163, 864, 15, 191, 210, 82, 405, 1493, 881, 18, 202, 211, 83, 500, 1918, 932, 19, 206, 212, 92, 527, 2030, 986, 28, 212, 213, 102, 560, 2171, 1036, 33, 219, 215, 107, 620, 2279, 1128, 34, 220, 215, 113, 656, 2336, 1214, 35, 228, 216, 119, 697, 2425, 1318, 40, 230, 224, 131, 744, 2594, 1411, 43, 231, 233, 131, 800, 2826, 1452, 46, 240, 234, 140, 865, 2945, 1518, 46, 280, 237, 145, 912, 3217, 1668, 46, 303, 245, 154, 993, 3276, 2008, 48, 335, 250, 163, 1077, 3391, 2217, 48, 376, 257, 171, 1137, 3649, 2355, 49, 432, 263, 181, 1235, 3721, 2537, 50, 465, 281, 185, 1276, 4195, 2764, 51, 552, 290, 204, 1453, 4590, 3373, 55, 607, 300, 214, 1541, 4767, 3671, 55, 656, 307, 223, 1708, 5046, 3945, 55, 722, 308, 235, 1793, 5378, 4232, 55, 722, 308, 235, 1793, 5378, 4232, 59, 781, 318, 245, 1864, 5446, 4615, 65, 853, 320, 261, 1984, 5640, 4956, 65, 915, 330, 297, 2160, 5827, 5291, 66, 978, 333, 313, 2313, 6061, 5695, 66, 1049, 339, 343, 2627, 6340, 6053, 66, 1136, 340, 365, 2799, 6733, 6675, 71, 1218, 364, 415, 3129, 7524, 7465, 71, 1321, 372, 464, 3288, 8103, 7882, 76, 1495, 386, 485, 3499, 8420, 8189, 76, 1659, 388, 521, 3712, 9077, 8640, 78, 1725, 394, 558, 3956, 10033, 9093, 79, 1876, 421, 609, 4327, 10471, 9691, 86, 1935, 430, 641, 4509, 11093, 10771, 86, 2017, 442, 679, 4669, 11568, 11480]}, {\"marker\": {\"color\": \"green\"}, \"mode\": \"lines+markers\", \"name\": \"Recovered\", \"type\": \"scatter\", \"x\": [\"2020/03/11\", \"2020/03/11\", \"2020/03/11\", \"2020/03/11\", \"2020/03/11\", \"2020/03/11\", \"2020/03/11\", \"2020/03/11\", \"2020/03/12\", \"2020/03/12\", \"2020/03/12\", \"2020/03/12\", \"2020/03/12\", \"2020/03/12\", \"2020/03/12\", \"2020/03/12\", \"2020/03/13\", \"2020/03/13\", \"2020/03/13\", \"2020/03/13\", \"2020/03/13\", \"2020/03/13\", \"2020/03/13\", \"2020/03/13\", \"2020/03/14\", \"2020/03/14\", \"2020/03/14\", \"2020/03/14\", \"2020/03/14\", \"2020/03/14\", \"2020/03/14\", \"2020/03/14\", \"2020/03/15\", \"2020/03/15\", \"2020/03/15\", \"2020/03/15\", \"2020/03/15\", \"2020/03/15\", \"2020/03/15\", \"2020/03/15\", \"2020/03/16\", \"2020/03/16\", \"2020/03/16\", \"2020/03/16\", \"2020/03/16\", \"2020/03/16\", \"2020/03/16\", \"2020/03/16\", \"2020/03/16\", \"2020/03/17\", \"2020/03/17\", \"2020/03/17\", \"2020/03/17\", \"2020/03/17\", \"2020/03/17\", \"2020/03/17\", \"2020/03/17\", \"2020/03/18\", \"2020/03/18\", \"2020/03/18\", \"2020/03/18\", \"2020/03/18\", \"2020/03/18\", \"2020/03/18\", \"2020/03/18\", \"2020/03/19\", \"2020/03/19\", \"2020/03/19\", \"2020/03/19\", \"2020/03/19\", \"2020/03/19\", \"2020/03/19\", \"2020/03/19\", \"2020/03/20\", \"2020/03/20\", \"2020/03/20\", \"2020/03/20\", \"2020/03/20\", \"2020/03/20\", \"2020/03/20\", \"2020/03/20\", \"2020/03/21\", \"2020/03/21\", \"2020/03/21\", \"2020/03/21\", \"2020/03/21\", \"2020/03/21\", \"2020/03/21\", \"2020/03/21\", \"2020/03/22\", \"2020/03/22\", \"2020/03/22\", \"2020/03/22\", \"2020/03/22\", \"2020/03/22\", \"2020/03/22\", \"2020/03/22\", \"2020/03/23\", \"2020/03/23\", \"2020/03/23\", \"2020/03/23\", \"2020/03/23\", \"2020/03/23\", \"2020/03/23\", \"2020/03/24\", \"2020/03/24\", \"2020/03/24\", \"2020/03/24\", \"2020/03/24\", \"2020/03/24\", \"2020/03/24\", \"2020/03/25\", \"2020/03/25\", \"2020/03/25\", \"2020/03/25\", \"2020/03/25\", \"2020/03/25\", \"2020/03/25\", \"2020/03/26\", \"2020/03/26\", \"2020/03/26\", \"2020/03/26\", \"2020/03/26\", \"2020/03/26\", \"2020/03/26\", \"2020/03/27\", \"2020/03/27\", \"2020/03/27\", \"2020/03/27\", \"2020/03/27\", \"2020/03/27\", \"2020/03/27\", \"2020/03/28\", \"2020/03/28\", \"2020/03/28\", \"2020/03/28\", \"2020/03/28\", \"2020/03/28\", \"2020/03/28\", \"2020/03/29\", \"2020/03/29\", \"2020/03/29\", \"2020/03/29\", \"2020/03/29\", \"2020/03/29\", \"2020/03/29\", \"2020/03/30\", \"2020/03/30\", \"2020/03/30\", \"2020/03/30\", \"2020/03/30\", \"2020/03/30\", \"2020/03/30\", \"2020/03/31\", \"2020/03/31\", \"2020/03/31\", \"2020/03/31\", \"2020/03/31\", \"2020/03/31\", \"2020/03/31\", \"2020/04/01\", \"2020/04/01\", \"2020/04/01\", \"2020/04/01\", \"2020/04/01\", \"2020/04/01\", \"2020/04/01\", \"2020/04/02\", \"2020/04/02\", \"2020/04/02\", \"2020/04/02\", \"2020/04/02\", \"2020/04/02\", \"2020/04/02\", \"2020/04/03\", \"2020/04/03\", \"2020/04/03\", \"2020/04/03\", \"2020/04/03\", \"2020/04/03\", \"2020/04/03\", \"2020/04/04\", \"2020/04/04\", \"2020/04/04\", \"2020/04/04\", \"2020/04/04\", \"2020/04/04\", \"2020/04/04\", \"2020/04/05\", \"2020/04/05\", \"2020/04/05\", \"2020/04/05\", \"2020/04/05\", \"2020/04/05\", \"2020/04/05\", \"2020/04/06\", \"2020/04/06\", \"2020/04/06\", \"2020/04/06\", \"2020/04/06\", \"2020/04/06\", \"2020/04/06\", \"2020/04/07\", \"2020/04/07\", \"2020/04/07\", \"2020/04/07\", \"2020/04/07\", \"2020/04/07\", \"2020/04/07\", \"2020/04/08\", \"2020/04/08\", \"2020/04/08\", \"2020/04/08\", \"2020/04/08\", \"2020/04/08\", \"2020/04/08\", \"2020/04/09\", \"2020/04/09\", \"2020/04/09\", \"2020/04/09\", \"2020/04/09\", \"2020/04/09\", \"2020/04/09\", \"2020/04/10\", \"2020/04/10\", \"2020/04/10\", \"2020/04/10\", \"2020/04/10\", \"2020/04/10\", \"2020/04/10\", \"2020/04/11\", \"2020/04/11\", \"2020/04/11\", \"2020/04/11\", \"2020/04/11\", \"2020/04/11\", \"2020/04/11\", \"2020/04/12\", \"2020/04/12\", \"2020/04/12\", \"2020/04/12\", \"2020/04/12\", \"2020/04/12\", \"2020/04/12\", \"2020/04/13\", \"2020/04/13\", \"2020/04/13\", \"2020/04/13\", \"2020/04/13\", \"2020/04/13\", \"2020/04/13\", \"2020/04/14\", \"2020/04/14\", \"2020/04/14\", \"2020/04/14\", \"2020/04/14\", \"2020/04/14\", \"2020/04/14\", \"2020/04/15\", \"2020/04/15\", \"2020/04/15\", \"2020/04/15\", \"2020/04/15\", \"2020/04/15\", \"2020/04/15\", \"2020/04/16\", \"2020/04/16\", \"2020/04/16\", \"2020/04/16\", \"2020/04/16\", \"2020/04/16\", \"2020/04/16\", \"2020/04/17\", \"2020/04/17\", \"2020/04/17\", \"2020/04/17\", \"2020/04/17\", \"2020/04/17\", \"2020/04/17\", \"2020/04/18\", \"2020/04/18\", \"2020/04/18\", \"2020/04/18\", \"2020/04/18\", \"2020/04/18\", \"2020/04/18\", \"2020/04/19\", \"2020/04/19\", \"2020/04/19\", \"2020/04/19\", \"2020/04/19\", \"2020/04/19\", \"2020/04/19\", \"2020/04/20\", \"2020/04/20\", \"2020/04/20\", \"2020/04/20\", \"2020/04/20\", \"2020/04/20\", \"2020/04/20\", \"2020/04/21\", \"2020/04/21\", \"2020/04/21\", \"2020/04/21\", \"2020/04/21\", \"2020/04/21\", \"2020/04/21\", \"2020/04/22\", \"2020/04/22\", \"2020/04/22\", \"2020/04/22\", \"2020/04/22\", \"2020/04/22\", \"2020/04/22\", \"2020/04/23\", \"2020/04/23\", \"2020/04/23\", \"2020/04/23\", \"2020/04/23\", \"2020/04/23\", \"2020/04/23\", \"2020/04/24\", \"2020/04/24\", \"2020/04/24\", \"2020/04/24\", \"2020/04/24\", \"2020/04/24\", \"2020/04/24\", \"2020/04/25\", \"2020/04/25\", \"2020/04/25\", \"2020/04/25\", \"2020/04/25\", \"2020/04/25\", \"2020/04/25\", \"2020/04/26\", \"2020/04/26\", \"2020/04/26\", \"2020/04/26\", \"2020/04/26\", \"2020/04/26\", \"2020/04/26\", \"2020/04/27\", \"2020/04/27\", \"2020/04/27\", \"2020/04/27\", \"2020/04/27\", \"2020/04/27\", \"2020/04/27\", \"2020/04/28\", \"2020/04/28\", \"2020/04/28\", \"2020/04/28\", \"2020/04/28\", \"2020/04/28\", \"2020/04/28\", \"2020/04/29\", \"2020/04/29\", \"2020/04/29\", \"2020/04/29\", \"2020/04/29\", \"2020/04/29\", \"2020/04/29\", \"2020/04/30\", \"2020/04/30\", \"2020/04/30\", \"2020/04/30\", \"2020/04/30\", \"2020/04/30\", \"2020/04/30\", \"2020/05/01\", \"2020/05/01\", \"2020/05/01\", \"2020/05/01\", \"2020/05/01\", \"2020/05/01\", \"2020/05/01\", \"2020/05/02\", \"2020/05/02\", \"2020/05/02\", \"2020/05/02\", \"2020/05/02\", \"2020/05/02\", \"2020/05/02\", \"2020/05/04\", \"2020/05/04\", \"2020/05/04\", \"2020/05/04\", \"2020/05/04\", \"2020/05/04\", \"2020/05/04\", \"2020/05/05\", \"2020/05/05\", \"2020/05/05\", \"2020/05/05\", \"2020/05/05\", \"2020/05/05\", \"2020/05/05\", \"2020/05/06\", \"2020/05/06\", \"2020/05/06\", \"2020/05/06\", \"2020/05/06\", \"2020/05/06\", \"2020/05/06\", \"2020/05/07\", \"2020/05/07\", \"2020/05/07\", \"2020/05/07\", \"2020/05/07\", \"2020/05/07\", \"2020/05/07\", \"2020/05/08\", \"2020/05/08\", \"2020/05/08\", \"2020/05/08\", \"2020/05/08\", \"2020/05/08\", \"2020/05/08\", \"2020/05/09\", \"2020/05/09\", \"2020/05/09\", \"2020/05/09\", \"2020/05/09\", \"2020/05/09\", \"2020/05/09\", \"2020/05/10\", \"2020/05/10\", \"2020/05/10\", \"2020/05/10\", \"2020/05/10\", \"2020/05/10\", \"2020/05/10\", \"2020/05/11\", \"2020/05/11\", \"2020/05/11\", \"2020/05/11\", \"2020/05/11\", \"2020/05/11\", \"2020/05/11\"], \"y\": [0, 0, 1, 0, 0, 0, 0, 0, 0, 0, 2, 0, 0, 0, 0, 0, 0, 0, 2, 0, 0, 0, 0, 0, 0, 0, 3, 0, 0, 0, 0, 0, 0, 0, 3, 0, 0, 0, 0, 0, 0, 0, 3, 0, 0, 0, 0, 0, 0, 1, 0, 3, 0, 0, 0, 0, 0, 1, 0, 3, 0, 0, 0, 0, 0, 2, 0, 3, 0, 0, 0, 0, 0, 2, 0, 3, 0, 0, 0, 0, 0, 2, 0, 3, 0, 0, 0, 0, 0, 2, 0, 3, 0, 0, 0, 0, 0, 2, 0, 4, 0, 0, 0, 0, 2, 0, 4, 0, 0, 0, 0, 2, 2, 14, 0, 0, 0, 0, 2, 3, 14, 2, 0, 0, 0, 2, 3, 14, 2, 0, 0, 2, 2, 4, 14, 2, 2, 0, 3, 2, 4, 14, 2, 2, 0, 4, 3, 5, 16, 2, 2, 0, 4, 3, 5, 42, 2, 2, 0, 4, 3, 5, 51, 2, 17, 0, 4, 3, 6, 58, 19, 17, 0, 4, 3, 6, 65, 30, 17, 0, 5, 0, 17, 9, 3, 30, 6, 65, 1, 17, 9, 3, 30, 25, 85, 1, 30, 13, 3, 62, 25, 123, 1, 63, 15, 3, 69, 25, 253, 1, 75, 15, 3, 70, 34, 269, 1, 76, 96, 10, 74, 35, 280, 1, 89, 111, 10, 128, 39, 349, 1, 95, 125, 13, 131, 39, 358, 1, 95, 146, 13, 142, 258, 371, 2, 123, 149, 15, 145, 272, 389, 4, 124, 155, 15, 153, 508, 419, 4, 137, 175, 17, 178, 508, 427, 9, 140, 178, 17, 191, 550, 560, 9, 142, 183, 20, 205, 630, 576, 9, 142, 192, 20, 216, 672, 581, 9, 144, 193, 20, 226, 684, 592, 10, 152, 194, 20, 267, 702, 625, 16, 161, 195, 20, 297, 742, 635, 23, 168, 201, 26, 414, 790, 715, 0, 346, 75, 173, 628, 2497, 1805, 0, 393, 81, 177, 738, 2577, 1893, 0, 449, 79, 188, 760, 2577, 2146, 32, 176, 216, 29, 485, 1126, 802, 35, 176, 219, 29, 515, 1183, 872, 35, 176, 222, 36, 533, 1306, 925, 37, 176, 224, 36, 562, 1427, 963, 37, 180, 228, 44, 614, 1780, 1169, 43, 183, 248, 44, 654, 1921, 1222, 0, 847, 72, 302, 1322, 2610, 4044, 0, 917, 91, 339, 1535, 2775, 4638, 0, 1014, 80, 383, 1578, 2779, 4994, 54, 206, 282, 56, 875, 3073, 1671, 57, 209, 288, 56, 939, 3184, 1731, 58, 209, 292, 72, 984, 4062, 1853, 60, 222, 298, 72, 1033, 4131, 1940, 60, 242, 303, 72, 1086, 4240, 2020, 64, 242, 304, 72, 1126, 4323, 2081]}, {\"marker\": {\"color\": \"red\"}, \"mode\": \"lines+markers\", \"name\": \"Deaths\", \"type\": \"scatter\", \"x\": [\"2020/03/11\", \"2020/03/11\", \"2020/03/11\", \"2020/03/11\", \"2020/03/11\", \"2020/03/11\", \"2020/03/11\", \"2020/03/11\", \"2020/03/12\", \"2020/03/12\", \"2020/03/12\", \"2020/03/12\", \"2020/03/12\", \"2020/03/12\", \"2020/03/12\", \"2020/03/12\", \"2020/03/13\", \"2020/03/13\", \"2020/03/13\", \"2020/03/13\", \"2020/03/13\", \"2020/03/13\", \"2020/03/13\", \"2020/03/13\", \"2020/03/14\", \"2020/03/14\", \"2020/03/14\", \"2020/03/14\", \"2020/03/14\", \"2020/03/14\", \"2020/03/14\", \"2020/03/14\", \"2020/03/15\", \"2020/03/15\", \"2020/03/15\", \"2020/03/15\", \"2020/03/15\", \"2020/03/15\", \"2020/03/15\", \"2020/03/15\", \"2020/03/16\", \"2020/03/16\", \"2020/03/16\", \"2020/03/16\", \"2020/03/16\", \"2020/03/16\", \"2020/03/16\", \"2020/03/16\", \"2020/03/16\", \"2020/03/17\", \"2020/03/17\", \"2020/03/17\", \"2020/03/17\", \"2020/03/17\", \"2020/03/17\", \"2020/03/17\", \"2020/03/17\", \"2020/03/18\", \"2020/03/18\", \"2020/03/18\", \"2020/03/18\", \"2020/03/18\", \"2020/03/18\", \"2020/03/18\", \"2020/03/18\", \"2020/03/19\", \"2020/03/19\", \"2020/03/19\", \"2020/03/19\", \"2020/03/19\", \"2020/03/19\", \"2020/03/19\", \"2020/03/19\", \"2020/03/20\", \"2020/03/20\", \"2020/03/20\", \"2020/03/20\", \"2020/03/20\", \"2020/03/20\", \"2020/03/20\", \"2020/03/20\", \"2020/03/21\", \"2020/03/21\", \"2020/03/21\", \"2020/03/21\", \"2020/03/21\", \"2020/03/21\", \"2020/03/21\", \"2020/03/21\", \"2020/03/22\", \"2020/03/22\", \"2020/03/22\", \"2020/03/22\", \"2020/03/22\", \"2020/03/22\", \"2020/03/22\", \"2020/03/22\", \"2020/03/23\", \"2020/03/23\", \"2020/03/23\", \"2020/03/23\", \"2020/03/23\", \"2020/03/23\", \"2020/03/23\", \"2020/03/24\", \"2020/03/24\", \"2020/03/24\", \"2020/03/24\", \"2020/03/24\", \"2020/03/24\", \"2020/03/24\", \"2020/03/25\", \"2020/03/25\", \"2020/03/25\", \"2020/03/25\", \"2020/03/25\", \"2020/03/25\", \"2020/03/25\", \"2020/03/26\", \"2020/03/26\", \"2020/03/26\", \"2020/03/26\", \"2020/03/26\", \"2020/03/26\", \"2020/03/26\", \"2020/03/27\", \"2020/03/27\", \"2020/03/27\", \"2020/03/27\", \"2020/03/27\", \"2020/03/27\", \"2020/03/27\", \"2020/03/28\", \"2020/03/28\", \"2020/03/28\", \"2020/03/28\", \"2020/03/28\", \"2020/03/28\", \"2020/03/28\", \"2020/03/29\", \"2020/03/29\", \"2020/03/29\", \"2020/03/29\", \"2020/03/29\", \"2020/03/29\", \"2020/03/29\", \"2020/03/30\", \"2020/03/30\", \"2020/03/30\", \"2020/03/30\", \"2020/03/30\", \"2020/03/30\", \"2020/03/30\", \"2020/03/31\", \"2020/03/31\", \"2020/03/31\", \"2020/03/31\", \"2020/03/31\", \"2020/03/31\", \"2020/03/31\", \"2020/04/01\", \"2020/04/01\", \"2020/04/01\", \"2020/04/01\", \"2020/04/01\", \"2020/04/01\", \"2020/04/01\", \"2020/04/02\", \"2020/04/02\", \"2020/04/02\", \"2020/04/02\", \"2020/04/02\", \"2020/04/02\", \"2020/04/02\", \"2020/04/03\", \"2020/04/03\", \"2020/04/03\", \"2020/04/03\", \"2020/04/03\", \"2020/04/03\", \"2020/04/03\", \"2020/04/04\", \"2020/04/04\", \"2020/04/04\", \"2020/04/04\", \"2020/04/04\", \"2020/04/04\", \"2020/04/04\", \"2020/04/05\", \"2020/04/05\", \"2020/04/05\", \"2020/04/05\", \"2020/04/05\", \"2020/04/05\", \"2020/04/05\", \"2020/04/06\", \"2020/04/06\", \"2020/04/06\", \"2020/04/06\", \"2020/04/06\", \"2020/04/06\", \"2020/04/06\", \"2020/04/07\", \"2020/04/07\", \"2020/04/07\", \"2020/04/07\", \"2020/04/07\", \"2020/04/07\", \"2020/04/07\", \"2020/04/08\", \"2020/04/08\", \"2020/04/08\", \"2020/04/08\", \"2020/04/08\", \"2020/04/08\", \"2020/04/08\", \"2020/04/09\", \"2020/04/09\", \"2020/04/09\", \"2020/04/09\", \"2020/04/09\", \"2020/04/09\", \"2020/04/09\", \"2020/04/10\", \"2020/04/10\", \"2020/04/10\", \"2020/04/10\", \"2020/04/10\", \"2020/04/10\", \"2020/04/10\", \"2020/04/11\", \"2020/04/11\", \"2020/04/11\", \"2020/04/11\", \"2020/04/11\", \"2020/04/11\", \"2020/04/11\", \"2020/04/12\", \"2020/04/12\", \"2020/04/12\", \"2020/04/12\", \"2020/04/12\", \"2020/04/12\", \"2020/04/12\", \"2020/04/13\", \"2020/04/13\", \"2020/04/13\", \"2020/04/13\", \"2020/04/13\", \"2020/04/13\", \"2020/04/13\", \"2020/04/14\", \"2020/04/14\", \"2020/04/14\", \"2020/04/14\", \"2020/04/14\", \"2020/04/14\", \"2020/04/14\", \"2020/04/15\", \"2020/04/15\", \"2020/04/15\", \"2020/04/15\", \"2020/04/15\", \"2020/04/15\", \"2020/04/15\", \"2020/04/16\", \"2020/04/16\", \"2020/04/16\", \"2020/04/16\", \"2020/04/16\", \"2020/04/16\", \"2020/04/16\", \"2020/04/17\", \"2020/04/17\", \"2020/04/17\", \"2020/04/17\", \"2020/04/17\", \"2020/04/17\", \"2020/04/17\", \"2020/04/18\", \"2020/04/18\", \"2020/04/18\", \"2020/04/18\", \"2020/04/18\", \"2020/04/18\", \"2020/04/18\", \"2020/04/19\", \"2020/04/19\", \"2020/04/19\", \"2020/04/19\", \"2020/04/19\", \"2020/04/19\", \"2020/04/19\", \"2020/04/20\", \"2020/04/20\", \"2020/04/20\", \"2020/04/20\", \"2020/04/20\", \"2020/04/20\", \"2020/04/20\", \"2020/04/21\", \"2020/04/21\", \"2020/04/21\", \"2020/04/21\", \"2020/04/21\", \"2020/04/21\", \"2020/04/21\", \"2020/04/22\", \"2020/04/22\", \"2020/04/22\", \"2020/04/22\", \"2020/04/22\", \"2020/04/22\", \"2020/04/22\", \"2020/04/23\", \"2020/04/23\", \"2020/04/23\", \"2020/04/23\", \"2020/04/23\", \"2020/04/23\", \"2020/04/23\", \"2020/04/24\", \"2020/04/24\", \"2020/04/24\", \"2020/04/24\", \"2020/04/24\", \"2020/04/24\", \"2020/04/24\", \"2020/04/25\", \"2020/04/25\", \"2020/04/25\", \"2020/04/25\", \"2020/04/25\", \"2020/04/25\", \"2020/04/25\", \"2020/04/26\", \"2020/04/26\", \"2020/04/26\", \"2020/04/26\", \"2020/04/26\", \"2020/04/26\", \"2020/04/26\", \"2020/04/27\", \"2020/04/27\", \"2020/04/27\", \"2020/04/27\", \"2020/04/27\", \"2020/04/27\", \"2020/04/27\", \"2020/04/28\", \"2020/04/28\", \"2020/04/28\", \"2020/04/28\", \"2020/04/28\", \"2020/04/28\", \"2020/04/28\", \"2020/04/29\", \"2020/04/29\", \"2020/04/29\", \"2020/04/29\", \"2020/04/29\", \"2020/04/29\", \"2020/04/29\", \"2020/04/30\", \"2020/04/30\", \"2020/04/30\", \"2020/04/30\", \"2020/04/30\", \"2020/04/30\", \"2020/04/30\", \"2020/05/01\", \"2020/05/01\", \"2020/05/01\", \"2020/05/01\", \"2020/05/01\", \"2020/05/01\", \"2020/05/01\", \"2020/05/02\", \"2020/05/02\", \"2020/05/02\", \"2020/05/02\", \"2020/05/02\", \"2020/05/02\", \"2020/05/02\", \"2020/05/04\", \"2020/05/04\", \"2020/05/04\", \"2020/05/04\", \"2020/05/04\", \"2020/05/04\", \"2020/05/04\", \"2020/05/05\", \"2020/05/05\", \"2020/05/05\", \"2020/05/05\", \"2020/05/05\", \"2020/05/05\", \"2020/05/05\", \"2020/05/06\", \"2020/05/06\", \"2020/05/06\", \"2020/05/06\", \"2020/05/06\", \"2020/05/06\", \"2020/05/06\", \"2020/05/07\", \"2020/05/07\", \"2020/05/07\", \"2020/05/07\", \"2020/05/07\", \"2020/05/07\", \"2020/05/07\", \"2020/05/08\", \"2020/05/08\", \"2020/05/08\", \"2020/05/08\", \"2020/05/08\", \"2020/05/08\", \"2020/05/08\", \"2020/05/09\", \"2020/05/09\", \"2020/05/09\", \"2020/05/09\", \"2020/05/09\", \"2020/05/09\", \"2020/05/09\", \"2020/05/10\", \"2020/05/10\", \"2020/05/10\", \"2020/05/10\", \"2020/05/10\", \"2020/05/10\", \"2020/05/10\", \"2020/05/11\", \"2020/05/11\", \"2020/05/11\", \"2020/05/11\", \"2020/05/11\", \"2020/05/11\", \"2020/05/11\"], \"y\": [0, 0, 0, 0, 0, 0, 0, 0, 0, 0, 0, 0, 0, 0, 0, 0, 0, 0, 0, 0, 0, 0, 0, 0, 0, 0, 0, 0, 0, 0, 0, 0, 0, 0, 0, 0, 0, 0, 0, 0, 0, 0, 0, 0, 0, 0, 0, 0, 0, 0, 0, 0, 0, 0, 0, 0, 0, 0, 0, 0, 0, 0, 0, 0, 0, 0, 0, 0, 2, 0, 0, 0, 0, 0, 0, 0, 2, 0, 0, 0, 0, 0, 0, 1, 2, 0, 0, 0, 0, 0, 0, 1, 2, 0, 0, 0, 0, 0, 0, 1, 3, 1, 0, 0, 0, 0, 1, 3, 1, 0, 1, 0, 1, 1, 3, 1, 0, 1, 0, 2, 1, 3, 1, 0, 1, 0, 3, 1, 3, 1, 0, 1, 0, 5, 1, 3, 1, 0, 1, 0, 5, 2, 4, 1, 0, 1, 0, 6, 5, 5, 1, 0, 1, 0, 9, 7, 6, 1, 0, 2, 0, 9, 8, 6, 1, 0, 2, 0, 11, 9, 8, 1, 0, 2, 0, 11, 11, 9, 1, 0, 3, 0, 1, 3, 0, 11, 11, 14, 0, 1, 3, 0, 14, 12, 15, 0, 1, 3, 0, 16, 15, 15, 0, 1, 3, 1, 17, 15, 17, 0, 2, 3, 1, 18, 16, 18, 0, 2, 3, 1, 20, 17, 20, 0, 1, 3, 1, 22, 18, 21, 0, 1, 3, 1, 25, 19, 22, 0, 2, 3, 1, 31, 21, 28, 0, 2, 3, 1, 34, 23, 30, 0, 2, 3, 1, 35, 24, 31, 0, 2, 3, 1, 38, 28, 35, 0, 3, 3, 1, 42, 34, 41, 0, 5, 3, 1, 45, 36, 45, 0, 5, 3, 1, 50, 37, 47, 0, 5, 3, 2, 60, 41, 48, 0, 5, 3, 3, 67, 42, 56, 0, 6, 3, 3, 74, 45, 61, 0, 8, 3, 3, 83, 58, 69, 0, 8, 3, 3, 85, 65, 73, 0, 10, 3, 3, 89, 73, 75, 0, 11, 3, 3, 93, 81, 78, 0, 11, 3, 3, 93, 81, 78, 0, 13, 3, 3, 98, 83, 81, 0, 14, 3, 4, 104, 91, 85, 0, 14, 3, 4, 114, 100, 92, 0, 14, 3, 4, 122, 103, 100, 0, 14, 3, 4, 146, 106, 112, 0, 16, 3, 4, 161, 115, 118, 0, 21, 3, 4, 180, 124, 130, 0, 21, 3, 4, 185, 136, 137, 0, 21, 3, 4, 194, 156, 148, 0, 22, 3, 4, 203, 175, 157, 0, 24, 3, 4, 209, 183, 171, 0, 24, 3, 4, 221, 191, 175, 0, 24, 4, 5, 234, 192, 180, 0, 26, 4, 6, 245, 197, 189]}],\n",
       "                        {\"height\": 500, \"plot_bgcolor\": \"rgb(180, 170, 175)\", \"template\": {\"data\": {\"bar\": [{\"error_x\": {\"color\": \"#2a3f5f\"}, \"error_y\": {\"color\": \"#2a3f5f\"}, \"marker\": {\"line\": {\"color\": \"#E5ECF6\", \"width\": 0.5}}, \"type\": \"bar\"}], \"barpolar\": [{\"marker\": {\"line\": {\"color\": \"#E5ECF6\", \"width\": 0.5}}, \"type\": \"barpolar\"}], \"carpet\": [{\"aaxis\": {\"endlinecolor\": \"#2a3f5f\", \"gridcolor\": \"white\", \"linecolor\": \"white\", \"minorgridcolor\": \"white\", \"startlinecolor\": \"#2a3f5f\"}, \"baxis\": {\"endlinecolor\": \"#2a3f5f\", \"gridcolor\": \"white\", \"linecolor\": \"white\", \"minorgridcolor\": \"white\", \"startlinecolor\": \"#2a3f5f\"}, \"type\": \"carpet\"}], \"choropleth\": [{\"colorbar\": {\"outlinewidth\": 0, \"ticks\": \"\"}, \"type\": \"choropleth\"}], \"contour\": [{\"colorbar\": {\"outlinewidth\": 0, \"ticks\": \"\"}, \"colorscale\": [[0.0, \"#0d0887\"], [0.1111111111111111, \"#46039f\"], [0.2222222222222222, \"#7201a8\"], [0.3333333333333333, \"#9c179e\"], [0.4444444444444444, \"#bd3786\"], [0.5555555555555556, \"#d8576b\"], [0.6666666666666666, \"#ed7953\"], [0.7777777777777778, \"#fb9f3a\"], [0.8888888888888888, \"#fdca26\"], [1.0, \"#f0f921\"]], \"type\": \"contour\"}], \"contourcarpet\": [{\"colorbar\": {\"outlinewidth\": 0, \"ticks\": \"\"}, \"type\": \"contourcarpet\"}], \"heatmap\": [{\"colorbar\": {\"outlinewidth\": 0, \"ticks\": \"\"}, \"colorscale\": [[0.0, \"#0d0887\"], [0.1111111111111111, \"#46039f\"], [0.2222222222222222, \"#7201a8\"], [0.3333333333333333, \"#9c179e\"], [0.4444444444444444, \"#bd3786\"], [0.5555555555555556, \"#d8576b\"], [0.6666666666666666, \"#ed7953\"], [0.7777777777777778, \"#fb9f3a\"], [0.8888888888888888, \"#fdca26\"], [1.0, \"#f0f921\"]], \"type\": \"heatmap\"}], \"heatmapgl\": [{\"colorbar\": {\"outlinewidth\": 0, \"ticks\": \"\"}, \"colorscale\": [[0.0, \"#0d0887\"], [0.1111111111111111, \"#46039f\"], [0.2222222222222222, \"#7201a8\"], [0.3333333333333333, \"#9c179e\"], [0.4444444444444444, \"#bd3786\"], [0.5555555555555556, \"#d8576b\"], [0.6666666666666666, \"#ed7953\"], [0.7777777777777778, \"#fb9f3a\"], [0.8888888888888888, \"#fdca26\"], [1.0, \"#f0f921\"]], \"type\": \"heatmapgl\"}], \"histogram\": [{\"marker\": {\"colorbar\": {\"outlinewidth\": 0, \"ticks\": \"\"}}, \"type\": \"histogram\"}], \"histogram2d\": [{\"colorbar\": {\"outlinewidth\": 0, \"ticks\": \"\"}, \"colorscale\": [[0.0, \"#0d0887\"], [0.1111111111111111, \"#46039f\"], [0.2222222222222222, \"#7201a8\"], [0.3333333333333333, \"#9c179e\"], [0.4444444444444444, \"#bd3786\"], [0.5555555555555556, \"#d8576b\"], [0.6666666666666666, \"#ed7953\"], [0.7777777777777778, \"#fb9f3a\"], [0.8888888888888888, \"#fdca26\"], [1.0, \"#f0f921\"]], \"type\": \"histogram2d\"}], \"histogram2dcontour\": [{\"colorbar\": {\"outlinewidth\": 0, \"ticks\": \"\"}, \"colorscale\": [[0.0, \"#0d0887\"], [0.1111111111111111, \"#46039f\"], [0.2222222222222222, \"#7201a8\"], [0.3333333333333333, \"#9c179e\"], [0.4444444444444444, \"#bd3786\"], [0.5555555555555556, \"#d8576b\"], [0.6666666666666666, \"#ed7953\"], [0.7777777777777778, \"#fb9f3a\"], [0.8888888888888888, \"#fdca26\"], [1.0, \"#f0f921\"]], \"type\": \"histogram2dcontour\"}], \"mesh3d\": [{\"colorbar\": {\"outlinewidth\": 0, \"ticks\": \"\"}, \"type\": \"mesh3d\"}], \"parcoords\": [{\"line\": {\"colorbar\": {\"outlinewidth\": 0, \"ticks\": \"\"}}, \"type\": \"parcoords\"}], \"pie\": [{\"automargin\": true, \"type\": \"pie\"}], \"scatter\": [{\"marker\": {\"colorbar\": {\"outlinewidth\": 0, \"ticks\": \"\"}}, \"type\": \"scatter\"}], \"scatter3d\": [{\"line\": {\"colorbar\": {\"outlinewidth\": 0, \"ticks\": \"\"}}, \"marker\": {\"colorbar\": {\"outlinewidth\": 0, \"ticks\": \"\"}}, \"type\": \"scatter3d\"}], \"scattercarpet\": [{\"marker\": {\"colorbar\": {\"outlinewidth\": 0, \"ticks\": \"\"}}, \"type\": \"scattercarpet\"}], \"scattergeo\": [{\"marker\": {\"colorbar\": {\"outlinewidth\": 0, \"ticks\": \"\"}}, \"type\": \"scattergeo\"}], \"scattergl\": [{\"marker\": {\"colorbar\": {\"outlinewidth\": 0, \"ticks\": \"\"}}, \"type\": \"scattergl\"}], \"scattermapbox\": [{\"marker\": {\"colorbar\": {\"outlinewidth\": 0, \"ticks\": \"\"}}, \"type\": \"scattermapbox\"}], \"scatterpolar\": [{\"marker\": {\"colorbar\": {\"outlinewidth\": 0, \"ticks\": \"\"}}, \"type\": \"scatterpolar\"}], \"scatterpolargl\": [{\"marker\": {\"colorbar\": {\"outlinewidth\": 0, \"ticks\": \"\"}}, \"type\": \"scatterpolargl\"}], \"scatterternary\": [{\"marker\": {\"colorbar\": {\"outlinewidth\": 0, \"ticks\": \"\"}}, \"type\": \"scatterternary\"}], \"surface\": [{\"colorbar\": {\"outlinewidth\": 0, \"ticks\": \"\"}, \"colorscale\": [[0.0, \"#0d0887\"], [0.1111111111111111, \"#46039f\"], [0.2222222222222222, \"#7201a8\"], [0.3333333333333333, \"#9c179e\"], [0.4444444444444444, \"#bd3786\"], [0.5555555555555556, \"#d8576b\"], [0.6666666666666666, \"#ed7953\"], [0.7777777777777778, \"#fb9f3a\"], [0.8888888888888888, \"#fdca26\"], [1.0, \"#f0f921\"]], \"type\": \"surface\"}], \"table\": [{\"cells\": {\"fill\": {\"color\": \"#EBF0F8\"}, \"line\": {\"color\": \"white\"}}, \"header\": {\"fill\": {\"color\": \"#C8D4E3\"}, \"line\": {\"color\": \"white\"}}, \"type\": \"table\"}]}, \"layout\": {\"annotationdefaults\": {\"arrowcolor\": \"#2a3f5f\", \"arrowhead\": 0, \"arrowwidth\": 1}, \"coloraxis\": {\"colorbar\": {\"outlinewidth\": 0, \"ticks\": \"\"}}, \"colorscale\": {\"diverging\": [[0, \"#8e0152\"], [0.1, \"#c51b7d\"], [0.2, \"#de77ae\"], [0.3, \"#f1b6da\"], [0.4, \"#fde0ef\"], [0.5, \"#f7f7f7\"], [0.6, \"#e6f5d0\"], [0.7, \"#b8e186\"], [0.8, \"#7fbc41\"], [0.9, \"#4d9221\"], [1, \"#276419\"]], \"sequential\": [[0.0, \"#0d0887\"], [0.1111111111111111, \"#46039f\"], [0.2222222222222222, \"#7201a8\"], [0.3333333333333333, \"#9c179e\"], [0.4444444444444444, \"#bd3786\"], [0.5555555555555556, \"#d8576b\"], [0.6666666666666666, \"#ed7953\"], [0.7777777777777778, \"#fb9f3a\"], [0.8888888888888888, \"#fdca26\"], [1.0, \"#f0f921\"]], \"sequentialminus\": [[0.0, \"#0d0887\"], [0.1111111111111111, \"#46039f\"], [0.2222222222222222, \"#7201a8\"], [0.3333333333333333, \"#9c179e\"], [0.4444444444444444, \"#bd3786\"], [0.5555555555555556, \"#d8576b\"], [0.6666666666666666, \"#ed7953\"], [0.7777777777777778, \"#fb9f3a\"], [0.8888888888888888, \"#fdca26\"], [1.0, \"#f0f921\"]]}, \"colorway\": [\"#636efa\", \"#EF553B\", \"#00cc96\", \"#ab63fa\", \"#FFA15A\", \"#19d3f3\", \"#FF6692\", \"#B6E880\", \"#FF97FF\", \"#FECB52\"], \"font\": {\"color\": \"#2a3f5f\"}, \"geo\": {\"bgcolor\": \"white\", \"lakecolor\": \"white\", \"landcolor\": \"#E5ECF6\", \"showlakes\": true, \"showland\": true, \"subunitcolor\": \"white\"}, \"hoverlabel\": {\"align\": \"left\"}, \"hovermode\": \"closest\", \"mapbox\": {\"style\": \"light\"}, \"paper_bgcolor\": \"white\", \"plot_bgcolor\": \"#E5ECF6\", \"polar\": {\"angularaxis\": {\"gridcolor\": \"white\", \"linecolor\": \"white\", \"ticks\": \"\"}, \"bgcolor\": \"#E5ECF6\", \"radialaxis\": {\"gridcolor\": \"white\", \"linecolor\": \"white\", \"ticks\": \"\"}}, \"scene\": {\"xaxis\": {\"backgroundcolor\": \"#E5ECF6\", \"gridcolor\": \"white\", \"gridwidth\": 2, \"linecolor\": \"white\", \"showbackground\": true, \"ticks\": \"\", \"zerolinecolor\": \"white\"}, \"yaxis\": {\"backgroundcolor\": \"#E5ECF6\", \"gridcolor\": \"white\", \"gridwidth\": 2, \"linecolor\": \"white\", \"showbackground\": true, \"ticks\": \"\", \"zerolinecolor\": \"white\"}, \"zaxis\": {\"backgroundcolor\": \"#E5ECF6\", \"gridcolor\": \"white\", \"gridwidth\": 2, \"linecolor\": \"white\", \"showbackground\": true, \"ticks\": \"\", \"zerolinecolor\": \"white\"}}, \"shapedefaults\": {\"line\": {\"color\": \"#2a3f5f\"}}, \"ternary\": {\"aaxis\": {\"gridcolor\": \"white\", \"linecolor\": \"white\", \"ticks\": \"\"}, \"baxis\": {\"gridcolor\": \"white\", \"linecolor\": \"white\", \"ticks\": \"\"}, \"bgcolor\": \"#E5ECF6\", \"caxis\": {\"gridcolor\": \"white\", \"linecolor\": \"white\", \"ticks\": \"\"}}, \"title\": {\"x\": 0.05}, \"xaxis\": {\"automargin\": true, \"gridcolor\": \"white\", \"linecolor\": \"white\", \"ticks\": \"\", \"title\": {\"standoff\": 15}, \"zerolinecolor\": \"white\", \"zerolinewidth\": 2}, \"yaxis\": {\"automargin\": true, \"gridcolor\": \"white\", \"linecolor\": \"white\", \"ticks\": \"\", \"title\": {\"standoff\": 15}, \"zerolinecolor\": \"white\", \"zerolinewidth\": 2}}}, \"title\": {\"text\": \"Coronavirus Cases in Pakistan\"}, \"width\": 500},\n",
       "                        {\"responsive\": true}\n",
       "                    ).then(function(){\n",
       "                            \n",
       "var gd = document.getElementById('e00151d6-39c8-4272-a9f9-d721890deddf');\n",
       "var x = new MutationObserver(function (mutations, observer) {{\n",
       "        var display = window.getComputedStyle(gd).display;\n",
       "        if (!display || display === 'none') {{\n",
       "            console.log([gd, 'removed!']);\n",
       "            Plotly.purge(gd);\n",
       "            observer.disconnect();\n",
       "        }}\n",
       "}});\n",
       "\n",
       "// Listen for the removal of the full notebook cells\n",
       "var notebookContainer = gd.closest('#notebook-container');\n",
       "if (notebookContainer) {{\n",
       "    x.observe(notebookContainer, {childList: true});\n",
       "}}\n",
       "\n",
       "// Listen for the clearing of the current output cell\n",
       "var outputEl = gd.closest('.output');\n",
       "if (outputEl) {{\n",
       "    x.observe(outputEl, {childList: true});\n",
       "}}\n",
       "\n",
       "                        })\n",
       "                };\n",
       "                });\n",
       "            </script>\n",
       "        </div>"
      ]
     },
     "metadata": {},
     "output_type": "display_data"
    }
   ],
   "source": [
    "fig = go.Figure()\n",
    "fig.add_trace(go.Scatter(x=covid_data['Date'], y=covid_data['Cumulative  Test positive'],\n",
    "                    mode='lines+markers',marker_color='blue',name='Confimned Cases'))\n",
    "#fig.add_trace(go.Scatter(x=train_df['Date'],y=train_df['Active'], \n",
    "#                mode='lines+markers',marker_color='purple',name='Active Cases'))\n",
    "fig.add_trace(go.Scatter(x=covid_data['Date'], y=covid_data['Discharged'],\n",
    "                mode='lines+markers',marker_color='green',name='Recovered'))\n",
    "fig.add_trace(go.Scatter(x=covid_data['Date'], y=covid_data['Expired'], \n",
    "                mode='lines+markers',marker_color='red',name='Deaths'))\n",
    "fig.update_layout(title_text='Coronavirus Cases in Pakistan',plot_bgcolor='rgb(180, 170, 175)',width=500, height=500)\n",
    "fig.show()"
   ]
  },
  {
   "cell_type": "code",
   "execution_count": 29,
   "metadata": {},
   "outputs": [
    {
     "data": {
      "application/vnd.plotly.v1+json": {
       "config": {
        "plotlyServerURL": "https://plot.ly"
       },
       "data": [
        {
         "customdata": [
          [
           8
          ],
          [
           7
          ],
          [
           55
          ],
          [
           2
          ],
          [
           0
          ],
          [
           4
          ],
          [
           0
          ],
          [
           4
          ],
          [
           5
          ],
          [
           10
          ],
          [
           27
          ],
          [
           1
          ],
          [
           0
          ],
          [
           4
          ],
          [
           4
          ],
          [
           2
          ],
          [
           7
          ],
          [
           5
          ],
          [
           42
          ],
          [
           1
          ],
          [
           0
          ],
          [
           0
          ],
          [
           1
          ],
          [
           4
          ],
          [
           7
          ],
          [
           6
          ],
          [
           42
          ],
          [
           1
          ],
          [
           0
          ],
          [
           17
          ],
          [
           1
          ],
          [
           4
          ],
          [
           16
          ],
          [
           10
          ],
          [
           33
          ],
          [
           1
          ],
          [
           0
          ],
          [
           7
          ],
          [
           1
          ],
          [
           9
          ],
          [
           32
          ],
          [
           40
          ],
          [
           49
          ],
          [
           0
          ],
          [
           0
          ],
          [
           12
          ],
          [
           0
          ],
          [
           0
          ],
          [
           6
          ],
          [
           195
          ],
          [
           0
          ],
          [
           190
          ],
          [
           19
          ],
          [
           0
          ],
          [
           95
          ],
          [
           0
          ],
          [
           0
          ],
          [
           0
          ],
          [
           0
          ],
          [
           0
          ],
          [
           0
          ],
          [
           0
          ],
          [
           0
          ],
          [
           0
          ],
          [
           0
          ],
          [
           0
          ],
          [
           0
          ],
          [
           0
          ],
          [
           0
          ],
          [
           0
          ],
          [
           0
          ],
          [
           0
          ],
          [
           0
          ],
          [
           0
          ],
          [
           0
          ],
          [
           0
          ],
          [
           0
          ],
          [
           0
          ],
          [
           0
          ],
          [
           0
          ],
          [
           0
          ],
          [
           0
          ],
          [
           0
          ],
          [
           0
          ],
          [
           0
          ],
          [
           0
          ],
          [
           0
          ],
          [
           0
          ],
          [
           0
          ],
          [
           0
          ],
          [
           0
          ],
          [
           0
          ],
          [
           0
          ],
          [
           0
          ],
          [
           0
          ],
          [
           0
          ],
          [
           0
          ],
          [
           0
          ],
          [
           0
          ],
          [
           0
          ],
          [
           0
          ],
          [
           0
          ],
          [
           0
          ],
          [
           0
          ],
          [
           0
          ],
          [
           0
          ],
          [
           0
          ],
          [
           0
          ],
          [
           0
          ],
          [
           0
          ],
          [
           0
          ],
          [
           0
          ],
          [
           0
          ],
          [
           0
          ],
          [
           0
          ],
          [
           0
          ],
          [
           0
          ],
          [
           0
          ],
          [
           0
          ],
          [
           0
          ],
          [
           0
          ],
          [
           0
          ],
          [
           0
          ],
          [
           0
          ],
          [
           0
          ],
          [
           0
          ],
          [
           0
          ],
          [
           0
          ],
          [
           0
          ],
          [
           0
          ],
          [
           0
          ],
          [
           0
          ],
          [
           0
          ],
          [
           0
          ],
          [
           0
          ],
          [
           0
          ],
          [
           0
          ],
          [
           0
          ],
          [
           0
          ],
          [
           0
          ],
          [
           0
          ],
          [
           0
          ],
          [
           0
          ],
          [
           0
          ],
          [
           0
          ],
          [
           0
          ],
          [
           0
          ],
          [
           0
          ],
          [
           0
          ],
          [
           0
          ],
          [
           0
          ],
          [
           0
          ],
          [
           0
          ],
          [
           0
          ],
          [
           0
          ],
          [
           0
          ],
          [
           0
          ],
          [
           0
          ],
          [
           0
          ],
          [
           0
          ],
          [
           0
          ],
          [
           0
          ],
          [
           0
          ],
          [
           0
          ],
          [
           0
          ],
          [
           0
          ],
          [
           0
          ],
          [
           0
          ],
          [
           0
          ],
          [
           0
          ],
          [
           0
          ],
          [
           0
          ],
          [
           0
          ],
          [
           0
          ],
          [
           0
          ],
          [
           0
          ],
          [
           0
          ],
          [
           0
          ],
          [
           0
          ],
          [
           0
          ],
          [
           0
          ],
          [
           21
          ],
          [
           0
          ],
          [
           844
          ],
          [
           174
          ],
          [
           181
          ],
          [
           1087
          ],
          [
           1121
          ],
          [
           42
          ],
          [
           132
          ],
          [
           116
          ],
          [
           175
          ],
          [
           147
          ],
          [
           1145
          ],
          [
           221
          ],
          [
           15
          ],
          [
           264
          ],
          [
           23
          ],
          [
           127
          ],
          [
           205
          ],
          [
           1014
          ],
          [
           285
          ],
          [
           84
          ],
          [
           221
          ],
          [
           17
          ],
          [
           50
          ],
          [
           129
          ],
          [
           1929
          ],
          [
           658
          ],
          [
           50
          ],
          [
           93
          ],
          [
           112
          ],
          [
           175
          ],
          [
           159
          ],
          [
           1853
          ],
          [
           634
          ],
          [
           47
          ],
          [
           125
          ],
          [
           16
          ],
          [
           137
          ],
          [
           400
          ],
          [
           1254
          ],
          [
           758
          ],
          [
           50
          ],
          [
           189
          ],
          [
           123
          ],
          [
           142
          ],
          [
           209
          ],
          [
           1123
          ],
          [
           642
          ],
          [
           114
          ],
          [
           289
          ],
          [
           68
          ],
          [
           105
          ],
          [
           175
          ],
          [
           1120
          ],
          [
           586
          ],
          [
           68
          ],
          [
           118
          ],
          [
           74
          ],
          [
           90
          ],
          [
           213
          ],
          [
           1711
          ],
          [
           531
          ],
          [
           97
          ],
          [
           94
          ],
          [
           68
          ],
          [
           266
          ],
          [
           219
          ],
          [
           1920
          ],
          [
           569
          ],
          [
           82
          ],
          [
           106
          ],
          [
           87
          ],
          [
           111
          ],
          [
           315
          ],
          [
           1925
          ],
          [
           531
          ],
          [
           37
          ],
          [
           88
          ],
          [
           55
          ],
          [
           120
          ],
          [
           358
          ],
          [
           1959
          ],
          [
           663
          ],
          [
           52
          ],
          [
           199
          ],
          [
           46
          ],
          [
           351
          ],
          [
           373
          ],
          [
           2996
          ],
          [
           1523
          ],
          [
           54
          ],
          [
           128
          ],
          [
           162
          ],
          [
           326
          ],
          [
           361
          ],
          [
           2359
          ],
          [
           2874
          ],
          [
           40
          ],
          [
           385
          ],
          [
           217
          ],
          [
           329
          ],
          [
           426
          ],
          [
           2647
          ],
          [
           2372
          ],
          [
           54
          ],
          [
           273
          ],
          [
           2021
          ],
          [
           378
          ],
          [
           692
          ],
          [
           2763
          ],
          [
           1666
          ],
          [
           46
          ],
          [
           230
          ],
          [
           261
          ],
          [
           119
          ],
          [
           541
          ],
          [
           2156
          ],
          [
           1520
          ],
          [
           80
          ],
          [
           321
          ],
          [
           174
          ],
          [
           248
          ],
          [
           579
          ],
          [
           2345
          ],
          [
           1600
          ],
          [
           6
          ],
          [
           329
          ],
          [
           141
          ],
          [
           483
          ],
          [
           1009
          ],
          [
           2635
          ],
          [
           2097
          ],
          [
           55
          ],
          [
           374
          ],
          [
           182
          ],
          [
           588
          ],
          [
           1126
          ],
          [
           1832
          ],
          [
           2682
          ],
          [
           51
          ],
          [
           236
          ],
          [
           164
          ],
          [
           540
          ],
          [
           1146
          ],
          [
           2089
          ],
          [
           2554
          ],
          [
           66
          ],
          [
           470
          ],
          [
           111
          ],
          [
           396
          ],
          [
           821
          ],
          [
           1755
          ],
          [
           2599
          ],
          [
           66
          ],
          [
           470
          ],
          [
           111
          ],
          [
           396
          ],
          [
           821
          ],
          [
           1755
          ],
          [
           2599
          ],
          [
           104
          ],
          [
           370
          ],
          [
           125
          ],
          [
           298
          ],
          [
           959
          ],
          [
           1500
          ],
          [
           3035
          ],
          [
           21
          ],
          [
           409
          ],
          [
           117
          ],
          [
           494
          ],
          [
           848
          ],
          [
           1845
          ],
          [
           2733
          ],
          [
           113
          ],
          [
           513
          ],
          [
           132
          ],
          [
           458
          ],
          [
           812
          ],
          [
           2548
          ],
          [
           4112
          ],
          [
           132
          ],
          [
           316
          ],
          [
           144
          ],
          [
           730
          ],
          [
           903
          ],
          [
           2295
          ],
          [
           3729
          ],
          [
           80
          ],
          [
           615
          ],
          [
           141
          ],
          [
           759
          ],
          [
           1052
          ],
          [
           2737
          ],
          [
           2587
          ],
          [
           16
          ],
          [
           386
          ],
          [
           214
          ],
          [
           495
          ],
          [
           985
          ],
          [
           3684
          ],
          [
           3384
          ],
          [
           42
          ],
          [
           317
          ],
          [
           146
          ],
          [
           415
          ],
          [
           1338
          ],
          [
           4232
          ],
          [
           3032
          ],
          [
           54
          ],
          [
           271
          ],
          [
           142
          ],
          [
           993
          ],
          [
           783
          ],
          [
           5043
          ],
          [
           2571
          ],
          [
           110
          ],
          [
           863
          ],
          [
           167
          ],
          [
           888
          ],
          [
           870
          ],
          [
           5030
          ],
          [
           2250
          ],
          [
           80
          ],
          [
           793
          ],
          [
           128
          ],
          [
           1022
          ],
          [
           1422
          ],
          [
           5080
          ],
          [
           3671
          ],
          [
           47
          ],
          [
           952
          ],
          [
           131
          ],
          [
           1059
          ],
          [
           1547
          ],
          [
           5199
          ],
          [
           3534
          ],
          [
           150
          ],
          [
           530
          ],
          [
           128
          ],
          [
           991
          ],
          [
           1459
          ],
          [
           3988
          ],
          [
           5532
          ],
          [
           112
          ],
          [
           603
          ],
          [
           175
          ],
          [
           1098
          ],
          [
           1212
          ],
          [
           4794
          ],
          [
           5498
          ],
          [
           74
          ],
          [
           313
          ],
          [
           170
          ],
          [
           777
          ],
          [
           1270
          ],
          [
           4558
          ],
          [
           4215
          ]
         ],
         "hovertemplate": "Date=%{x}<br>Tests  performed in last 24 hours=%{marker.color}<extra></extra>",
         "legendgroup": "",
         "marker": {
          "color": [
           8,
           7,
           55,
           2,
           0,
           4,
           0,
           4,
           5,
           10,
           27,
           1,
           0,
           4,
           4,
           2,
           7,
           5,
           42,
           1,
           0,
           0,
           1,
           4,
           7,
           6,
           42,
           1,
           0,
           17,
           1,
           4,
           16,
           10,
           33,
           1,
           0,
           7,
           1,
           9,
           32,
           40,
           49,
           0,
           0,
           12,
           0,
           0,
           6,
           195,
           0,
           190,
           19,
           0,
           95,
           0,
           0,
           0,
           0,
           0,
           0,
           0,
           0,
           0,
           0,
           0,
           0,
           0,
           0,
           0,
           0,
           0,
           0,
           0,
           0,
           0,
           0,
           0,
           0,
           0,
           0,
           0,
           0,
           0,
           0,
           0,
           0,
           0,
           0,
           0,
           0,
           0,
           0,
           0,
           0,
           0,
           0,
           0,
           0,
           0,
           0,
           0,
           0,
           0,
           0,
           0,
           0,
           0,
           0,
           0,
           0,
           0,
           0,
           0,
           0,
           0,
           0,
           0,
           0,
           0,
           0,
           0,
           0,
           0,
           0,
           0,
           0,
           0,
           0,
           0,
           0,
           0,
           0,
           0,
           0,
           0,
           0,
           0,
           0,
           0,
           0,
           0,
           0,
           0,
           0,
           0,
           0,
           0,
           0,
           0,
           0,
           0,
           0,
           0,
           0,
           0,
           0,
           0,
           0,
           0,
           0,
           0,
           0,
           0,
           0,
           0,
           0,
           0,
           0,
           0,
           0,
           0,
           0,
           0,
           0,
           0,
           0,
           0,
           0,
           0,
           0,
           21,
           0,
           844,
           174,
           181,
           1087,
           1121,
           42,
           132,
           116,
           175,
           147,
           1145,
           221,
           15,
           264,
           23,
           127,
           205,
           1014,
           285,
           84,
           221,
           17,
           50,
           129,
           1929,
           658,
           50,
           93,
           112,
           175,
           159,
           1853,
           634,
           47,
           125,
           16,
           137,
           400,
           1254,
           758,
           50,
           189,
           123,
           142,
           209,
           1123,
           642,
           114,
           289,
           68,
           105,
           175,
           1120,
           586,
           68,
           118,
           74,
           90,
           213,
           1711,
           531,
           97,
           94,
           68,
           266,
           219,
           1920,
           569,
           82,
           106,
           87,
           111,
           315,
           1925,
           531,
           37,
           88,
           55,
           120,
           358,
           1959,
           663,
           52,
           199,
           46,
           351,
           373,
           2996,
           1523,
           54,
           128,
           162,
           326,
           361,
           2359,
           2874,
           40,
           385,
           217,
           329,
           426,
           2647,
           2372,
           54,
           273,
           2021,
           378,
           692,
           2763,
           1666,
           46,
           230,
           261,
           119,
           541,
           2156,
           1520,
           80,
           321,
           174,
           248,
           579,
           2345,
           1600,
           6,
           329,
           141,
           483,
           1009,
           2635,
           2097,
           55,
           374,
           182,
           588,
           1126,
           1832,
           2682,
           51,
           236,
           164,
           540,
           1146,
           2089,
           2554,
           66,
           470,
           111,
           396,
           821,
           1755,
           2599,
           66,
           470,
           111,
           396,
           821,
           1755,
           2599,
           104,
           370,
           125,
           298,
           959,
           1500,
           3035,
           21,
           409,
           117,
           494,
           848,
           1845,
           2733,
           113,
           513,
           132,
           458,
           812,
           2548,
           4112,
           132,
           316,
           144,
           730,
           903,
           2295,
           3729,
           80,
           615,
           141,
           759,
           1052,
           2737,
           2587,
           16,
           386,
           214,
           495,
           985,
           3684,
           3384,
           42,
           317,
           146,
           415,
           1338,
           4232,
           3032,
           54,
           271,
           142,
           993,
           783,
           5043,
           2571,
           110,
           863,
           167,
           888,
           870,
           5030,
           2250,
           80,
           793,
           128,
           1022,
           1422,
           5080,
           3671,
           47,
           952,
           131,
           1059,
           1547,
           5199,
           3534,
           150,
           530,
           128,
           991,
           1459,
           3988,
           5532,
           112,
           603,
           175,
           1098,
           1212,
           4794,
           5498,
           74,
           313,
           170,
           777,
           1270,
           4558,
           4215
          ],
          "coloraxis": "coloraxis",
          "size": [
           8,
           7,
           55,
           2,
           0,
           4,
           0,
           4,
           5,
           10,
           27,
           1,
           0,
           4,
           4,
           2,
           7,
           5,
           42,
           1,
           0,
           0,
           1,
           4,
           7,
           6,
           42,
           1,
           0,
           17,
           1,
           4,
           16,
           10,
           33,
           1,
           0,
           7,
           1,
           9,
           32,
           40,
           49,
           0,
           0,
           12,
           0,
           0,
           6,
           195,
           0,
           190,
           19,
           0,
           95,
           0,
           0,
           0,
           0,
           0,
           0,
           0,
           0,
           0,
           0,
           0,
           0,
           0,
           0,
           0,
           0,
           0,
           0,
           0,
           0,
           0,
           0,
           0,
           0,
           0,
           0,
           0,
           0,
           0,
           0,
           0,
           0,
           0,
           0,
           0,
           0,
           0,
           0,
           0,
           0,
           0,
           0,
           0,
           0,
           0,
           0,
           0,
           0,
           0,
           0,
           0,
           0,
           0,
           0,
           0,
           0,
           0,
           0,
           0,
           0,
           0,
           0,
           0,
           0,
           0,
           0,
           0,
           0,
           0,
           0,
           0,
           0,
           0,
           0,
           0,
           0,
           0,
           0,
           0,
           0,
           0,
           0,
           0,
           0,
           0,
           0,
           0,
           0,
           0,
           0,
           0,
           0,
           0,
           0,
           0,
           0,
           0,
           0,
           0,
           0,
           0,
           0,
           0,
           0,
           0,
           0,
           0,
           0,
           0,
           0,
           0,
           0,
           0,
           0,
           0,
           0,
           0,
           0,
           0,
           0,
           0,
           0,
           0,
           0,
           0,
           0,
           21,
           0,
           844,
           174,
           181,
           1087,
           1121,
           42,
           132,
           116,
           175,
           147,
           1145,
           221,
           15,
           264,
           23,
           127,
           205,
           1014,
           285,
           84,
           221,
           17,
           50,
           129,
           1929,
           658,
           50,
           93,
           112,
           175,
           159,
           1853,
           634,
           47,
           125,
           16,
           137,
           400,
           1254,
           758,
           50,
           189,
           123,
           142,
           209,
           1123,
           642,
           114,
           289,
           68,
           105,
           175,
           1120,
           586,
           68,
           118,
           74,
           90,
           213,
           1711,
           531,
           97,
           94,
           68,
           266,
           219,
           1920,
           569,
           82,
           106,
           87,
           111,
           315,
           1925,
           531,
           37,
           88,
           55,
           120,
           358,
           1959,
           663,
           52,
           199,
           46,
           351,
           373,
           2996,
           1523,
           54,
           128,
           162,
           326,
           361,
           2359,
           2874,
           40,
           385,
           217,
           329,
           426,
           2647,
           2372,
           54,
           273,
           2021,
           378,
           692,
           2763,
           1666,
           46,
           230,
           261,
           119,
           541,
           2156,
           1520,
           80,
           321,
           174,
           248,
           579,
           2345,
           1600,
           6,
           329,
           141,
           483,
           1009,
           2635,
           2097,
           55,
           374,
           182,
           588,
           1126,
           1832,
           2682,
           51,
           236,
           164,
           540,
           1146,
           2089,
           2554,
           66,
           470,
           111,
           396,
           821,
           1755,
           2599,
           66,
           470,
           111,
           396,
           821,
           1755,
           2599,
           104,
           370,
           125,
           298,
           959,
           1500,
           3035,
           21,
           409,
           117,
           494,
           848,
           1845,
           2733,
           113,
           513,
           132,
           458,
           812,
           2548,
           4112,
           132,
           316,
           144,
           730,
           903,
           2295,
           3729,
           80,
           615,
           141,
           759,
           1052,
           2737,
           2587,
           16,
           386,
           214,
           495,
           985,
           3684,
           3384,
           42,
           317,
           146,
           415,
           1338,
           4232,
           3032,
           54,
           271,
           142,
           993,
           783,
           5043,
           2571,
           110,
           863,
           167,
           888,
           870,
           5030,
           2250,
           80,
           793,
           128,
           1022,
           1422,
           5080,
           3671,
           47,
           952,
           131,
           1059,
           1547,
           5199,
           3534,
           150,
           530,
           128,
           991,
           1459,
           3988,
           5532,
           112,
           603,
           175,
           1098,
           1212,
           4794,
           5498,
           74,
           313,
           170,
           777,
           1270,
           4558,
           4215
          ],
          "sizemode": "area",
          "sizeref": 13.83,
          "symbol": "circle"
         },
         "mode": "markers",
         "name": "",
         "showlegend": false,
         "type": "scatter",
         "x": [
          "2020/03/11",
          "2020/03/11",
          "2020/03/11",
          "2020/03/11",
          "2020/03/11",
          "2020/03/11",
          "2020/03/11",
          "2020/03/11",
          "2020/03/12",
          "2020/03/12",
          "2020/03/12",
          "2020/03/12",
          "2020/03/12",
          "2020/03/12",
          "2020/03/12",
          "2020/03/12",
          "2020/03/13",
          "2020/03/13",
          "2020/03/13",
          "2020/03/13",
          "2020/03/13",
          "2020/03/13",
          "2020/03/13",
          "2020/03/13",
          "2020/03/14",
          "2020/03/14",
          "2020/03/14",
          "2020/03/14",
          "2020/03/14",
          "2020/03/14",
          "2020/03/14",
          "2020/03/14",
          "2020/03/15",
          "2020/03/15",
          "2020/03/15",
          "2020/03/15",
          "2020/03/15",
          "2020/03/15",
          "2020/03/15",
          "2020/03/15",
          "2020/03/16",
          "2020/03/16",
          "2020/03/16",
          "2020/03/16",
          "2020/03/16",
          "2020/03/16",
          "2020/03/16",
          "2020/03/16",
          "2020/03/16",
          "2020/03/17",
          "2020/03/17",
          "2020/03/17",
          "2020/03/17",
          "2020/03/17",
          "2020/03/17",
          "2020/03/17",
          "2020/03/17",
          "2020/03/18",
          "2020/03/18",
          "2020/03/18",
          "2020/03/18",
          "2020/03/18",
          "2020/03/18",
          "2020/03/18",
          "2020/03/18",
          "2020/03/19",
          "2020/03/19",
          "2020/03/19",
          "2020/03/19",
          "2020/03/19",
          "2020/03/19",
          "2020/03/19",
          "2020/03/19",
          "2020/03/20",
          "2020/03/20",
          "2020/03/20",
          "2020/03/20",
          "2020/03/20",
          "2020/03/20",
          "2020/03/20",
          "2020/03/20",
          "2020/03/21",
          "2020/03/21",
          "2020/03/21",
          "2020/03/21",
          "2020/03/21",
          "2020/03/21",
          "2020/03/21",
          "2020/03/21",
          "2020/03/22",
          "2020/03/22",
          "2020/03/22",
          "2020/03/22",
          "2020/03/22",
          "2020/03/22",
          "2020/03/22",
          "2020/03/22",
          "2020/03/23",
          "2020/03/23",
          "2020/03/23",
          "2020/03/23",
          "2020/03/23",
          "2020/03/23",
          "2020/03/23",
          "2020/03/24",
          "2020/03/24",
          "2020/03/24",
          "2020/03/24",
          "2020/03/24",
          "2020/03/24",
          "2020/03/24",
          "2020/03/25",
          "2020/03/25",
          "2020/03/25",
          "2020/03/25",
          "2020/03/25",
          "2020/03/25",
          "2020/03/25",
          "2020/03/26",
          "2020/03/26",
          "2020/03/26",
          "2020/03/26",
          "2020/03/26",
          "2020/03/26",
          "2020/03/26",
          "2020/03/27",
          "2020/03/27",
          "2020/03/27",
          "2020/03/27",
          "2020/03/27",
          "2020/03/27",
          "2020/03/27",
          "2020/03/28",
          "2020/03/28",
          "2020/03/28",
          "2020/03/28",
          "2020/03/28",
          "2020/03/28",
          "2020/03/28",
          "2020/03/29",
          "2020/03/29",
          "2020/03/29",
          "2020/03/29",
          "2020/03/29",
          "2020/03/29",
          "2020/03/29",
          "2020/03/30",
          "2020/03/30",
          "2020/03/30",
          "2020/03/30",
          "2020/03/30",
          "2020/03/30",
          "2020/03/30",
          "2020/03/31",
          "2020/03/31",
          "2020/03/31",
          "2020/03/31",
          "2020/03/31",
          "2020/03/31",
          "2020/03/31",
          "2020/04/01",
          "2020/04/01",
          "2020/04/01",
          "2020/04/01",
          "2020/04/01",
          "2020/04/01",
          "2020/04/01",
          "2020/04/02",
          "2020/04/02",
          "2020/04/02",
          "2020/04/02",
          "2020/04/02",
          "2020/04/02",
          "2020/04/02",
          "2020/04/03",
          "2020/04/03",
          "2020/04/03",
          "2020/04/03",
          "2020/04/03",
          "2020/04/03",
          "2020/04/03",
          "2020/04/04",
          "2020/04/04",
          "2020/04/04",
          "2020/04/04",
          "2020/04/04",
          "2020/04/04",
          "2020/04/04",
          "2020/04/05",
          "2020/04/05",
          "2020/04/05",
          "2020/04/05",
          "2020/04/05",
          "2020/04/05",
          "2020/04/05",
          "2020/04/06",
          "2020/04/06",
          "2020/04/06",
          "2020/04/06",
          "2020/04/06",
          "2020/04/06",
          "2020/04/06",
          "2020/04/07",
          "2020/04/07",
          "2020/04/07",
          "2020/04/07",
          "2020/04/07",
          "2020/04/07",
          "2020/04/07",
          "2020/04/08",
          "2020/04/08",
          "2020/04/08",
          "2020/04/08",
          "2020/04/08",
          "2020/04/08",
          "2020/04/08",
          "2020/04/09",
          "2020/04/09",
          "2020/04/09",
          "2020/04/09",
          "2020/04/09",
          "2020/04/09",
          "2020/04/09",
          "2020/04/10",
          "2020/04/10",
          "2020/04/10",
          "2020/04/10",
          "2020/04/10",
          "2020/04/10",
          "2020/04/10",
          "2020/04/11",
          "2020/04/11",
          "2020/04/11",
          "2020/04/11",
          "2020/04/11",
          "2020/04/11",
          "2020/04/11",
          "2020/04/12",
          "2020/04/12",
          "2020/04/12",
          "2020/04/12",
          "2020/04/12",
          "2020/04/12",
          "2020/04/12",
          "2020/04/13",
          "2020/04/13",
          "2020/04/13",
          "2020/04/13",
          "2020/04/13",
          "2020/04/13",
          "2020/04/13",
          "2020/04/14",
          "2020/04/14",
          "2020/04/14",
          "2020/04/14",
          "2020/04/14",
          "2020/04/14",
          "2020/04/14",
          "2020/04/15",
          "2020/04/15",
          "2020/04/15",
          "2020/04/15",
          "2020/04/15",
          "2020/04/15",
          "2020/04/15",
          "2020/04/16",
          "2020/04/16",
          "2020/04/16",
          "2020/04/16",
          "2020/04/16",
          "2020/04/16",
          "2020/04/16",
          "2020/04/17",
          "2020/04/17",
          "2020/04/17",
          "2020/04/17",
          "2020/04/17",
          "2020/04/17",
          "2020/04/17",
          "2020/04/18",
          "2020/04/18",
          "2020/04/18",
          "2020/04/18",
          "2020/04/18",
          "2020/04/18",
          "2020/04/18",
          "2020/04/19",
          "2020/04/19",
          "2020/04/19",
          "2020/04/19",
          "2020/04/19",
          "2020/04/19",
          "2020/04/19",
          "2020/04/20",
          "2020/04/20",
          "2020/04/20",
          "2020/04/20",
          "2020/04/20",
          "2020/04/20",
          "2020/04/20",
          "2020/04/21",
          "2020/04/21",
          "2020/04/21",
          "2020/04/21",
          "2020/04/21",
          "2020/04/21",
          "2020/04/21",
          "2020/04/22",
          "2020/04/22",
          "2020/04/22",
          "2020/04/22",
          "2020/04/22",
          "2020/04/22",
          "2020/04/22",
          "2020/04/23",
          "2020/04/23",
          "2020/04/23",
          "2020/04/23",
          "2020/04/23",
          "2020/04/23",
          "2020/04/23",
          "2020/04/24",
          "2020/04/24",
          "2020/04/24",
          "2020/04/24",
          "2020/04/24",
          "2020/04/24",
          "2020/04/24",
          "2020/04/25",
          "2020/04/25",
          "2020/04/25",
          "2020/04/25",
          "2020/04/25",
          "2020/04/25",
          "2020/04/25",
          "2020/04/26",
          "2020/04/26",
          "2020/04/26",
          "2020/04/26",
          "2020/04/26",
          "2020/04/26",
          "2020/04/26",
          "2020/04/27",
          "2020/04/27",
          "2020/04/27",
          "2020/04/27",
          "2020/04/27",
          "2020/04/27",
          "2020/04/27",
          "2020/04/28",
          "2020/04/28",
          "2020/04/28",
          "2020/04/28",
          "2020/04/28",
          "2020/04/28",
          "2020/04/28",
          "2020/04/29",
          "2020/04/29",
          "2020/04/29",
          "2020/04/29",
          "2020/04/29",
          "2020/04/29",
          "2020/04/29",
          "2020/04/30",
          "2020/04/30",
          "2020/04/30",
          "2020/04/30",
          "2020/04/30",
          "2020/04/30",
          "2020/04/30",
          "2020/05/01",
          "2020/05/01",
          "2020/05/01",
          "2020/05/01",
          "2020/05/01",
          "2020/05/01",
          "2020/05/01",
          "2020/05/02",
          "2020/05/02",
          "2020/05/02",
          "2020/05/02",
          "2020/05/02",
          "2020/05/02",
          "2020/05/02",
          "2020/05/04",
          "2020/05/04",
          "2020/05/04",
          "2020/05/04",
          "2020/05/04",
          "2020/05/04",
          "2020/05/04",
          "2020/05/05",
          "2020/05/05",
          "2020/05/05",
          "2020/05/05",
          "2020/05/05",
          "2020/05/05",
          "2020/05/05",
          "2020/05/06",
          "2020/05/06",
          "2020/05/06",
          "2020/05/06",
          "2020/05/06",
          "2020/05/06",
          "2020/05/06",
          "2020/05/07",
          "2020/05/07",
          "2020/05/07",
          "2020/05/07",
          "2020/05/07",
          "2020/05/07",
          "2020/05/07",
          "2020/05/08",
          "2020/05/08",
          "2020/05/08",
          "2020/05/08",
          "2020/05/08",
          "2020/05/08",
          "2020/05/08",
          "2020/05/09",
          "2020/05/09",
          "2020/05/09",
          "2020/05/09",
          "2020/05/09",
          "2020/05/09",
          "2020/05/09",
          "2020/05/10",
          "2020/05/10",
          "2020/05/10",
          "2020/05/10",
          "2020/05/10",
          "2020/05/10",
          "2020/05/10",
          "2020/05/11",
          "2020/05/11",
          "2020/05/11",
          "2020/05/11",
          "2020/05/11",
          "2020/05/11",
          "2020/05/11"
         ],
         "xaxis": "x",
         "y": [
          8,
          7,
          55,
          2,
          0,
          4,
          0,
          4,
          5,
          10,
          27,
          1,
          0,
          4,
          4,
          2,
          7,
          5,
          42,
          1,
          0,
          0,
          1,
          4,
          7,
          6,
          42,
          1,
          0,
          17,
          1,
          4,
          16,
          10,
          33,
          1,
          0,
          7,
          1,
          9,
          32,
          40,
          49,
          0,
          0,
          12,
          0,
          0,
          6,
          195,
          0,
          190,
          19,
          0,
          95,
          0,
          0,
          0,
          0,
          0,
          0,
          0,
          0,
          0,
          0,
          0,
          0,
          0,
          0,
          0,
          0,
          0,
          0,
          0,
          0,
          0,
          0,
          0,
          0,
          0,
          0,
          0,
          0,
          0,
          0,
          0,
          0,
          0,
          0,
          0,
          0,
          0,
          0,
          0,
          0,
          0,
          0,
          0,
          0,
          0,
          0,
          0,
          0,
          0,
          0,
          0,
          0,
          0,
          0,
          0,
          0,
          0,
          0,
          0,
          0,
          0,
          0,
          0,
          0,
          0,
          0,
          0,
          0,
          0,
          0,
          0,
          0,
          0,
          0,
          0,
          0,
          0,
          0,
          0,
          0,
          0,
          0,
          0,
          0,
          0,
          0,
          0,
          0,
          0,
          0,
          0,
          0,
          0,
          0,
          0,
          0,
          0,
          0,
          0,
          0,
          0,
          0,
          0,
          0,
          0,
          0,
          0,
          0,
          0,
          0,
          0,
          0,
          0,
          0,
          0,
          0,
          0,
          0,
          0,
          0,
          0,
          0,
          0,
          0,
          0,
          0,
          21,
          0,
          844,
          174,
          181,
          1087,
          1121,
          42,
          132,
          116,
          175,
          147,
          1145,
          221,
          15,
          264,
          23,
          127,
          205,
          1014,
          285,
          84,
          221,
          17,
          50,
          129,
          1929,
          658,
          50,
          93,
          112,
          175,
          159,
          1853,
          634,
          47,
          125,
          16,
          137,
          400,
          1254,
          758,
          50,
          189,
          123,
          142,
          209,
          1123,
          642,
          114,
          289,
          68,
          105,
          175,
          1120,
          586,
          68,
          118,
          74,
          90,
          213,
          1711,
          531,
          97,
          94,
          68,
          266,
          219,
          1920,
          569,
          82,
          106,
          87,
          111,
          315,
          1925,
          531,
          37,
          88,
          55,
          120,
          358,
          1959,
          663,
          52,
          199,
          46,
          351,
          373,
          2996,
          1523,
          54,
          128,
          162,
          326,
          361,
          2359,
          2874,
          40,
          385,
          217,
          329,
          426,
          2647,
          2372,
          54,
          273,
          2021,
          378,
          692,
          2763,
          1666,
          46,
          230,
          261,
          119,
          541,
          2156,
          1520,
          80,
          321,
          174,
          248,
          579,
          2345,
          1600,
          6,
          329,
          141,
          483,
          1009,
          2635,
          2097,
          55,
          374,
          182,
          588,
          1126,
          1832,
          2682,
          51,
          236,
          164,
          540,
          1146,
          2089,
          2554,
          66,
          470,
          111,
          396,
          821,
          1755,
          2599,
          66,
          470,
          111,
          396,
          821,
          1755,
          2599,
          104,
          370,
          125,
          298,
          959,
          1500,
          3035,
          21,
          409,
          117,
          494,
          848,
          1845,
          2733,
          113,
          513,
          132,
          458,
          812,
          2548,
          4112,
          132,
          316,
          144,
          730,
          903,
          2295,
          3729,
          80,
          615,
          141,
          759,
          1052,
          2737,
          2587,
          16,
          386,
          214,
          495,
          985,
          3684,
          3384,
          42,
          317,
          146,
          415,
          1338,
          4232,
          3032,
          54,
          271,
          142,
          993,
          783,
          5043,
          2571,
          110,
          863,
          167,
          888,
          870,
          5030,
          2250,
          80,
          793,
          128,
          1022,
          1422,
          5080,
          3671,
          47,
          952,
          131,
          1059,
          1547,
          5199,
          3534,
          150,
          530,
          128,
          991,
          1459,
          3988,
          5532,
          112,
          603,
          175,
          1098,
          1212,
          4794,
          5498,
          74,
          313,
          170,
          777,
          1270,
          4558,
          4215
         ],
         "yaxis": "y"
        }
       ],
       "layout": {
        "coloraxis": {
         "colorbar": {
          "title": {
           "text": "Tests  performed in last 24 hours"
          }
         },
         "colorscale": [
          [
           0,
           "#0d0887"
          ],
          [
           0.1111111111111111,
           "#46039f"
          ],
          [
           0.2222222222222222,
           "#7201a8"
          ],
          [
           0.3333333333333333,
           "#9c179e"
          ],
          [
           0.4444444444444444,
           "#bd3786"
          ],
          [
           0.5555555555555556,
           "#d8576b"
          ],
          [
           0.6666666666666666,
           "#ed7953"
          ],
          [
           0.7777777777777778,
           "#fb9f3a"
          ],
          [
           0.8888888888888888,
           "#fdca26"
          ],
          [
           1,
           "#f0f921"
          ]
         ]
        },
        "height": 600,
        "legend": {
         "itemsizing": "constant",
         "tracegroupgap": 0
        },
        "margin": {
         "t": 60
        },
        "plot_bgcolor": "rgb(275, 270, 273)",
        "template": {
         "data": {
          "bar": [
           {
            "error_x": {
             "color": "#2a3f5f"
            },
            "error_y": {
             "color": "#2a3f5f"
            },
            "marker": {
             "line": {
              "color": "#E5ECF6",
              "width": 0.5
             }
            },
            "type": "bar"
           }
          ],
          "barpolar": [
           {
            "marker": {
             "line": {
              "color": "#E5ECF6",
              "width": 0.5
             }
            },
            "type": "barpolar"
           }
          ],
          "carpet": [
           {
            "aaxis": {
             "endlinecolor": "#2a3f5f",
             "gridcolor": "white",
             "linecolor": "white",
             "minorgridcolor": "white",
             "startlinecolor": "#2a3f5f"
            },
            "baxis": {
             "endlinecolor": "#2a3f5f",
             "gridcolor": "white",
             "linecolor": "white",
             "minorgridcolor": "white",
             "startlinecolor": "#2a3f5f"
            },
            "type": "carpet"
           }
          ],
          "choropleth": [
           {
            "colorbar": {
             "outlinewidth": 0,
             "ticks": ""
            },
            "type": "choropleth"
           }
          ],
          "contour": [
           {
            "colorbar": {
             "outlinewidth": 0,
             "ticks": ""
            },
            "colorscale": [
             [
              0,
              "#0d0887"
             ],
             [
              0.1111111111111111,
              "#46039f"
             ],
             [
              0.2222222222222222,
              "#7201a8"
             ],
             [
              0.3333333333333333,
              "#9c179e"
             ],
             [
              0.4444444444444444,
              "#bd3786"
             ],
             [
              0.5555555555555556,
              "#d8576b"
             ],
             [
              0.6666666666666666,
              "#ed7953"
             ],
             [
              0.7777777777777778,
              "#fb9f3a"
             ],
             [
              0.8888888888888888,
              "#fdca26"
             ],
             [
              1,
              "#f0f921"
             ]
            ],
            "type": "contour"
           }
          ],
          "contourcarpet": [
           {
            "colorbar": {
             "outlinewidth": 0,
             "ticks": ""
            },
            "type": "contourcarpet"
           }
          ],
          "heatmap": [
           {
            "colorbar": {
             "outlinewidth": 0,
             "ticks": ""
            },
            "colorscale": [
             [
              0,
              "#0d0887"
             ],
             [
              0.1111111111111111,
              "#46039f"
             ],
             [
              0.2222222222222222,
              "#7201a8"
             ],
             [
              0.3333333333333333,
              "#9c179e"
             ],
             [
              0.4444444444444444,
              "#bd3786"
             ],
             [
              0.5555555555555556,
              "#d8576b"
             ],
             [
              0.6666666666666666,
              "#ed7953"
             ],
             [
              0.7777777777777778,
              "#fb9f3a"
             ],
             [
              0.8888888888888888,
              "#fdca26"
             ],
             [
              1,
              "#f0f921"
             ]
            ],
            "type": "heatmap"
           }
          ],
          "heatmapgl": [
           {
            "colorbar": {
             "outlinewidth": 0,
             "ticks": ""
            },
            "colorscale": [
             [
              0,
              "#0d0887"
             ],
             [
              0.1111111111111111,
              "#46039f"
             ],
             [
              0.2222222222222222,
              "#7201a8"
             ],
             [
              0.3333333333333333,
              "#9c179e"
             ],
             [
              0.4444444444444444,
              "#bd3786"
             ],
             [
              0.5555555555555556,
              "#d8576b"
             ],
             [
              0.6666666666666666,
              "#ed7953"
             ],
             [
              0.7777777777777778,
              "#fb9f3a"
             ],
             [
              0.8888888888888888,
              "#fdca26"
             ],
             [
              1,
              "#f0f921"
             ]
            ],
            "type": "heatmapgl"
           }
          ],
          "histogram": [
           {
            "marker": {
             "colorbar": {
              "outlinewidth": 0,
              "ticks": ""
             }
            },
            "type": "histogram"
           }
          ],
          "histogram2d": [
           {
            "colorbar": {
             "outlinewidth": 0,
             "ticks": ""
            },
            "colorscale": [
             [
              0,
              "#0d0887"
             ],
             [
              0.1111111111111111,
              "#46039f"
             ],
             [
              0.2222222222222222,
              "#7201a8"
             ],
             [
              0.3333333333333333,
              "#9c179e"
             ],
             [
              0.4444444444444444,
              "#bd3786"
             ],
             [
              0.5555555555555556,
              "#d8576b"
             ],
             [
              0.6666666666666666,
              "#ed7953"
             ],
             [
              0.7777777777777778,
              "#fb9f3a"
             ],
             [
              0.8888888888888888,
              "#fdca26"
             ],
             [
              1,
              "#f0f921"
             ]
            ],
            "type": "histogram2d"
           }
          ],
          "histogram2dcontour": [
           {
            "colorbar": {
             "outlinewidth": 0,
             "ticks": ""
            },
            "colorscale": [
             [
              0,
              "#0d0887"
             ],
             [
              0.1111111111111111,
              "#46039f"
             ],
             [
              0.2222222222222222,
              "#7201a8"
             ],
             [
              0.3333333333333333,
              "#9c179e"
             ],
             [
              0.4444444444444444,
              "#bd3786"
             ],
             [
              0.5555555555555556,
              "#d8576b"
             ],
             [
              0.6666666666666666,
              "#ed7953"
             ],
             [
              0.7777777777777778,
              "#fb9f3a"
             ],
             [
              0.8888888888888888,
              "#fdca26"
             ],
             [
              1,
              "#f0f921"
             ]
            ],
            "type": "histogram2dcontour"
           }
          ],
          "mesh3d": [
           {
            "colorbar": {
             "outlinewidth": 0,
             "ticks": ""
            },
            "type": "mesh3d"
           }
          ],
          "parcoords": [
           {
            "line": {
             "colorbar": {
              "outlinewidth": 0,
              "ticks": ""
             }
            },
            "type": "parcoords"
           }
          ],
          "pie": [
           {
            "automargin": true,
            "type": "pie"
           }
          ],
          "scatter": [
           {
            "marker": {
             "colorbar": {
              "outlinewidth": 0,
              "ticks": ""
             }
            },
            "type": "scatter"
           }
          ],
          "scatter3d": [
           {
            "line": {
             "colorbar": {
              "outlinewidth": 0,
              "ticks": ""
             }
            },
            "marker": {
             "colorbar": {
              "outlinewidth": 0,
              "ticks": ""
             }
            },
            "type": "scatter3d"
           }
          ],
          "scattercarpet": [
           {
            "marker": {
             "colorbar": {
              "outlinewidth": 0,
              "ticks": ""
             }
            },
            "type": "scattercarpet"
           }
          ],
          "scattergeo": [
           {
            "marker": {
             "colorbar": {
              "outlinewidth": 0,
              "ticks": ""
             }
            },
            "type": "scattergeo"
           }
          ],
          "scattergl": [
           {
            "marker": {
             "colorbar": {
              "outlinewidth": 0,
              "ticks": ""
             }
            },
            "type": "scattergl"
           }
          ],
          "scattermapbox": [
           {
            "marker": {
             "colorbar": {
              "outlinewidth": 0,
              "ticks": ""
             }
            },
            "type": "scattermapbox"
           }
          ],
          "scatterpolar": [
           {
            "marker": {
             "colorbar": {
              "outlinewidth": 0,
              "ticks": ""
             }
            },
            "type": "scatterpolar"
           }
          ],
          "scatterpolargl": [
           {
            "marker": {
             "colorbar": {
              "outlinewidth": 0,
              "ticks": ""
             }
            },
            "type": "scatterpolargl"
           }
          ],
          "scatterternary": [
           {
            "marker": {
             "colorbar": {
              "outlinewidth": 0,
              "ticks": ""
             }
            },
            "type": "scatterternary"
           }
          ],
          "surface": [
           {
            "colorbar": {
             "outlinewidth": 0,
             "ticks": ""
            },
            "colorscale": [
             [
              0,
              "#0d0887"
             ],
             [
              0.1111111111111111,
              "#46039f"
             ],
             [
              0.2222222222222222,
              "#7201a8"
             ],
             [
              0.3333333333333333,
              "#9c179e"
             ],
             [
              0.4444444444444444,
              "#bd3786"
             ],
             [
              0.5555555555555556,
              "#d8576b"
             ],
             [
              0.6666666666666666,
              "#ed7953"
             ],
             [
              0.7777777777777778,
              "#fb9f3a"
             ],
             [
              0.8888888888888888,
              "#fdca26"
             ],
             [
              1,
              "#f0f921"
             ]
            ],
            "type": "surface"
           }
          ],
          "table": [
           {
            "cells": {
             "fill": {
              "color": "#EBF0F8"
             },
             "line": {
              "color": "white"
             }
            },
            "header": {
             "fill": {
              "color": "#C8D4E3"
             },
             "line": {
              "color": "white"
             }
            },
            "type": "table"
           }
          ]
         },
         "layout": {
          "annotationdefaults": {
           "arrowcolor": "#2a3f5f",
           "arrowhead": 0,
           "arrowwidth": 1
          },
          "coloraxis": {
           "colorbar": {
            "outlinewidth": 0,
            "ticks": ""
           }
          },
          "colorscale": {
           "diverging": [
            [
             0,
             "#8e0152"
            ],
            [
             0.1,
             "#c51b7d"
            ],
            [
             0.2,
             "#de77ae"
            ],
            [
             0.3,
             "#f1b6da"
            ],
            [
             0.4,
             "#fde0ef"
            ],
            [
             0.5,
             "#f7f7f7"
            ],
            [
             0.6,
             "#e6f5d0"
            ],
            [
             0.7,
             "#b8e186"
            ],
            [
             0.8,
             "#7fbc41"
            ],
            [
             0.9,
             "#4d9221"
            ],
            [
             1,
             "#276419"
            ]
           ],
           "sequential": [
            [
             0,
             "#0d0887"
            ],
            [
             0.1111111111111111,
             "#46039f"
            ],
            [
             0.2222222222222222,
             "#7201a8"
            ],
            [
             0.3333333333333333,
             "#9c179e"
            ],
            [
             0.4444444444444444,
             "#bd3786"
            ],
            [
             0.5555555555555556,
             "#d8576b"
            ],
            [
             0.6666666666666666,
             "#ed7953"
            ],
            [
             0.7777777777777778,
             "#fb9f3a"
            ],
            [
             0.8888888888888888,
             "#fdca26"
            ],
            [
             1,
             "#f0f921"
            ]
           ],
           "sequentialminus": [
            [
             0,
             "#0d0887"
            ],
            [
             0.1111111111111111,
             "#46039f"
            ],
            [
             0.2222222222222222,
             "#7201a8"
            ],
            [
             0.3333333333333333,
             "#9c179e"
            ],
            [
             0.4444444444444444,
             "#bd3786"
            ],
            [
             0.5555555555555556,
             "#d8576b"
            ],
            [
             0.6666666666666666,
             "#ed7953"
            ],
            [
             0.7777777777777778,
             "#fb9f3a"
            ],
            [
             0.8888888888888888,
             "#fdca26"
            ],
            [
             1,
             "#f0f921"
            ]
           ]
          },
          "colorway": [
           "#636efa",
           "#EF553B",
           "#00cc96",
           "#ab63fa",
           "#FFA15A",
           "#19d3f3",
           "#FF6692",
           "#B6E880",
           "#FF97FF",
           "#FECB52"
          ],
          "font": {
           "color": "#2a3f5f"
          },
          "geo": {
           "bgcolor": "white",
           "lakecolor": "white",
           "landcolor": "#E5ECF6",
           "showlakes": true,
           "showland": true,
           "subunitcolor": "white"
          },
          "hoverlabel": {
           "align": "left"
          },
          "hovermode": "closest",
          "mapbox": {
           "style": "light"
          },
          "paper_bgcolor": "white",
          "plot_bgcolor": "#E5ECF6",
          "polar": {
           "angularaxis": {
            "gridcolor": "white",
            "linecolor": "white",
            "ticks": ""
           },
           "bgcolor": "#E5ECF6",
           "radialaxis": {
            "gridcolor": "white",
            "linecolor": "white",
            "ticks": ""
           }
          },
          "scene": {
           "xaxis": {
            "backgroundcolor": "#E5ECF6",
            "gridcolor": "white",
            "gridwidth": 2,
            "linecolor": "white",
            "showbackground": true,
            "ticks": "",
            "zerolinecolor": "white"
           },
           "yaxis": {
            "backgroundcolor": "#E5ECF6",
            "gridcolor": "white",
            "gridwidth": 2,
            "linecolor": "white",
            "showbackground": true,
            "ticks": "",
            "zerolinecolor": "white"
           },
           "zaxis": {
            "backgroundcolor": "#E5ECF6",
            "gridcolor": "white",
            "gridwidth": 2,
            "linecolor": "white",
            "showbackground": true,
            "ticks": "",
            "zerolinecolor": "white"
           }
          },
          "shapedefaults": {
           "line": {
            "color": "#2a3f5f"
           }
          },
          "ternary": {
           "aaxis": {
            "gridcolor": "white",
            "linecolor": "white",
            "ticks": ""
           },
           "baxis": {
            "gridcolor": "white",
            "linecolor": "white",
            "ticks": ""
           },
           "bgcolor": "#E5ECF6",
           "caxis": {
            "gridcolor": "white",
            "linecolor": "white",
            "ticks": ""
           }
          },
          "title": {
           "x": 0.05
          },
          "xaxis": {
           "automargin": true,
           "gridcolor": "white",
           "linecolor": "white",
           "ticks": "",
           "title": {
            "standoff": 15
           },
           "zerolinecolor": "white",
           "zerolinewidth": 2
          },
          "yaxis": {
           "automargin": true,
           "gridcolor": "white",
           "linecolor": "white",
           "ticks": "",
           "title": {
            "standoff": 15
           },
           "zerolinecolor": "white",
           "zerolinewidth": 2
          }
         }
        },
        "title": {
         "text": "Trend of Daily Tests performed in Pakistan"
        },
        "width": 600,
        "xaxis": {
         "anchor": "y",
         "domain": [
          0,
          1
         ],
         "title": {
          "text": "Date"
         }
        },
        "yaxis": {
         "anchor": "x",
         "domain": [
          0,
          1
         ],
         "title": {
          "text": "Tests  performed in last 24 hours"
         }
        }
       }
      },
      "text/html": [
       "<div>\n",
       "        \n",
       "        \n",
       "            <div id=\"8ca8937e-3b2a-4b44-b9f8-0af5dc9e9f6c\" class=\"plotly-graph-div\" style=\"height:600px; width:600px;\"></div>\n",
       "            <script type=\"text/javascript\">\n",
       "                require([\"plotly\"], function(Plotly) {\n",
       "                    window.PLOTLYENV=window.PLOTLYENV || {};\n",
       "                    \n",
       "                if (document.getElementById(\"8ca8937e-3b2a-4b44-b9f8-0af5dc9e9f6c\")) {\n",
       "                    Plotly.newPlot(\n",
       "                        '8ca8937e-3b2a-4b44-b9f8-0af5dc9e9f6c',\n",
       "                        [{\"customdata\": [[8.0], [7.0], [55.0], [2.0], [0.0], [4.0], [0.0], [4.0], [5.0], [10.0], [27.0], [1.0], [0.0], [4.0], [4.0], [2.0], [7.0], [5.0], [42.0], [1.0], [0.0], [0.0], [1.0], [4.0], [7.0], [6.0], [42.0], [1.0], [0.0], [17.0], [1.0], [4.0], [16.0], [10.0], [33.0], [1.0], [0.0], [7.0], [1.0], [9.0], [32.0], [40.0], [49.0], [0.0], [0.0], [12.0], [0.0], [0.0], [6.0], [195.0], [0.0], [190.0], [19.0], [0.0], [95.0], [0.0], [0.0], [0.0], [0.0], [0.0], [0.0], [0.0], [0.0], [0.0], [0.0], [0.0], [0.0], [0.0], [0.0], [0.0], [0.0], [0.0], [0.0], [0.0], [0.0], [0.0], [0.0], [0.0], [0.0], [0.0], [0.0], [0.0], [0.0], [0.0], [0.0], [0.0], [0.0], [0.0], [0.0], [0.0], [0.0], [0.0], [0.0], [0.0], [0.0], [0.0], [0.0], [0.0], [0.0], [0.0], [0.0], [0.0], [0.0], [0.0], [0.0], [0.0], [0.0], [0.0], [0.0], [0.0], [0.0], [0.0], [0.0], [0.0], [0.0], [0.0], [0.0], [0.0], [0.0], [0.0], [0.0], [0.0], [0.0], [0.0], [0.0], [0.0], [0.0], [0.0], [0.0], [0.0], [0.0], [0.0], [0.0], [0.0], [0.0], [0.0], [0.0], [0.0], [0.0], [0.0], [0.0], [0.0], [0.0], [0.0], [0.0], [0.0], [0.0], [0.0], [0.0], [0.0], [0.0], [0.0], [0.0], [0.0], [0.0], [0.0], [0.0], [0.0], [0.0], [0.0], [0.0], [0.0], [0.0], [0.0], [0.0], [0.0], [0.0], [0.0], [0.0], [0.0], [0.0], [0.0], [0.0], [0.0], [0.0], [0.0], [0.0], [0.0], [0.0], [0.0], [0.0], [21.0], [0.0], [844.0], [174.0], [181.0], [1087.0], [1121.0], [42.0], [132.0], [116.0], [175.0], [147.0], [1145.0], [221.0], [15.0], [264.0], [23.0], [127.0], [205.0], [1014.0], [285.0], [84.0], [221.0], [17.0], [50.0], [129.0], [1929.0], [658.0], [50.0], [93.0], [112.0], [175.0], [159.0], [1853.0], [634.0], [47.0], [125.0], [16.0], [137.0], [400.0], [1254.0], [758.0], [50.0], [189.0], [123.0], [142.0], [209.0], [1123.0], [642.0], [114.0], [289.0], [68.0], [105.0], [175.0], [1120.0], [586.0], [68.0], [118.0], [74.0], [90.0], [213.0], [1711.0], [531.0], [97.0], [94.0], [68.0], [266.0], [219.0], [1920.0], [569.0], [82.0], [106.0], [87.0], [111.0], [315.0], [1925.0], [531.0], [37.0], [88.0], [55.0], [120.0], [358.0], [1959.0], [663.0], [52.0], [199.0], [46.0], [351.0], [373.0], [2996.0], [1523.0], [54.0], [128.0], [162.0], [326.0], [361.0], [2359.0], [2874.0], [40.0], [385.0], [217.0], [329.0], [426.0], [2647.0], [2372.0], [54.0], [273.0], [2021.0], [378.0], [692.0], [2763.0], [1666.0], [46.0], [230.0], [261.0], [119.0], [541.0], [2156.0], [1520.0], [80.0], [321.0], [174.0], [248.0], [579.0], [2345.0], [1600.0], [6.0], [329.0], [141.0], [483.0], [1009.0], [2635.0], [2097.0], [55.0], [374.0], [182.0], [588.0], [1126.0], [1832.0], [2682.0], [51.0], [236.0], [164.0], [540.0], [1146.0], [2089.0], [2554.0], [66.0], [470.0], [111.0], [396.0], [821.0], [1755.0], [2599.0], [66.0], [470.0], [111.0], [396.0], [821.0], [1755.0], [2599.0], [104.0], [370.0], [125.0], [298.0], [959.0], [1500.0], [3035.0], [21.0], [409.0], [117.0], [494.0], [848.0], [1845.0], [2733.0], [113.0], [513.0], [132.0], [458.0], [812.0], [2548.0], [4112.0], [132.0], [316.0], [144.0], [730.0], [903.0], [2295.0], [3729.0], [80.0], [615.0], [141.0], [759.0], [1052.0], [2737.0], [2587.0], [16.0], [386.0], [214.0], [495.0], [985.0], [3684.0], [3384.0], [42.0], [317.0], [146.0], [415.0], [1338.0], [4232.0], [3032.0], [54.0], [271.0], [142.0], [993.0], [783.0], [5043.0], [2571.0], [110.0], [863.0], [167.0], [888.0], [870.0], [5030.0], [2250.0], [80.0], [793.0], [128.0], [1022.0], [1422.0], [5080.0], [3671.0], [47.0], [952.0], [131.0], [1059.0], [1547.0], [5199.0], [3534.0], [150.0], [530.0], [128.0], [991.0], [1459.0], [3988.0], [5532.0], [112.0], [603.0], [175.0], [1098.0], [1212.0], [4794.0], [5498.0], [74.0], [313.0], [170.0], [777.0], [1270.0], [4558.0], [4215.0]], \"hovertemplate\": \"Date=%{x}<br>Tests  performed in last 24 hours=%{marker.color}<extra></extra>\", \"legendgroup\": \"\", \"marker\": {\"color\": [8.0, 7.0, 55.0, 2.0, 0.0, 4.0, 0.0, 4.0, 5.0, 10.0, 27.0, 1.0, 0.0, 4.0, 4.0, 2.0, 7.0, 5.0, 42.0, 1.0, 0.0, 0.0, 1.0, 4.0, 7.0, 6.0, 42.0, 1.0, 0.0, 17.0, 1.0, 4.0, 16.0, 10.0, 33.0, 1.0, 0.0, 7.0, 1.0, 9.0, 32.0, 40.0, 49.0, 0.0, 0.0, 12.0, 0.0, 0.0, 6.0, 195.0, 0.0, 190.0, 19.0, 0.0, 95.0, 0.0, 0.0, 0.0, 0.0, 0.0, 0.0, 0.0, 0.0, 0.0, 0.0, 0.0, 0.0, 0.0, 0.0, 0.0, 0.0, 0.0, 0.0, 0.0, 0.0, 0.0, 0.0, 0.0, 0.0, 0.0, 0.0, 0.0, 0.0, 0.0, 0.0, 0.0, 0.0, 0.0, 0.0, 0.0, 0.0, 0.0, 0.0, 0.0, 0.0, 0.0, 0.0, 0.0, 0.0, 0.0, 0.0, 0.0, 0.0, 0.0, 0.0, 0.0, 0.0, 0.0, 0.0, 0.0, 0.0, 0.0, 0.0, 0.0, 0.0, 0.0, 0.0, 0.0, 0.0, 0.0, 0.0, 0.0, 0.0, 0.0, 0.0, 0.0, 0.0, 0.0, 0.0, 0.0, 0.0, 0.0, 0.0, 0.0, 0.0, 0.0, 0.0, 0.0, 0.0, 0.0, 0.0, 0.0, 0.0, 0.0, 0.0, 0.0, 0.0, 0.0, 0.0, 0.0, 0.0, 0.0, 0.0, 0.0, 0.0, 0.0, 0.0, 0.0, 0.0, 0.0, 0.0, 0.0, 0.0, 0.0, 0.0, 0.0, 0.0, 0.0, 0.0, 0.0, 0.0, 0.0, 0.0, 0.0, 0.0, 0.0, 0.0, 0.0, 0.0, 0.0, 0.0, 21.0, 0.0, 844.0, 174.0, 181.0, 1087.0, 1121.0, 42.0, 132.0, 116.0, 175.0, 147.0, 1145.0, 221.0, 15.0, 264.0, 23.0, 127.0, 205.0, 1014.0, 285.0, 84.0, 221.0, 17.0, 50.0, 129.0, 1929.0, 658.0, 50.0, 93.0, 112.0, 175.0, 159.0, 1853.0, 634.0, 47.0, 125.0, 16.0, 137.0, 400.0, 1254.0, 758.0, 50.0, 189.0, 123.0, 142.0, 209.0, 1123.0, 642.0, 114.0, 289.0, 68.0, 105.0, 175.0, 1120.0, 586.0, 68.0, 118.0, 74.0, 90.0, 213.0, 1711.0, 531.0, 97.0, 94.0, 68.0, 266.0, 219.0, 1920.0, 569.0, 82.0, 106.0, 87.0, 111.0, 315.0, 1925.0, 531.0, 37.0, 88.0, 55.0, 120.0, 358.0, 1959.0, 663.0, 52.0, 199.0, 46.0, 351.0, 373.0, 2996.0, 1523.0, 54.0, 128.0, 162.0, 326.0, 361.0, 2359.0, 2874.0, 40.0, 385.0, 217.0, 329.0, 426.0, 2647.0, 2372.0, 54.0, 273.0, 2021.0, 378.0, 692.0, 2763.0, 1666.0, 46.0, 230.0, 261.0, 119.0, 541.0, 2156.0, 1520.0, 80.0, 321.0, 174.0, 248.0, 579.0, 2345.0, 1600.0, 6.0, 329.0, 141.0, 483.0, 1009.0, 2635.0, 2097.0, 55.0, 374.0, 182.0, 588.0, 1126.0, 1832.0, 2682.0, 51.0, 236.0, 164.0, 540.0, 1146.0, 2089.0, 2554.0, 66.0, 470.0, 111.0, 396.0, 821.0, 1755.0, 2599.0, 66.0, 470.0, 111.0, 396.0, 821.0, 1755.0, 2599.0, 104.0, 370.0, 125.0, 298.0, 959.0, 1500.0, 3035.0, 21.0, 409.0, 117.0, 494.0, 848.0, 1845.0, 2733.0, 113.0, 513.0, 132.0, 458.0, 812.0, 2548.0, 4112.0, 132.0, 316.0, 144.0, 730.0, 903.0, 2295.0, 3729.0, 80.0, 615.0, 141.0, 759.0, 1052.0, 2737.0, 2587.0, 16.0, 386.0, 214.0, 495.0, 985.0, 3684.0, 3384.0, 42.0, 317.0, 146.0, 415.0, 1338.0, 4232.0, 3032.0, 54.0, 271.0, 142.0, 993.0, 783.0, 5043.0, 2571.0, 110.0, 863.0, 167.0, 888.0, 870.0, 5030.0, 2250.0, 80.0, 793.0, 128.0, 1022.0, 1422.0, 5080.0, 3671.0, 47.0, 952.0, 131.0, 1059.0, 1547.0, 5199.0, 3534.0, 150.0, 530.0, 128.0, 991.0, 1459.0, 3988.0, 5532.0, 112.0, 603.0, 175.0, 1098.0, 1212.0, 4794.0, 5498.0, 74.0, 313.0, 170.0, 777.0, 1270.0, 4558.0, 4215.0], \"coloraxis\": \"coloraxis\", \"size\": [8.0, 7.0, 55.0, 2.0, 0.0, 4.0, 0.0, 4.0, 5.0, 10.0, 27.0, 1.0, 0.0, 4.0, 4.0, 2.0, 7.0, 5.0, 42.0, 1.0, 0.0, 0.0, 1.0, 4.0, 7.0, 6.0, 42.0, 1.0, 0.0, 17.0, 1.0, 4.0, 16.0, 10.0, 33.0, 1.0, 0.0, 7.0, 1.0, 9.0, 32.0, 40.0, 49.0, 0.0, 0.0, 12.0, 0.0, 0.0, 6.0, 195.0, 0.0, 190.0, 19.0, 0.0, 95.0, 0.0, 0.0, 0.0, 0.0, 0.0, 0.0, 0.0, 0.0, 0.0, 0.0, 0.0, 0.0, 0.0, 0.0, 0.0, 0.0, 0.0, 0.0, 0.0, 0.0, 0.0, 0.0, 0.0, 0.0, 0.0, 0.0, 0.0, 0.0, 0.0, 0.0, 0.0, 0.0, 0.0, 0.0, 0.0, 0.0, 0.0, 0.0, 0.0, 0.0, 0.0, 0.0, 0.0, 0.0, 0.0, 0.0, 0.0, 0.0, 0.0, 0.0, 0.0, 0.0, 0.0, 0.0, 0.0, 0.0, 0.0, 0.0, 0.0, 0.0, 0.0, 0.0, 0.0, 0.0, 0.0, 0.0, 0.0, 0.0, 0.0, 0.0, 0.0, 0.0, 0.0, 0.0, 0.0, 0.0, 0.0, 0.0, 0.0, 0.0, 0.0, 0.0, 0.0, 0.0, 0.0, 0.0, 0.0, 0.0, 0.0, 0.0, 0.0, 0.0, 0.0, 0.0, 0.0, 0.0, 0.0, 0.0, 0.0, 0.0, 0.0, 0.0, 0.0, 0.0, 0.0, 0.0, 0.0, 0.0, 0.0, 0.0, 0.0, 0.0, 0.0, 0.0, 0.0, 0.0, 0.0, 0.0, 0.0, 0.0, 0.0, 0.0, 0.0, 0.0, 0.0, 0.0, 21.0, 0.0, 844.0, 174.0, 181.0, 1087.0, 1121.0, 42.0, 132.0, 116.0, 175.0, 147.0, 1145.0, 221.0, 15.0, 264.0, 23.0, 127.0, 205.0, 1014.0, 285.0, 84.0, 221.0, 17.0, 50.0, 129.0, 1929.0, 658.0, 50.0, 93.0, 112.0, 175.0, 159.0, 1853.0, 634.0, 47.0, 125.0, 16.0, 137.0, 400.0, 1254.0, 758.0, 50.0, 189.0, 123.0, 142.0, 209.0, 1123.0, 642.0, 114.0, 289.0, 68.0, 105.0, 175.0, 1120.0, 586.0, 68.0, 118.0, 74.0, 90.0, 213.0, 1711.0, 531.0, 97.0, 94.0, 68.0, 266.0, 219.0, 1920.0, 569.0, 82.0, 106.0, 87.0, 111.0, 315.0, 1925.0, 531.0, 37.0, 88.0, 55.0, 120.0, 358.0, 1959.0, 663.0, 52.0, 199.0, 46.0, 351.0, 373.0, 2996.0, 1523.0, 54.0, 128.0, 162.0, 326.0, 361.0, 2359.0, 2874.0, 40.0, 385.0, 217.0, 329.0, 426.0, 2647.0, 2372.0, 54.0, 273.0, 2021.0, 378.0, 692.0, 2763.0, 1666.0, 46.0, 230.0, 261.0, 119.0, 541.0, 2156.0, 1520.0, 80.0, 321.0, 174.0, 248.0, 579.0, 2345.0, 1600.0, 6.0, 329.0, 141.0, 483.0, 1009.0, 2635.0, 2097.0, 55.0, 374.0, 182.0, 588.0, 1126.0, 1832.0, 2682.0, 51.0, 236.0, 164.0, 540.0, 1146.0, 2089.0, 2554.0, 66.0, 470.0, 111.0, 396.0, 821.0, 1755.0, 2599.0, 66.0, 470.0, 111.0, 396.0, 821.0, 1755.0, 2599.0, 104.0, 370.0, 125.0, 298.0, 959.0, 1500.0, 3035.0, 21.0, 409.0, 117.0, 494.0, 848.0, 1845.0, 2733.0, 113.0, 513.0, 132.0, 458.0, 812.0, 2548.0, 4112.0, 132.0, 316.0, 144.0, 730.0, 903.0, 2295.0, 3729.0, 80.0, 615.0, 141.0, 759.0, 1052.0, 2737.0, 2587.0, 16.0, 386.0, 214.0, 495.0, 985.0, 3684.0, 3384.0, 42.0, 317.0, 146.0, 415.0, 1338.0, 4232.0, 3032.0, 54.0, 271.0, 142.0, 993.0, 783.0, 5043.0, 2571.0, 110.0, 863.0, 167.0, 888.0, 870.0, 5030.0, 2250.0, 80.0, 793.0, 128.0, 1022.0, 1422.0, 5080.0, 3671.0, 47.0, 952.0, 131.0, 1059.0, 1547.0, 5199.0, 3534.0, 150.0, 530.0, 128.0, 991.0, 1459.0, 3988.0, 5532.0, 112.0, 603.0, 175.0, 1098.0, 1212.0, 4794.0, 5498.0, 74.0, 313.0, 170.0, 777.0, 1270.0, 4558.0, 4215.0], \"sizemode\": \"area\", \"sizeref\": 13.83, \"symbol\": \"circle\"}, \"mode\": \"markers\", \"name\": \"\", \"showlegend\": false, \"type\": \"scatter\", \"x\": [\"2020/03/11\", \"2020/03/11\", \"2020/03/11\", \"2020/03/11\", \"2020/03/11\", \"2020/03/11\", \"2020/03/11\", \"2020/03/11\", \"2020/03/12\", \"2020/03/12\", \"2020/03/12\", \"2020/03/12\", \"2020/03/12\", \"2020/03/12\", \"2020/03/12\", \"2020/03/12\", \"2020/03/13\", \"2020/03/13\", \"2020/03/13\", \"2020/03/13\", \"2020/03/13\", \"2020/03/13\", \"2020/03/13\", \"2020/03/13\", \"2020/03/14\", \"2020/03/14\", \"2020/03/14\", \"2020/03/14\", \"2020/03/14\", \"2020/03/14\", \"2020/03/14\", \"2020/03/14\", \"2020/03/15\", \"2020/03/15\", \"2020/03/15\", \"2020/03/15\", \"2020/03/15\", \"2020/03/15\", \"2020/03/15\", \"2020/03/15\", \"2020/03/16\", \"2020/03/16\", \"2020/03/16\", \"2020/03/16\", \"2020/03/16\", \"2020/03/16\", \"2020/03/16\", \"2020/03/16\", \"2020/03/16\", \"2020/03/17\", \"2020/03/17\", \"2020/03/17\", \"2020/03/17\", \"2020/03/17\", \"2020/03/17\", \"2020/03/17\", \"2020/03/17\", \"2020/03/18\", \"2020/03/18\", \"2020/03/18\", \"2020/03/18\", \"2020/03/18\", \"2020/03/18\", \"2020/03/18\", \"2020/03/18\", \"2020/03/19\", \"2020/03/19\", \"2020/03/19\", \"2020/03/19\", \"2020/03/19\", \"2020/03/19\", \"2020/03/19\", \"2020/03/19\", \"2020/03/20\", \"2020/03/20\", \"2020/03/20\", \"2020/03/20\", \"2020/03/20\", \"2020/03/20\", \"2020/03/20\", \"2020/03/20\", \"2020/03/21\", \"2020/03/21\", \"2020/03/21\", \"2020/03/21\", \"2020/03/21\", \"2020/03/21\", \"2020/03/21\", \"2020/03/21\", \"2020/03/22\", \"2020/03/22\", \"2020/03/22\", \"2020/03/22\", \"2020/03/22\", \"2020/03/22\", \"2020/03/22\", \"2020/03/22\", \"2020/03/23\", \"2020/03/23\", \"2020/03/23\", \"2020/03/23\", \"2020/03/23\", \"2020/03/23\", \"2020/03/23\", \"2020/03/24\", \"2020/03/24\", \"2020/03/24\", \"2020/03/24\", \"2020/03/24\", \"2020/03/24\", \"2020/03/24\", \"2020/03/25\", \"2020/03/25\", \"2020/03/25\", \"2020/03/25\", \"2020/03/25\", \"2020/03/25\", \"2020/03/25\", \"2020/03/26\", \"2020/03/26\", \"2020/03/26\", \"2020/03/26\", \"2020/03/26\", \"2020/03/26\", \"2020/03/26\", \"2020/03/27\", \"2020/03/27\", \"2020/03/27\", \"2020/03/27\", \"2020/03/27\", \"2020/03/27\", \"2020/03/27\", \"2020/03/28\", \"2020/03/28\", \"2020/03/28\", \"2020/03/28\", \"2020/03/28\", \"2020/03/28\", \"2020/03/28\", \"2020/03/29\", \"2020/03/29\", \"2020/03/29\", \"2020/03/29\", \"2020/03/29\", \"2020/03/29\", \"2020/03/29\", \"2020/03/30\", \"2020/03/30\", \"2020/03/30\", \"2020/03/30\", \"2020/03/30\", \"2020/03/30\", \"2020/03/30\", \"2020/03/31\", \"2020/03/31\", \"2020/03/31\", \"2020/03/31\", \"2020/03/31\", \"2020/03/31\", \"2020/03/31\", \"2020/04/01\", \"2020/04/01\", \"2020/04/01\", \"2020/04/01\", \"2020/04/01\", \"2020/04/01\", \"2020/04/01\", \"2020/04/02\", \"2020/04/02\", \"2020/04/02\", \"2020/04/02\", \"2020/04/02\", \"2020/04/02\", \"2020/04/02\", \"2020/04/03\", \"2020/04/03\", \"2020/04/03\", \"2020/04/03\", \"2020/04/03\", \"2020/04/03\", \"2020/04/03\", \"2020/04/04\", \"2020/04/04\", \"2020/04/04\", \"2020/04/04\", \"2020/04/04\", \"2020/04/04\", \"2020/04/04\", \"2020/04/05\", \"2020/04/05\", \"2020/04/05\", \"2020/04/05\", \"2020/04/05\", \"2020/04/05\", \"2020/04/05\", \"2020/04/06\", \"2020/04/06\", \"2020/04/06\", \"2020/04/06\", \"2020/04/06\", \"2020/04/06\", \"2020/04/06\", \"2020/04/07\", \"2020/04/07\", \"2020/04/07\", \"2020/04/07\", \"2020/04/07\", \"2020/04/07\", \"2020/04/07\", \"2020/04/08\", \"2020/04/08\", \"2020/04/08\", \"2020/04/08\", \"2020/04/08\", \"2020/04/08\", \"2020/04/08\", \"2020/04/09\", \"2020/04/09\", \"2020/04/09\", \"2020/04/09\", \"2020/04/09\", \"2020/04/09\", \"2020/04/09\", \"2020/04/10\", \"2020/04/10\", \"2020/04/10\", \"2020/04/10\", \"2020/04/10\", \"2020/04/10\", \"2020/04/10\", \"2020/04/11\", \"2020/04/11\", \"2020/04/11\", \"2020/04/11\", \"2020/04/11\", \"2020/04/11\", \"2020/04/11\", \"2020/04/12\", \"2020/04/12\", \"2020/04/12\", \"2020/04/12\", \"2020/04/12\", \"2020/04/12\", \"2020/04/12\", \"2020/04/13\", \"2020/04/13\", \"2020/04/13\", \"2020/04/13\", \"2020/04/13\", \"2020/04/13\", \"2020/04/13\", \"2020/04/14\", \"2020/04/14\", \"2020/04/14\", \"2020/04/14\", \"2020/04/14\", \"2020/04/14\", \"2020/04/14\", \"2020/04/15\", \"2020/04/15\", \"2020/04/15\", \"2020/04/15\", \"2020/04/15\", \"2020/04/15\", \"2020/04/15\", \"2020/04/16\", \"2020/04/16\", \"2020/04/16\", \"2020/04/16\", \"2020/04/16\", \"2020/04/16\", \"2020/04/16\", \"2020/04/17\", \"2020/04/17\", \"2020/04/17\", \"2020/04/17\", \"2020/04/17\", \"2020/04/17\", \"2020/04/17\", \"2020/04/18\", \"2020/04/18\", \"2020/04/18\", \"2020/04/18\", \"2020/04/18\", \"2020/04/18\", \"2020/04/18\", \"2020/04/19\", \"2020/04/19\", \"2020/04/19\", \"2020/04/19\", \"2020/04/19\", \"2020/04/19\", \"2020/04/19\", \"2020/04/20\", \"2020/04/20\", \"2020/04/20\", \"2020/04/20\", \"2020/04/20\", \"2020/04/20\", \"2020/04/20\", \"2020/04/21\", \"2020/04/21\", \"2020/04/21\", \"2020/04/21\", \"2020/04/21\", \"2020/04/21\", \"2020/04/21\", \"2020/04/22\", \"2020/04/22\", \"2020/04/22\", \"2020/04/22\", \"2020/04/22\", \"2020/04/22\", \"2020/04/22\", \"2020/04/23\", \"2020/04/23\", \"2020/04/23\", \"2020/04/23\", \"2020/04/23\", \"2020/04/23\", \"2020/04/23\", \"2020/04/24\", \"2020/04/24\", \"2020/04/24\", \"2020/04/24\", \"2020/04/24\", \"2020/04/24\", \"2020/04/24\", \"2020/04/25\", \"2020/04/25\", \"2020/04/25\", \"2020/04/25\", \"2020/04/25\", \"2020/04/25\", \"2020/04/25\", \"2020/04/26\", \"2020/04/26\", \"2020/04/26\", \"2020/04/26\", \"2020/04/26\", \"2020/04/26\", \"2020/04/26\", \"2020/04/27\", \"2020/04/27\", \"2020/04/27\", \"2020/04/27\", \"2020/04/27\", \"2020/04/27\", \"2020/04/27\", \"2020/04/28\", \"2020/04/28\", \"2020/04/28\", \"2020/04/28\", \"2020/04/28\", \"2020/04/28\", \"2020/04/28\", \"2020/04/29\", \"2020/04/29\", \"2020/04/29\", \"2020/04/29\", \"2020/04/29\", \"2020/04/29\", \"2020/04/29\", \"2020/04/30\", \"2020/04/30\", \"2020/04/30\", \"2020/04/30\", \"2020/04/30\", \"2020/04/30\", \"2020/04/30\", \"2020/05/01\", \"2020/05/01\", \"2020/05/01\", \"2020/05/01\", \"2020/05/01\", \"2020/05/01\", \"2020/05/01\", \"2020/05/02\", \"2020/05/02\", \"2020/05/02\", \"2020/05/02\", \"2020/05/02\", \"2020/05/02\", \"2020/05/02\", \"2020/05/04\", \"2020/05/04\", \"2020/05/04\", \"2020/05/04\", \"2020/05/04\", \"2020/05/04\", \"2020/05/04\", \"2020/05/05\", \"2020/05/05\", \"2020/05/05\", \"2020/05/05\", \"2020/05/05\", \"2020/05/05\", \"2020/05/05\", \"2020/05/06\", \"2020/05/06\", \"2020/05/06\", \"2020/05/06\", \"2020/05/06\", \"2020/05/06\", \"2020/05/06\", \"2020/05/07\", \"2020/05/07\", \"2020/05/07\", \"2020/05/07\", \"2020/05/07\", \"2020/05/07\", \"2020/05/07\", \"2020/05/08\", \"2020/05/08\", \"2020/05/08\", \"2020/05/08\", \"2020/05/08\", \"2020/05/08\", \"2020/05/08\", \"2020/05/09\", \"2020/05/09\", \"2020/05/09\", \"2020/05/09\", \"2020/05/09\", \"2020/05/09\", \"2020/05/09\", \"2020/05/10\", \"2020/05/10\", \"2020/05/10\", \"2020/05/10\", \"2020/05/10\", \"2020/05/10\", \"2020/05/10\", \"2020/05/11\", \"2020/05/11\", \"2020/05/11\", \"2020/05/11\", \"2020/05/11\", \"2020/05/11\", \"2020/05/11\"], \"xaxis\": \"x\", \"y\": [8.0, 7.0, 55.0, 2.0, 0.0, 4.0, 0.0, 4.0, 5.0, 10.0, 27.0, 1.0, 0.0, 4.0, 4.0, 2.0, 7.0, 5.0, 42.0, 1.0, 0.0, 0.0, 1.0, 4.0, 7.0, 6.0, 42.0, 1.0, 0.0, 17.0, 1.0, 4.0, 16.0, 10.0, 33.0, 1.0, 0.0, 7.0, 1.0, 9.0, 32.0, 40.0, 49.0, 0.0, 0.0, 12.0, 0.0, 0.0, 6.0, 195.0, 0.0, 190.0, 19.0, 0.0, 95.0, 0.0, 0.0, 0.0, 0.0, 0.0, 0.0, 0.0, 0.0, 0.0, 0.0, 0.0, 0.0, 0.0, 0.0, 0.0, 0.0, 0.0, 0.0, 0.0, 0.0, 0.0, 0.0, 0.0, 0.0, 0.0, 0.0, 0.0, 0.0, 0.0, 0.0, 0.0, 0.0, 0.0, 0.0, 0.0, 0.0, 0.0, 0.0, 0.0, 0.0, 0.0, 0.0, 0.0, 0.0, 0.0, 0.0, 0.0, 0.0, 0.0, 0.0, 0.0, 0.0, 0.0, 0.0, 0.0, 0.0, 0.0, 0.0, 0.0, 0.0, 0.0, 0.0, 0.0, 0.0, 0.0, 0.0, 0.0, 0.0, 0.0, 0.0, 0.0, 0.0, 0.0, 0.0, 0.0, 0.0, 0.0, 0.0, 0.0, 0.0, 0.0, 0.0, 0.0, 0.0, 0.0, 0.0, 0.0, 0.0, 0.0, 0.0, 0.0, 0.0, 0.0, 0.0, 0.0, 0.0, 0.0, 0.0, 0.0, 0.0, 0.0, 0.0, 0.0, 0.0, 0.0, 0.0, 0.0, 0.0, 0.0, 0.0, 0.0, 0.0, 0.0, 0.0, 0.0, 0.0, 0.0, 0.0, 0.0, 0.0, 0.0, 0.0, 0.0, 0.0, 0.0, 0.0, 21.0, 0.0, 844.0, 174.0, 181.0, 1087.0, 1121.0, 42.0, 132.0, 116.0, 175.0, 147.0, 1145.0, 221.0, 15.0, 264.0, 23.0, 127.0, 205.0, 1014.0, 285.0, 84.0, 221.0, 17.0, 50.0, 129.0, 1929.0, 658.0, 50.0, 93.0, 112.0, 175.0, 159.0, 1853.0, 634.0, 47.0, 125.0, 16.0, 137.0, 400.0, 1254.0, 758.0, 50.0, 189.0, 123.0, 142.0, 209.0, 1123.0, 642.0, 114.0, 289.0, 68.0, 105.0, 175.0, 1120.0, 586.0, 68.0, 118.0, 74.0, 90.0, 213.0, 1711.0, 531.0, 97.0, 94.0, 68.0, 266.0, 219.0, 1920.0, 569.0, 82.0, 106.0, 87.0, 111.0, 315.0, 1925.0, 531.0, 37.0, 88.0, 55.0, 120.0, 358.0, 1959.0, 663.0, 52.0, 199.0, 46.0, 351.0, 373.0, 2996.0, 1523.0, 54.0, 128.0, 162.0, 326.0, 361.0, 2359.0, 2874.0, 40.0, 385.0, 217.0, 329.0, 426.0, 2647.0, 2372.0, 54.0, 273.0, 2021.0, 378.0, 692.0, 2763.0, 1666.0, 46.0, 230.0, 261.0, 119.0, 541.0, 2156.0, 1520.0, 80.0, 321.0, 174.0, 248.0, 579.0, 2345.0, 1600.0, 6.0, 329.0, 141.0, 483.0, 1009.0, 2635.0, 2097.0, 55.0, 374.0, 182.0, 588.0, 1126.0, 1832.0, 2682.0, 51.0, 236.0, 164.0, 540.0, 1146.0, 2089.0, 2554.0, 66.0, 470.0, 111.0, 396.0, 821.0, 1755.0, 2599.0, 66.0, 470.0, 111.0, 396.0, 821.0, 1755.0, 2599.0, 104.0, 370.0, 125.0, 298.0, 959.0, 1500.0, 3035.0, 21.0, 409.0, 117.0, 494.0, 848.0, 1845.0, 2733.0, 113.0, 513.0, 132.0, 458.0, 812.0, 2548.0, 4112.0, 132.0, 316.0, 144.0, 730.0, 903.0, 2295.0, 3729.0, 80.0, 615.0, 141.0, 759.0, 1052.0, 2737.0, 2587.0, 16.0, 386.0, 214.0, 495.0, 985.0, 3684.0, 3384.0, 42.0, 317.0, 146.0, 415.0, 1338.0, 4232.0, 3032.0, 54.0, 271.0, 142.0, 993.0, 783.0, 5043.0, 2571.0, 110.0, 863.0, 167.0, 888.0, 870.0, 5030.0, 2250.0, 80.0, 793.0, 128.0, 1022.0, 1422.0, 5080.0, 3671.0, 47.0, 952.0, 131.0, 1059.0, 1547.0, 5199.0, 3534.0, 150.0, 530.0, 128.0, 991.0, 1459.0, 3988.0, 5532.0, 112.0, 603.0, 175.0, 1098.0, 1212.0, 4794.0, 5498.0, 74.0, 313.0, 170.0, 777.0, 1270.0, 4558.0, 4215.0], \"yaxis\": \"y\"}],\n",
       "                        {\"coloraxis\": {\"colorbar\": {\"title\": {\"text\": \"Tests  performed in last 24 hours\"}}, \"colorscale\": [[0.0, \"#0d0887\"], [0.1111111111111111, \"#46039f\"], [0.2222222222222222, \"#7201a8\"], [0.3333333333333333, \"#9c179e\"], [0.4444444444444444, \"#bd3786\"], [0.5555555555555556, \"#d8576b\"], [0.6666666666666666, \"#ed7953\"], [0.7777777777777778, \"#fb9f3a\"], [0.8888888888888888, \"#fdca26\"], [1.0, \"#f0f921\"]]}, \"height\": 600, \"legend\": {\"itemsizing\": \"constant\", \"tracegroupgap\": 0}, \"margin\": {\"t\": 60}, \"plot_bgcolor\": \"rgb(275, 270, 273)\", \"template\": {\"data\": {\"bar\": [{\"error_x\": {\"color\": \"#2a3f5f\"}, \"error_y\": {\"color\": \"#2a3f5f\"}, \"marker\": {\"line\": {\"color\": \"#E5ECF6\", \"width\": 0.5}}, \"type\": \"bar\"}], \"barpolar\": [{\"marker\": {\"line\": {\"color\": \"#E5ECF6\", \"width\": 0.5}}, \"type\": \"barpolar\"}], \"carpet\": [{\"aaxis\": {\"endlinecolor\": \"#2a3f5f\", \"gridcolor\": \"white\", \"linecolor\": \"white\", \"minorgridcolor\": \"white\", \"startlinecolor\": \"#2a3f5f\"}, \"baxis\": {\"endlinecolor\": \"#2a3f5f\", \"gridcolor\": \"white\", \"linecolor\": \"white\", \"minorgridcolor\": \"white\", \"startlinecolor\": \"#2a3f5f\"}, \"type\": \"carpet\"}], \"choropleth\": [{\"colorbar\": {\"outlinewidth\": 0, \"ticks\": \"\"}, \"type\": \"choropleth\"}], \"contour\": [{\"colorbar\": {\"outlinewidth\": 0, \"ticks\": \"\"}, \"colorscale\": [[0.0, \"#0d0887\"], [0.1111111111111111, \"#46039f\"], [0.2222222222222222, \"#7201a8\"], [0.3333333333333333, \"#9c179e\"], [0.4444444444444444, \"#bd3786\"], [0.5555555555555556, \"#d8576b\"], [0.6666666666666666, \"#ed7953\"], [0.7777777777777778, \"#fb9f3a\"], [0.8888888888888888, \"#fdca26\"], [1.0, \"#f0f921\"]], \"type\": \"contour\"}], \"contourcarpet\": [{\"colorbar\": {\"outlinewidth\": 0, \"ticks\": \"\"}, \"type\": \"contourcarpet\"}], \"heatmap\": [{\"colorbar\": {\"outlinewidth\": 0, \"ticks\": \"\"}, \"colorscale\": [[0.0, \"#0d0887\"], [0.1111111111111111, \"#46039f\"], [0.2222222222222222, \"#7201a8\"], [0.3333333333333333, \"#9c179e\"], [0.4444444444444444, \"#bd3786\"], [0.5555555555555556, \"#d8576b\"], [0.6666666666666666, \"#ed7953\"], [0.7777777777777778, \"#fb9f3a\"], [0.8888888888888888, \"#fdca26\"], [1.0, \"#f0f921\"]], \"type\": \"heatmap\"}], \"heatmapgl\": [{\"colorbar\": {\"outlinewidth\": 0, \"ticks\": \"\"}, \"colorscale\": [[0.0, \"#0d0887\"], [0.1111111111111111, \"#46039f\"], [0.2222222222222222, \"#7201a8\"], [0.3333333333333333, \"#9c179e\"], [0.4444444444444444, \"#bd3786\"], [0.5555555555555556, \"#d8576b\"], [0.6666666666666666, \"#ed7953\"], [0.7777777777777778, \"#fb9f3a\"], [0.8888888888888888, \"#fdca26\"], [1.0, \"#f0f921\"]], \"type\": \"heatmapgl\"}], \"histogram\": [{\"marker\": {\"colorbar\": {\"outlinewidth\": 0, \"ticks\": \"\"}}, \"type\": \"histogram\"}], \"histogram2d\": [{\"colorbar\": {\"outlinewidth\": 0, \"ticks\": \"\"}, \"colorscale\": [[0.0, \"#0d0887\"], [0.1111111111111111, \"#46039f\"], [0.2222222222222222, \"#7201a8\"], [0.3333333333333333, \"#9c179e\"], [0.4444444444444444, \"#bd3786\"], [0.5555555555555556, \"#d8576b\"], [0.6666666666666666, \"#ed7953\"], [0.7777777777777778, \"#fb9f3a\"], [0.8888888888888888, \"#fdca26\"], [1.0, \"#f0f921\"]], \"type\": \"histogram2d\"}], \"histogram2dcontour\": [{\"colorbar\": {\"outlinewidth\": 0, \"ticks\": \"\"}, \"colorscale\": [[0.0, \"#0d0887\"], [0.1111111111111111, \"#46039f\"], [0.2222222222222222, \"#7201a8\"], [0.3333333333333333, \"#9c179e\"], [0.4444444444444444, \"#bd3786\"], [0.5555555555555556, \"#d8576b\"], [0.6666666666666666, \"#ed7953\"], [0.7777777777777778, \"#fb9f3a\"], [0.8888888888888888, \"#fdca26\"], [1.0, \"#f0f921\"]], \"type\": \"histogram2dcontour\"}], \"mesh3d\": [{\"colorbar\": {\"outlinewidth\": 0, \"ticks\": \"\"}, \"type\": \"mesh3d\"}], \"parcoords\": [{\"line\": {\"colorbar\": {\"outlinewidth\": 0, \"ticks\": \"\"}}, \"type\": \"parcoords\"}], \"pie\": [{\"automargin\": true, \"type\": \"pie\"}], \"scatter\": [{\"marker\": {\"colorbar\": {\"outlinewidth\": 0, \"ticks\": \"\"}}, \"type\": \"scatter\"}], \"scatter3d\": [{\"line\": {\"colorbar\": {\"outlinewidth\": 0, \"ticks\": \"\"}}, \"marker\": {\"colorbar\": {\"outlinewidth\": 0, \"ticks\": \"\"}}, \"type\": \"scatter3d\"}], \"scattercarpet\": [{\"marker\": {\"colorbar\": {\"outlinewidth\": 0, \"ticks\": \"\"}}, \"type\": \"scattercarpet\"}], \"scattergeo\": [{\"marker\": {\"colorbar\": {\"outlinewidth\": 0, \"ticks\": \"\"}}, \"type\": \"scattergeo\"}], \"scattergl\": [{\"marker\": {\"colorbar\": {\"outlinewidth\": 0, \"ticks\": \"\"}}, \"type\": \"scattergl\"}], \"scattermapbox\": [{\"marker\": {\"colorbar\": {\"outlinewidth\": 0, \"ticks\": \"\"}}, \"type\": \"scattermapbox\"}], \"scatterpolar\": [{\"marker\": {\"colorbar\": {\"outlinewidth\": 0, \"ticks\": \"\"}}, \"type\": \"scatterpolar\"}], \"scatterpolargl\": [{\"marker\": {\"colorbar\": {\"outlinewidth\": 0, \"ticks\": \"\"}}, \"type\": \"scatterpolargl\"}], \"scatterternary\": [{\"marker\": {\"colorbar\": {\"outlinewidth\": 0, \"ticks\": \"\"}}, \"type\": \"scatterternary\"}], \"surface\": [{\"colorbar\": {\"outlinewidth\": 0, \"ticks\": \"\"}, \"colorscale\": [[0.0, \"#0d0887\"], [0.1111111111111111, \"#46039f\"], [0.2222222222222222, \"#7201a8\"], [0.3333333333333333, \"#9c179e\"], [0.4444444444444444, \"#bd3786\"], [0.5555555555555556, \"#d8576b\"], [0.6666666666666666, \"#ed7953\"], [0.7777777777777778, \"#fb9f3a\"], [0.8888888888888888, \"#fdca26\"], [1.0, \"#f0f921\"]], \"type\": \"surface\"}], \"table\": [{\"cells\": {\"fill\": {\"color\": \"#EBF0F8\"}, \"line\": {\"color\": \"white\"}}, \"header\": {\"fill\": {\"color\": \"#C8D4E3\"}, \"line\": {\"color\": \"white\"}}, \"type\": \"table\"}]}, \"layout\": {\"annotationdefaults\": {\"arrowcolor\": \"#2a3f5f\", \"arrowhead\": 0, \"arrowwidth\": 1}, \"coloraxis\": {\"colorbar\": {\"outlinewidth\": 0, \"ticks\": \"\"}}, \"colorscale\": {\"diverging\": [[0, \"#8e0152\"], [0.1, \"#c51b7d\"], [0.2, \"#de77ae\"], [0.3, \"#f1b6da\"], [0.4, \"#fde0ef\"], [0.5, \"#f7f7f7\"], [0.6, \"#e6f5d0\"], [0.7, \"#b8e186\"], [0.8, \"#7fbc41\"], [0.9, \"#4d9221\"], [1, \"#276419\"]], \"sequential\": [[0.0, \"#0d0887\"], [0.1111111111111111, \"#46039f\"], [0.2222222222222222, \"#7201a8\"], [0.3333333333333333, \"#9c179e\"], [0.4444444444444444, \"#bd3786\"], [0.5555555555555556, \"#d8576b\"], [0.6666666666666666, \"#ed7953\"], [0.7777777777777778, \"#fb9f3a\"], [0.8888888888888888, \"#fdca26\"], [1.0, \"#f0f921\"]], \"sequentialminus\": [[0.0, \"#0d0887\"], [0.1111111111111111, \"#46039f\"], [0.2222222222222222, \"#7201a8\"], [0.3333333333333333, \"#9c179e\"], [0.4444444444444444, \"#bd3786\"], [0.5555555555555556, \"#d8576b\"], [0.6666666666666666, \"#ed7953\"], [0.7777777777777778, \"#fb9f3a\"], [0.8888888888888888, \"#fdca26\"], [1.0, \"#f0f921\"]]}, \"colorway\": [\"#636efa\", \"#EF553B\", \"#00cc96\", \"#ab63fa\", \"#FFA15A\", \"#19d3f3\", \"#FF6692\", \"#B6E880\", \"#FF97FF\", \"#FECB52\"], \"font\": {\"color\": \"#2a3f5f\"}, \"geo\": {\"bgcolor\": \"white\", \"lakecolor\": \"white\", \"landcolor\": \"#E5ECF6\", \"showlakes\": true, \"showland\": true, \"subunitcolor\": \"white\"}, \"hoverlabel\": {\"align\": \"left\"}, \"hovermode\": \"closest\", \"mapbox\": {\"style\": \"light\"}, \"paper_bgcolor\": \"white\", \"plot_bgcolor\": \"#E5ECF6\", \"polar\": {\"angularaxis\": {\"gridcolor\": \"white\", \"linecolor\": \"white\", \"ticks\": \"\"}, \"bgcolor\": \"#E5ECF6\", \"radialaxis\": {\"gridcolor\": \"white\", \"linecolor\": \"white\", \"ticks\": \"\"}}, \"scene\": {\"xaxis\": {\"backgroundcolor\": \"#E5ECF6\", \"gridcolor\": \"white\", \"gridwidth\": 2, \"linecolor\": \"white\", \"showbackground\": true, \"ticks\": \"\", \"zerolinecolor\": \"white\"}, \"yaxis\": {\"backgroundcolor\": \"#E5ECF6\", \"gridcolor\": \"white\", \"gridwidth\": 2, \"linecolor\": \"white\", \"showbackground\": true, \"ticks\": \"\", \"zerolinecolor\": \"white\"}, \"zaxis\": {\"backgroundcolor\": \"#E5ECF6\", \"gridcolor\": \"white\", \"gridwidth\": 2, \"linecolor\": \"white\", \"showbackground\": true, \"ticks\": \"\", \"zerolinecolor\": \"white\"}}, \"shapedefaults\": {\"line\": {\"color\": \"#2a3f5f\"}}, \"ternary\": {\"aaxis\": {\"gridcolor\": \"white\", \"linecolor\": \"white\", \"ticks\": \"\"}, \"baxis\": {\"gridcolor\": \"white\", \"linecolor\": \"white\", \"ticks\": \"\"}, \"bgcolor\": \"#E5ECF6\", \"caxis\": {\"gridcolor\": \"white\", \"linecolor\": \"white\", \"ticks\": \"\"}}, \"title\": {\"x\": 0.05}, \"xaxis\": {\"automargin\": true, \"gridcolor\": \"white\", \"linecolor\": \"white\", \"ticks\": \"\", \"title\": {\"standoff\": 15}, \"zerolinecolor\": \"white\", \"zerolinewidth\": 2}, \"yaxis\": {\"automargin\": true, \"gridcolor\": \"white\", \"linecolor\": \"white\", \"ticks\": \"\", \"title\": {\"standoff\": 15}, \"zerolinecolor\": \"white\", \"zerolinewidth\": 2}}}, \"title\": {\"text\": \"Trend of Daily Tests performed in Pakistan\"}, \"width\": 600, \"xaxis\": {\"anchor\": \"y\", \"domain\": [0.0, 1.0], \"title\": {\"text\": \"Date\"}}, \"yaxis\": {\"anchor\": \"x\", \"domain\": [0.0, 1.0], \"title\": {\"text\": \"Tests  performed in last 24 hours\"}}},\n",
       "                        {\"responsive\": true}\n",
       "                    ).then(function(){\n",
       "                            \n",
       "var gd = document.getElementById('8ca8937e-3b2a-4b44-b9f8-0af5dc9e9f6c');\n",
       "var x = new MutationObserver(function (mutations, observer) {{\n",
       "        var display = window.getComputedStyle(gd).display;\n",
       "        if (!display || display === 'none') {{\n",
       "            console.log([gd, 'removed!']);\n",
       "            Plotly.purge(gd);\n",
       "            observer.disconnect();\n",
       "        }}\n",
       "}});\n",
       "\n",
       "// Listen for the removal of the full notebook cells\n",
       "var notebookContainer = gd.closest('#notebook-container');\n",
       "if (notebookContainer) {{\n",
       "    x.observe(notebookContainer, {childList: true});\n",
       "}}\n",
       "\n",
       "// Listen for the clearing of the current output cell\n",
       "var outputEl = gd.closest('.output');\n",
       "if (outputEl) {{\n",
       "    x.observe(outputEl, {childList: true});\n",
       "}}\n",
       "\n",
       "                        })\n",
       "                };\n",
       "                });\n",
       "            </script>\n",
       "        </div>"
      ]
     },
     "metadata": {},
     "output_type": "display_data"
    }
   ],
   "source": [
    "#temp = covid_data.groupby(['Date'])['New  (last 24 hrs)','Discharged','Expired'].sum().reset_index()\n",
    "temp = covid_data[['Date','Tests  performed in last 24 hours']]\n",
    "fig = px.scatter(temp, x=\"Date\", y=\"Tests  performed in last 24 hours\", color=\"Tests  performed in last 24 hours\",\n",
    "                 size='Tests  performed in last 24 hours', hover_data=['Tests  performed in last 24 hours'],\n",
    "                 color_discrete_sequence = ex.colors.cyclical.IceFire)\n",
    "fig.update_layout(title_text='Trend of Daily Tests performed in Pakistan',\n",
    "                  plot_bgcolor='rgb(275, 270, 273)',width=600, height=600)\n",
    "fig.show()"
   ]
  },
  {
   "cell_type": "code",
   "execution_count": 304,
   "metadata": {},
   "outputs": [
    {
     "data": {
      "application/vnd.plotly.v1+json": {
       "config": {
        "plotlyServerURL": "https://plot.ly"
       },
       "data": [
        {
         "marker": {
          "color": "blue"
         },
         "mode": "lines+markers",
         "name": "Cumulative tests performed",
         "type": "scatter",
         "x": [
          "2020-03-11T00:00:00",
          "2020-03-11T00:00:00",
          "2020-03-11T00:00:00",
          "2020-03-11T00:00:00",
          "2020-03-11T00:00:00",
          "2020-03-11T00:00:00",
          "2020-03-11T00:00:00",
          "2020-03-11T00:00:00",
          "2020-03-12T00:00:00",
          "2020-03-12T00:00:00",
          "2020-03-12T00:00:00",
          "2020-03-12T00:00:00",
          "2020-03-12T00:00:00",
          "2020-03-12T00:00:00",
          "2020-03-12T00:00:00",
          "2020-03-12T00:00:00",
          "2020-03-13T00:00:00",
          "2020-03-13T00:00:00",
          "2020-03-13T00:00:00",
          "2020-03-13T00:00:00",
          "2020-03-13T00:00:00",
          "2020-03-13T00:00:00",
          "2020-03-13T00:00:00",
          "2020-03-13T00:00:00",
          "2020-03-14T00:00:00",
          "2020-03-14T00:00:00",
          "2020-03-14T00:00:00",
          "2020-03-14T00:00:00",
          "2020-03-14T00:00:00",
          "2020-03-14T00:00:00",
          "2020-03-14T00:00:00",
          "2020-03-14T00:00:00",
          "2020-03-15T00:00:00",
          "2020-03-15T00:00:00",
          "2020-03-15T00:00:00",
          "2020-03-15T00:00:00",
          "2020-03-15T00:00:00",
          "2020-03-15T00:00:00",
          "2020-03-15T00:00:00",
          "2020-03-15T00:00:00",
          "2020-03-16T00:00:00",
          "2020-03-16T00:00:00",
          "2020-03-16T00:00:00",
          "2020-03-16T00:00:00",
          "2020-03-16T00:00:00",
          "2020-03-16T00:00:00",
          "2020-03-16T00:00:00",
          "2020-03-16T00:00:00",
          "2020-03-16T00:00:00",
          "2020-03-17T00:00:00",
          "2020-03-17T00:00:00",
          "2020-03-17T00:00:00",
          "2020-03-17T00:00:00",
          "2020-03-17T00:00:00",
          "2020-03-17T00:00:00",
          "2020-03-17T00:00:00",
          "2020-03-17T00:00:00",
          "2020-03-18T00:00:00",
          "2020-03-18T00:00:00",
          "2020-03-18T00:00:00",
          "2020-03-18T00:00:00",
          "2020-03-18T00:00:00",
          "2020-03-18T00:00:00",
          "2020-03-18T00:00:00",
          "2020-03-18T00:00:00",
          "2020-03-19T00:00:00",
          "2020-03-19T00:00:00",
          "2020-03-19T00:00:00",
          "2020-03-19T00:00:00",
          "2020-03-19T00:00:00",
          "2020-03-19T00:00:00",
          "2020-03-19T00:00:00",
          "2020-03-19T00:00:00",
          "2020-03-20T00:00:00",
          "2020-03-20T00:00:00",
          "2020-03-20T00:00:00",
          "2020-03-20T00:00:00",
          "2020-03-20T00:00:00",
          "2020-03-20T00:00:00",
          "2020-03-20T00:00:00",
          "2020-03-20T00:00:00",
          "2020-03-21T00:00:00",
          "2020-03-21T00:00:00",
          "2020-03-21T00:00:00",
          "2020-03-21T00:00:00",
          "2020-03-21T00:00:00",
          "2020-03-21T00:00:00",
          "2020-03-21T00:00:00",
          "2020-03-21T00:00:00",
          "2020-03-22T00:00:00",
          "2020-03-22T00:00:00",
          "2020-03-22T00:00:00",
          "2020-03-22T00:00:00",
          "2020-03-22T00:00:00",
          "2020-03-22T00:00:00",
          "2020-03-22T00:00:00",
          "2020-03-22T00:00:00",
          "2020-03-23T00:00:00",
          "2020-03-23T00:00:00",
          "2020-03-23T00:00:00",
          "2020-03-23T00:00:00",
          "2020-03-23T00:00:00",
          "2020-03-23T00:00:00",
          "2020-03-23T00:00:00",
          "2020-03-24T00:00:00",
          "2020-03-24T00:00:00",
          "2020-03-24T00:00:00",
          "2020-03-24T00:00:00",
          "2020-03-24T00:00:00",
          "2020-03-24T00:00:00",
          "2020-03-24T00:00:00",
          "2020-03-25T00:00:00",
          "2020-03-25T00:00:00",
          "2020-03-25T00:00:00",
          "2020-03-25T00:00:00",
          "2020-03-25T00:00:00",
          "2020-03-25T00:00:00",
          "2020-03-25T00:00:00",
          "2020-03-26T00:00:00",
          "2020-03-26T00:00:00",
          "2020-03-26T00:00:00",
          "2020-03-26T00:00:00",
          "2020-03-26T00:00:00",
          "2020-03-26T00:00:00",
          "2020-03-26T00:00:00",
          "2020-03-27T00:00:00",
          "2020-03-27T00:00:00",
          "2020-03-27T00:00:00",
          "2020-03-27T00:00:00",
          "2020-03-27T00:00:00",
          "2020-03-27T00:00:00",
          "2020-03-27T00:00:00",
          "2020-03-28T00:00:00",
          "2020-03-28T00:00:00",
          "2020-03-28T00:00:00",
          "2020-03-28T00:00:00",
          "2020-03-28T00:00:00",
          "2020-03-28T00:00:00",
          "2020-03-28T00:00:00",
          "2020-03-29T00:00:00",
          "2020-03-29T00:00:00",
          "2020-03-29T00:00:00",
          "2020-03-29T00:00:00",
          "2020-03-29T00:00:00",
          "2020-03-29T00:00:00",
          "2020-03-29T00:00:00",
          "2020-03-30T00:00:00",
          "2020-03-30T00:00:00",
          "2020-03-30T00:00:00",
          "2020-03-30T00:00:00",
          "2020-03-30T00:00:00",
          "2020-03-30T00:00:00",
          "2020-03-30T00:00:00",
          "2020-03-31T00:00:00",
          "2020-03-31T00:00:00",
          "2020-03-31T00:00:00",
          "2020-03-31T00:00:00",
          "2020-03-31T00:00:00",
          "2020-03-31T00:00:00",
          "2020-03-31T00:00:00",
          "2020-04-01T00:00:00",
          "2020-04-01T00:00:00",
          "2020-04-01T00:00:00",
          "2020-04-01T00:00:00",
          "2020-04-01T00:00:00",
          "2020-04-01T00:00:00",
          "2020-04-01T00:00:00",
          "2020-04-02T00:00:00",
          "2020-04-02T00:00:00",
          "2020-04-02T00:00:00",
          "2020-04-02T00:00:00",
          "2020-04-02T00:00:00",
          "2020-04-02T00:00:00",
          "2020-04-02T00:00:00",
          "2020-04-03T00:00:00",
          "2020-04-03T00:00:00",
          "2020-04-03T00:00:00",
          "2020-04-03T00:00:00",
          "2020-04-03T00:00:00",
          "2020-04-03T00:00:00",
          "2020-04-03T00:00:00",
          "2020-04-04T00:00:00",
          "2020-04-04T00:00:00",
          "2020-04-04T00:00:00",
          "2020-04-04T00:00:00",
          "2020-04-04T00:00:00",
          "2020-04-04T00:00:00",
          "2020-04-04T00:00:00",
          "2020-04-05T00:00:00",
          "2020-04-05T00:00:00",
          "2020-04-05T00:00:00",
          "2020-04-05T00:00:00",
          "2020-04-05T00:00:00",
          "2020-04-05T00:00:00",
          "2020-04-05T00:00:00",
          "2020-04-06T00:00:00",
          "2020-04-06T00:00:00",
          "2020-04-06T00:00:00",
          "2020-04-06T00:00:00",
          "2020-04-06T00:00:00",
          "2020-04-06T00:00:00",
          "2020-04-06T00:00:00",
          "2020-04-07T00:00:00",
          "2020-04-07T00:00:00",
          "2020-04-07T00:00:00",
          "2020-04-07T00:00:00",
          "2020-04-07T00:00:00",
          "2020-04-07T00:00:00",
          "2020-04-07T00:00:00",
          "2020-04-08T00:00:00",
          "2020-04-08T00:00:00",
          "2020-04-08T00:00:00",
          "2020-04-08T00:00:00",
          "2020-04-08T00:00:00",
          "2020-04-08T00:00:00",
          "2020-04-08T00:00:00",
          "2020-04-09T00:00:00",
          "2020-04-09T00:00:00",
          "2020-04-09T00:00:00",
          "2020-04-09T00:00:00",
          "2020-04-09T00:00:00",
          "2020-04-09T00:00:00",
          "2020-04-09T00:00:00",
          "2020-04-10T00:00:00",
          "2020-04-10T00:00:00",
          "2020-04-10T00:00:00",
          "2020-04-10T00:00:00",
          "2020-04-10T00:00:00",
          "2020-04-10T00:00:00",
          "2020-04-10T00:00:00",
          "2020-04-11T00:00:00",
          "2020-04-11T00:00:00",
          "2020-04-11T00:00:00",
          "2020-04-11T00:00:00",
          "2020-04-11T00:00:00",
          "2020-04-11T00:00:00",
          "2020-04-11T00:00:00",
          "2020-04-12T00:00:00",
          "2020-04-12T00:00:00",
          "2020-04-12T00:00:00",
          "2020-04-12T00:00:00",
          "2020-04-12T00:00:00",
          "2020-04-12T00:00:00",
          "2020-04-12T00:00:00",
          "2020-04-13T00:00:00",
          "2020-04-13T00:00:00",
          "2020-04-13T00:00:00",
          "2020-04-13T00:00:00",
          "2020-04-13T00:00:00",
          "2020-04-13T00:00:00",
          "2020-04-13T00:00:00",
          "2020-04-14T00:00:00",
          "2020-04-14T00:00:00",
          "2020-04-14T00:00:00",
          "2020-04-14T00:00:00",
          "2020-04-14T00:00:00",
          "2020-04-14T00:00:00",
          "2020-04-14T00:00:00",
          "2020-04-15T00:00:00",
          "2020-04-15T00:00:00",
          "2020-04-15T00:00:00",
          "2020-04-15T00:00:00",
          "2020-04-15T00:00:00",
          "2020-04-15T00:00:00",
          "2020-04-15T00:00:00",
          "2020-04-16T00:00:00",
          "2020-04-16T00:00:00",
          "2020-04-16T00:00:00",
          "2020-04-16T00:00:00",
          "2020-04-16T00:00:00",
          "2020-04-16T00:00:00",
          "2020-04-16T00:00:00",
          "2020-04-17T00:00:00",
          "2020-04-17T00:00:00",
          "2020-04-17T00:00:00",
          "2020-04-17T00:00:00",
          "2020-04-17T00:00:00",
          "2020-04-17T00:00:00",
          "2020-04-17T00:00:00",
          "2020-04-18T00:00:00",
          "2020-04-18T00:00:00",
          "2020-04-18T00:00:00",
          "2020-04-18T00:00:00",
          "2020-04-18T00:00:00",
          "2020-04-18T00:00:00",
          "2020-04-18T00:00:00",
          "2020-04-19T00:00:00",
          "2020-04-19T00:00:00",
          "2020-04-19T00:00:00",
          "2020-04-19T00:00:00",
          "2020-04-19T00:00:00",
          "2020-04-19T00:00:00",
          "2020-04-19T00:00:00",
          "2020-04-20T00:00:00",
          "2020-04-20T00:00:00",
          "2020-04-20T00:00:00",
          "2020-04-20T00:00:00",
          "2020-04-20T00:00:00",
          "2020-04-20T00:00:00",
          "2020-04-20T00:00:00",
          "2020-04-21T00:00:00",
          "2020-04-21T00:00:00",
          "2020-04-21T00:00:00",
          "2020-04-21T00:00:00",
          "2020-04-21T00:00:00",
          "2020-04-21T00:00:00",
          "2020-04-21T00:00:00",
          "2020-04-22T00:00:00",
          "2020-04-22T00:00:00",
          "2020-04-22T00:00:00",
          "2020-04-22T00:00:00",
          "2020-04-22T00:00:00",
          "2020-04-22T00:00:00",
          "2020-04-22T00:00:00",
          "2020-04-23T00:00:00",
          "2020-04-23T00:00:00",
          "2020-04-23T00:00:00",
          "2020-04-23T00:00:00",
          "2020-04-23T00:00:00",
          "2020-04-23T00:00:00",
          "2020-04-23T00:00:00",
          "2020-04-24T00:00:00",
          "2020-04-24T00:00:00",
          "2020-04-24T00:00:00",
          "2020-04-24T00:00:00",
          "2020-04-24T00:00:00",
          "2020-04-24T00:00:00",
          "2020-04-24T00:00:00",
          "2020-04-25T00:00:00",
          "2020-04-25T00:00:00",
          "2020-04-25T00:00:00",
          "2020-04-25T00:00:00",
          "2020-04-25T00:00:00",
          "2020-04-25T00:00:00",
          "2020-04-25T00:00:00",
          "2020-04-26T00:00:00",
          "2020-04-26T00:00:00",
          "2020-04-26T00:00:00",
          "2020-04-26T00:00:00",
          "2020-04-26T00:00:00",
          "2020-04-26T00:00:00",
          "2020-04-26T00:00:00",
          "2020-04-27T00:00:00",
          "2020-04-27T00:00:00",
          "2020-04-27T00:00:00",
          "2020-04-27T00:00:00",
          "2020-04-27T00:00:00",
          "2020-04-27T00:00:00",
          "2020-04-27T00:00:00",
          "2020-04-28T00:00:00",
          "2020-04-28T00:00:00",
          "2020-04-28T00:00:00",
          "2020-04-28T00:00:00",
          "2020-04-28T00:00:00",
          "2020-04-28T00:00:00",
          "2020-04-28T00:00:00",
          "2020-04-29T00:00:00",
          "2020-04-29T00:00:00",
          "2020-04-29T00:00:00",
          "2020-04-29T00:00:00",
          "2020-04-29T00:00:00",
          "2020-04-29T00:00:00",
          "2020-04-29T00:00:00",
          "2020-04-30T00:00:00",
          "2020-04-30T00:00:00",
          "2020-04-30T00:00:00",
          "2020-04-30T00:00:00",
          "2020-04-30T00:00:00",
          "2020-04-30T00:00:00",
          "2020-04-30T00:00:00",
          "2020-05-01T00:00:00",
          "2020-05-01T00:00:00",
          "2020-05-01T00:00:00",
          "2020-05-01T00:00:00",
          "2020-05-01T00:00:00",
          "2020-05-01T00:00:00",
          "2020-05-01T00:00:00",
          "2020-05-02T00:00:00",
          "2020-05-02T00:00:00",
          "2020-05-02T00:00:00",
          "2020-05-02T00:00:00",
          "2020-05-02T00:00:00",
          "2020-05-02T00:00:00",
          "2020-05-02T00:00:00",
          "2020-05-04T00:00:00",
          "2020-05-04T00:00:00",
          "2020-05-04T00:00:00",
          "2020-05-04T00:00:00",
          "2020-05-04T00:00:00",
          "2020-05-04T00:00:00",
          "2020-05-04T00:00:00",
          "2020-05-05T00:00:00",
          "2020-05-05T00:00:00",
          "2020-05-05T00:00:00",
          "2020-05-05T00:00:00",
          "2020-05-05T00:00:00",
          "2020-05-05T00:00:00",
          "2020-05-05T00:00:00",
          "2020-05-06T00:00:00",
          "2020-05-06T00:00:00",
          "2020-05-06T00:00:00",
          "2020-05-06T00:00:00",
          "2020-05-06T00:00:00",
          "2020-05-06T00:00:00",
          "2020-05-06T00:00:00",
          "2020-05-07T00:00:00",
          "2020-05-07T00:00:00",
          "2020-05-07T00:00:00",
          "2020-05-07T00:00:00",
          "2020-05-07T00:00:00",
          "2020-05-07T00:00:00",
          "2020-05-07T00:00:00",
          "2020-05-08T00:00:00",
          "2020-05-08T00:00:00",
          "2020-05-08T00:00:00",
          "2020-05-08T00:00:00",
          "2020-05-08T00:00:00",
          "2020-05-08T00:00:00",
          "2020-05-08T00:00:00",
          "2020-05-09T00:00:00",
          "2020-05-09T00:00:00",
          "2020-05-09T00:00:00",
          "2020-05-09T00:00:00",
          "2020-05-09T00:00:00",
          "2020-05-09T00:00:00",
          "2020-05-09T00:00:00",
          "2020-05-10T00:00:00",
          "2020-05-10T00:00:00",
          "2020-05-10T00:00:00",
          "2020-05-10T00:00:00",
          "2020-05-10T00:00:00",
          "2020-05-10T00:00:00",
          "2020-05-10T00:00:00",
          "2020-05-11T00:00:00",
          "2020-05-11T00:00:00",
          "2020-05-11T00:00:00",
          "2020-05-11T00:00:00",
          "2020-05-11T00:00:00",
          "2020-05-11T00:00:00",
          "2020-05-11T00:00:00"
         ],
         "y": [
          80,
          95,
          171,
          28,
          0,
          18,
          4,
          26,
          85,
          105,
          198,
          29,
          0,
          18,
          8,
          28,
          92,
          110,
          240,
          30,
          0,
          18,
          9,
          32,
          99,
          116,
          282,
          31,
          0,
          35,
          10,
          36,
          115,
          126,
          315,
          32,
          0,
          42,
          11,
          45,
          147,
          166,
          364,
          32,
          0,
          40,
          11,
          45,
          28,
          581,
          166,
          554,
          51,
          0,
          163,
          11,
          45,
          627,
          133,
          606,
          42,
          0,
          151,
          11,
          51,
          184,
          254,
          908,
          67,
          0,
          637,
          23,
          90,
          277,
          872,
          1210,
          67,
          0,
          805,
          36,
          143,
          325,
          894,
          1497,
          130,
          0,
          805,
          40,
          310,
          366,
          1361,
          1497,
          264,
          0,
          1380,
          42,
          315,
          404,
          1436,
          1512,
          305,
          1405,
          44,
          338,
          427,
          1436,
          1579,
          448,
          1407,
          60,
          500,
          459,
          1436,
          1579,
          566,
          1437,
          66,
          580,
          561,
          1436,
          1592,
          704,
          1455,
          77,
          624,
          712,
          2257,
          1592,
          917,
          1512,
          83,
          762,
          1056,
          3310,
          5158,
          1121,
          1657,
          97,
          832,
          1213,
          3492,
          5673,
          1229,
          1737,
          97,
          895,
          1310,
          3492,
          5945,
          1324,
          1710,
          105,
          862,
          1469,
          2500,
          6328,
          1512,
          1792,
          177,
          880,
          1703,
          2720,
          6578,
          1271,
          1934,
          239,
          750,
          1997,
          2945,
          6926,
          1814,
          2049,
          249,
          797,
          2395,
          15134,
          7504,
          1938,
          2171,
          322,
          844,
          343,
          2401,
          860,
          2569,
          1624,
          16508,
          8625,
          385,
          2513,
          975,
          2744,
          1769,
          17653,
          8846,
          400,
          2777,
          998,
          2871,
          1974,
          17724,
          9131,
          484,
          2998,
          1015,
          2921,
          2103,
          20073,
          9589,
          534,
          3091,
          1127,
          3096,
          2262,
          21826,
          10223,
          581,
          3216,
          1143,
          3233,
          2662,
          23080,
          10981,
          631,
          3405,
          1266,
          3375,
          2871,
          31535,
          11623,
          745,
          3694,
          1334,
          3480,
          3046,
          33328,
          12209,
          813,
          3812,
          1408,
          3570,
          3259,
          36199,
          12740,
          910,
          3906,
          1476,
          3836,
          3478,
          38199,
          13309,
          992,
          4012,
          1563,
          3947,
          3793,
          41781,
          13840,
          1029,
          4100,
          1618,
          4473,
          4151,
          43565,
          14503,
          1081,
          4299,
          1664,
          4824,
          4524,
          46561,
          16026,
          1135,
          4427,
          1826,
          5150,
          4885,
          48381,
          18900,
          1175,
          4812,
          2021,
          5479,
          5311,
          52478,
          21272,
          1229,
          5085,
          2169,
          5857,
          6003,
          55241,
          22938,
          1275,
          5315,
          2430,
          5976,
          6544,
          58304,
          24458,
          1355,
          5636,
          2604,
          6224,
          9360,
          60649,
          26058,
          1416,
          6130,
          2859,
          6931,
          10837,
          66030,
          30346,
          1471,
          6504,
          2998,
          7519,
          11963,
          67882,
          33028,
          1522,
          6742,
          3162,
          8059,
          13109,
          69971,
          35582,
          1588,
          7212,
          3273,
          8455,
          13930,
          71726,
          38181,
          1588,
          7212,
          3273,
          8455,
          13930,
          71726,
          38181,
          1692,
          7582,
          3398,
          8753,
          14889,
          73226,
          41216,
          1713,
          7991,
          3515,
          9247,
          15737,
          75071,
          43949,
          1826,
          8504,
          3647,
          9705,
          16549,
          77619,
          48061,
          1958,
          8820,
          3791,
          10435,
          17452,
          79914,
          51790,
          2038,
          9435,
          3932,
          11194,
          18504,
          82651,
          54377,
          2054,
          9821,
          4146,
          11689,
          19489,
          88899,
          57761,
          2227,
          10326,
          4439,
          12704,
          21909,
          96854,
          64052,
          2281,
          10633,
          4581,
          13697,
          22692,
          101897,
          66623,
          2391,
          11496,
          4748,
          14585,
          23562,
          106927,
          68873,
          2471,
          12289,
          4876,
          15607,
          24984,
          112007,
          72544,
          2518,
          13241,
          5007,
          16666,
          26531,
          117206,
          76078,
          2668,
          13771,
          5135,
          17657,
          27990,
          121194,
          81610,
          2780,
          14374,
          5310,
          18755,
          29202,
          125988,
          87108,
          2854,
          14687,
          5480,
          19532,
          30472,
          130546,
          91323
         ]
        },
        {
         "marker": {
          "color": "green"
         },
         "mode": "lines+markers",
         "name": "Cumulative Suspected",
         "type": "scatter",
         "x": [
          "2020-03-11T00:00:00",
          "2020-03-11T00:00:00",
          "2020-03-11T00:00:00",
          "2020-03-11T00:00:00",
          "2020-03-11T00:00:00",
          "2020-03-11T00:00:00",
          "2020-03-11T00:00:00",
          "2020-03-11T00:00:00",
          "2020-03-12T00:00:00",
          "2020-03-12T00:00:00",
          "2020-03-12T00:00:00",
          "2020-03-12T00:00:00",
          "2020-03-12T00:00:00",
          "2020-03-12T00:00:00",
          "2020-03-12T00:00:00",
          "2020-03-12T00:00:00",
          "2020-03-13T00:00:00",
          "2020-03-13T00:00:00",
          "2020-03-13T00:00:00",
          "2020-03-13T00:00:00",
          "2020-03-13T00:00:00",
          "2020-03-13T00:00:00",
          "2020-03-13T00:00:00",
          "2020-03-13T00:00:00",
          "2020-03-14T00:00:00",
          "2020-03-14T00:00:00",
          "2020-03-14T00:00:00",
          "2020-03-14T00:00:00",
          "2020-03-14T00:00:00",
          "2020-03-14T00:00:00",
          "2020-03-14T00:00:00",
          "2020-03-14T00:00:00",
          "2020-03-15T00:00:00",
          "2020-03-15T00:00:00",
          "2020-03-15T00:00:00",
          "2020-03-15T00:00:00",
          "2020-03-15T00:00:00",
          "2020-03-15T00:00:00",
          "2020-03-15T00:00:00",
          "2020-03-15T00:00:00",
          "2020-03-16T00:00:00",
          "2020-03-16T00:00:00",
          "2020-03-16T00:00:00",
          "2020-03-16T00:00:00",
          "2020-03-16T00:00:00",
          "2020-03-16T00:00:00",
          "2020-03-16T00:00:00",
          "2020-03-16T00:00:00",
          "2020-03-16T00:00:00",
          "2020-03-17T00:00:00",
          "2020-03-17T00:00:00",
          "2020-03-17T00:00:00",
          "2020-03-17T00:00:00",
          "2020-03-17T00:00:00",
          "2020-03-17T00:00:00",
          "2020-03-17T00:00:00",
          "2020-03-17T00:00:00",
          "2020-03-18T00:00:00",
          "2020-03-18T00:00:00",
          "2020-03-18T00:00:00",
          "2020-03-18T00:00:00",
          "2020-03-18T00:00:00",
          "2020-03-18T00:00:00",
          "2020-03-18T00:00:00",
          "2020-03-18T00:00:00",
          "2020-03-19T00:00:00",
          "2020-03-19T00:00:00",
          "2020-03-19T00:00:00",
          "2020-03-19T00:00:00",
          "2020-03-19T00:00:00",
          "2020-03-19T00:00:00",
          "2020-03-19T00:00:00",
          "2020-03-19T00:00:00",
          "2020-03-20T00:00:00",
          "2020-03-20T00:00:00",
          "2020-03-20T00:00:00",
          "2020-03-20T00:00:00",
          "2020-03-20T00:00:00",
          "2020-03-20T00:00:00",
          "2020-03-20T00:00:00",
          "2020-03-20T00:00:00",
          "2020-03-21T00:00:00",
          "2020-03-21T00:00:00",
          "2020-03-21T00:00:00",
          "2020-03-21T00:00:00",
          "2020-03-21T00:00:00",
          "2020-03-21T00:00:00",
          "2020-03-21T00:00:00",
          "2020-03-21T00:00:00",
          "2020-03-22T00:00:00",
          "2020-03-22T00:00:00",
          "2020-03-22T00:00:00",
          "2020-03-22T00:00:00",
          "2020-03-22T00:00:00",
          "2020-03-22T00:00:00",
          "2020-03-22T00:00:00",
          "2020-03-22T00:00:00",
          "2020-03-23T00:00:00",
          "2020-03-23T00:00:00",
          "2020-03-23T00:00:00",
          "2020-03-23T00:00:00",
          "2020-03-23T00:00:00",
          "2020-03-23T00:00:00",
          "2020-03-23T00:00:00",
          "2020-03-24T00:00:00",
          "2020-03-24T00:00:00",
          "2020-03-24T00:00:00",
          "2020-03-24T00:00:00",
          "2020-03-24T00:00:00",
          "2020-03-24T00:00:00",
          "2020-03-24T00:00:00",
          "2020-03-25T00:00:00",
          "2020-03-25T00:00:00",
          "2020-03-25T00:00:00",
          "2020-03-25T00:00:00",
          "2020-03-25T00:00:00",
          "2020-03-25T00:00:00",
          "2020-03-25T00:00:00",
          "2020-03-26T00:00:00",
          "2020-03-26T00:00:00",
          "2020-03-26T00:00:00",
          "2020-03-26T00:00:00",
          "2020-03-26T00:00:00",
          "2020-03-26T00:00:00",
          "2020-03-26T00:00:00",
          "2020-03-27T00:00:00",
          "2020-03-27T00:00:00",
          "2020-03-27T00:00:00",
          "2020-03-27T00:00:00",
          "2020-03-27T00:00:00",
          "2020-03-27T00:00:00",
          "2020-03-27T00:00:00",
          "2020-03-28T00:00:00",
          "2020-03-28T00:00:00",
          "2020-03-28T00:00:00",
          "2020-03-28T00:00:00",
          "2020-03-28T00:00:00",
          "2020-03-28T00:00:00",
          "2020-03-28T00:00:00",
          "2020-03-29T00:00:00",
          "2020-03-29T00:00:00",
          "2020-03-29T00:00:00",
          "2020-03-29T00:00:00",
          "2020-03-29T00:00:00",
          "2020-03-29T00:00:00",
          "2020-03-29T00:00:00",
          "2020-03-30T00:00:00",
          "2020-03-30T00:00:00",
          "2020-03-30T00:00:00",
          "2020-03-30T00:00:00",
          "2020-03-30T00:00:00",
          "2020-03-30T00:00:00",
          "2020-03-30T00:00:00",
          "2020-03-31T00:00:00",
          "2020-03-31T00:00:00",
          "2020-03-31T00:00:00",
          "2020-03-31T00:00:00",
          "2020-03-31T00:00:00",
          "2020-03-31T00:00:00",
          "2020-03-31T00:00:00",
          "2020-04-01T00:00:00",
          "2020-04-01T00:00:00",
          "2020-04-01T00:00:00",
          "2020-04-01T00:00:00",
          "2020-04-01T00:00:00",
          "2020-04-01T00:00:00",
          "2020-04-01T00:00:00",
          "2020-04-02T00:00:00",
          "2020-04-02T00:00:00",
          "2020-04-02T00:00:00",
          "2020-04-02T00:00:00",
          "2020-04-02T00:00:00",
          "2020-04-02T00:00:00",
          "2020-04-02T00:00:00",
          "2020-04-03T00:00:00",
          "2020-04-03T00:00:00",
          "2020-04-03T00:00:00",
          "2020-04-03T00:00:00",
          "2020-04-03T00:00:00",
          "2020-04-03T00:00:00",
          "2020-04-03T00:00:00",
          "2020-04-04T00:00:00",
          "2020-04-04T00:00:00",
          "2020-04-04T00:00:00",
          "2020-04-04T00:00:00",
          "2020-04-04T00:00:00",
          "2020-04-04T00:00:00",
          "2020-04-04T00:00:00",
          "2020-04-05T00:00:00",
          "2020-04-05T00:00:00",
          "2020-04-05T00:00:00",
          "2020-04-05T00:00:00",
          "2020-04-05T00:00:00",
          "2020-04-05T00:00:00",
          "2020-04-05T00:00:00",
          "2020-04-06T00:00:00",
          "2020-04-06T00:00:00",
          "2020-04-06T00:00:00",
          "2020-04-06T00:00:00",
          "2020-04-06T00:00:00",
          "2020-04-06T00:00:00",
          "2020-04-06T00:00:00",
          "2020-04-07T00:00:00",
          "2020-04-07T00:00:00",
          "2020-04-07T00:00:00",
          "2020-04-07T00:00:00",
          "2020-04-07T00:00:00",
          "2020-04-07T00:00:00",
          "2020-04-07T00:00:00",
          "2020-04-08T00:00:00",
          "2020-04-08T00:00:00",
          "2020-04-08T00:00:00",
          "2020-04-08T00:00:00",
          "2020-04-08T00:00:00",
          "2020-04-08T00:00:00",
          "2020-04-08T00:00:00",
          "2020-04-09T00:00:00",
          "2020-04-09T00:00:00",
          "2020-04-09T00:00:00",
          "2020-04-09T00:00:00",
          "2020-04-09T00:00:00",
          "2020-04-09T00:00:00",
          "2020-04-09T00:00:00",
          "2020-04-10T00:00:00",
          "2020-04-10T00:00:00",
          "2020-04-10T00:00:00",
          "2020-04-10T00:00:00",
          "2020-04-10T00:00:00",
          "2020-04-10T00:00:00",
          "2020-04-10T00:00:00",
          "2020-04-11T00:00:00",
          "2020-04-11T00:00:00",
          "2020-04-11T00:00:00",
          "2020-04-11T00:00:00",
          "2020-04-11T00:00:00",
          "2020-04-11T00:00:00",
          "2020-04-11T00:00:00",
          "2020-04-12T00:00:00",
          "2020-04-12T00:00:00",
          "2020-04-12T00:00:00",
          "2020-04-12T00:00:00",
          "2020-04-12T00:00:00",
          "2020-04-12T00:00:00",
          "2020-04-12T00:00:00",
          "2020-04-13T00:00:00",
          "2020-04-13T00:00:00",
          "2020-04-13T00:00:00",
          "2020-04-13T00:00:00",
          "2020-04-13T00:00:00",
          "2020-04-13T00:00:00",
          "2020-04-13T00:00:00",
          "2020-04-14T00:00:00",
          "2020-04-14T00:00:00",
          "2020-04-14T00:00:00",
          "2020-04-14T00:00:00",
          "2020-04-14T00:00:00",
          "2020-04-14T00:00:00",
          "2020-04-14T00:00:00",
          "2020-04-15T00:00:00",
          "2020-04-15T00:00:00",
          "2020-04-15T00:00:00",
          "2020-04-15T00:00:00",
          "2020-04-15T00:00:00",
          "2020-04-15T00:00:00",
          "2020-04-15T00:00:00",
          "2020-04-16T00:00:00",
          "2020-04-16T00:00:00",
          "2020-04-16T00:00:00",
          "2020-04-16T00:00:00",
          "2020-04-16T00:00:00",
          "2020-04-16T00:00:00",
          "2020-04-16T00:00:00",
          "2020-04-17T00:00:00",
          "2020-04-17T00:00:00",
          "2020-04-17T00:00:00",
          "2020-04-17T00:00:00",
          "2020-04-17T00:00:00",
          "2020-04-17T00:00:00",
          "2020-04-17T00:00:00",
          "2020-04-18T00:00:00",
          "2020-04-18T00:00:00",
          "2020-04-18T00:00:00",
          "2020-04-18T00:00:00",
          "2020-04-18T00:00:00",
          "2020-04-18T00:00:00",
          "2020-04-18T00:00:00",
          "2020-04-19T00:00:00",
          "2020-04-19T00:00:00",
          "2020-04-19T00:00:00",
          "2020-04-19T00:00:00",
          "2020-04-19T00:00:00",
          "2020-04-19T00:00:00",
          "2020-04-19T00:00:00",
          "2020-04-20T00:00:00",
          "2020-04-20T00:00:00",
          "2020-04-20T00:00:00",
          "2020-04-20T00:00:00",
          "2020-04-20T00:00:00",
          "2020-04-20T00:00:00",
          "2020-04-20T00:00:00",
          "2020-04-21T00:00:00",
          "2020-04-21T00:00:00",
          "2020-04-21T00:00:00",
          "2020-04-21T00:00:00",
          "2020-04-21T00:00:00",
          "2020-04-21T00:00:00",
          "2020-04-21T00:00:00",
          "2020-04-22T00:00:00",
          "2020-04-22T00:00:00",
          "2020-04-22T00:00:00",
          "2020-04-22T00:00:00",
          "2020-04-22T00:00:00",
          "2020-04-22T00:00:00",
          "2020-04-22T00:00:00",
          "2020-04-23T00:00:00",
          "2020-04-23T00:00:00",
          "2020-04-23T00:00:00",
          "2020-04-23T00:00:00",
          "2020-04-23T00:00:00",
          "2020-04-23T00:00:00",
          "2020-04-23T00:00:00",
          "2020-04-24T00:00:00",
          "2020-04-24T00:00:00",
          "2020-04-24T00:00:00",
          "2020-04-24T00:00:00",
          "2020-04-24T00:00:00",
          "2020-04-24T00:00:00",
          "2020-04-24T00:00:00",
          "2020-04-25T00:00:00",
          "2020-04-25T00:00:00",
          "2020-04-25T00:00:00",
          "2020-04-25T00:00:00",
          "2020-04-25T00:00:00",
          "2020-04-25T00:00:00",
          "2020-04-25T00:00:00",
          "2020-04-26T00:00:00",
          "2020-04-26T00:00:00",
          "2020-04-26T00:00:00",
          "2020-04-26T00:00:00",
          "2020-04-26T00:00:00",
          "2020-04-26T00:00:00",
          "2020-04-26T00:00:00",
          "2020-04-27T00:00:00",
          "2020-04-27T00:00:00",
          "2020-04-27T00:00:00",
          "2020-04-27T00:00:00",
          "2020-04-27T00:00:00",
          "2020-04-27T00:00:00",
          "2020-04-27T00:00:00",
          "2020-04-28T00:00:00",
          "2020-04-28T00:00:00",
          "2020-04-28T00:00:00",
          "2020-04-28T00:00:00",
          "2020-04-28T00:00:00",
          "2020-04-28T00:00:00",
          "2020-04-28T00:00:00",
          "2020-04-29T00:00:00",
          "2020-04-29T00:00:00",
          "2020-04-29T00:00:00",
          "2020-04-29T00:00:00",
          "2020-04-29T00:00:00",
          "2020-04-29T00:00:00",
          "2020-04-29T00:00:00",
          "2020-04-30T00:00:00",
          "2020-04-30T00:00:00",
          "2020-04-30T00:00:00",
          "2020-04-30T00:00:00",
          "2020-04-30T00:00:00",
          "2020-04-30T00:00:00",
          "2020-04-30T00:00:00",
          "2020-05-01T00:00:00",
          "2020-05-01T00:00:00",
          "2020-05-01T00:00:00",
          "2020-05-01T00:00:00",
          "2020-05-01T00:00:00",
          "2020-05-01T00:00:00",
          "2020-05-01T00:00:00",
          "2020-05-02T00:00:00",
          "2020-05-02T00:00:00",
          "2020-05-02T00:00:00",
          "2020-05-02T00:00:00",
          "2020-05-02T00:00:00",
          "2020-05-02T00:00:00",
          "2020-05-02T00:00:00",
          "2020-05-04T00:00:00",
          "2020-05-04T00:00:00",
          "2020-05-04T00:00:00",
          "2020-05-04T00:00:00",
          "2020-05-04T00:00:00",
          "2020-05-04T00:00:00",
          "2020-05-04T00:00:00",
          "2020-05-05T00:00:00",
          "2020-05-05T00:00:00",
          "2020-05-05T00:00:00",
          "2020-05-05T00:00:00",
          "2020-05-05T00:00:00",
          "2020-05-05T00:00:00",
          "2020-05-05T00:00:00",
          "2020-05-06T00:00:00",
          "2020-05-06T00:00:00",
          "2020-05-06T00:00:00",
          "2020-05-06T00:00:00",
          "2020-05-06T00:00:00",
          "2020-05-06T00:00:00",
          "2020-05-06T00:00:00",
          "2020-05-07T00:00:00",
          "2020-05-07T00:00:00",
          "2020-05-07T00:00:00",
          "2020-05-07T00:00:00",
          "2020-05-07T00:00:00",
          "2020-05-07T00:00:00",
          "2020-05-07T00:00:00",
          "2020-05-08T00:00:00",
          "2020-05-08T00:00:00",
          "2020-05-08T00:00:00",
          "2020-05-08T00:00:00",
          "2020-05-08T00:00:00",
          "2020-05-08T00:00:00",
          "2020-05-08T00:00:00",
          "2020-05-09T00:00:00",
          "2020-05-09T00:00:00",
          "2020-05-09T00:00:00",
          "2020-05-09T00:00:00",
          "2020-05-09T00:00:00",
          "2020-05-09T00:00:00",
          "2020-05-09T00:00:00",
          "2020-05-10T00:00:00",
          "2020-05-10T00:00:00",
          "2020-05-10T00:00:00",
          "2020-05-10T00:00:00",
          "2020-05-10T00:00:00",
          "2020-05-10T00:00:00",
          "2020-05-10T00:00:00",
          "2020-05-11T00:00:00",
          "2020-05-11T00:00:00",
          "2020-05-11T00:00:00",
          "2020-05-11T00:00:00",
          "2020-05-11T00:00:00",
          "2020-05-11T00:00:00",
          "2020-05-11T00:00:00"
         ],
         "y": [
          48,
          61,
          84,
          20,
          3,
          19,
          3,
          10,
          52,
          67,
          89,
          24,
          3,
          23,
          3,
          10,
          57,
          71,
          107,
          27,
          4,
          31,
          4,
          17,
          62,
          77,
          119,
          29,
          4,
          45,
          4,
          23,
          65,
          83,
          127,
          30,
          5,
          45,
          4,
          23,
          69,
          95,
          135,
          36,
          5,
          70,
          9,
          23,
          0,
          76,
          112,
          140,
          52,
          5,
          103,
          20,
          25,
          84,
          129,
          151,
          58,
          6,
          134,
          21,
          29,
          103,
          158,
          173,
          72,
          7,
          134,
          23,
          64,
          137,
          182,
          182,
          94,
          19,
          650,
          36,
          64,
          171,
          196,
          210,
          130,
          21,
          698,
          40,
          310,
          188,
          246,
          232,
          155,
          21,
          1380,
          42,
          310,
          198,
          257,
          232,
          196,
          1405,
          44,
          310,
          226,
          257,
          232,
          431,
          1407,
          60,
          310,
          236,
          257,
          238,
          538,
          1437,
          65,
          347,
          255,
          257,
          295,
          694,
          1437,
          77,
          347,
          712,
          1298,
          4456,
          704,
          1494,
          83,
          777,
          910,
          3339,
          4807,
          820,
          1494,
          90,
          787,
          1067,
          3521,
          5322,
          928,
          1601,
          97,
          788,
          1200,
          3616,
          5945,
          1022,
          1695,
          105,
          862,
          1395,
          3770,
          6328,
          1334,
          1825,
          177,
          880,
          1703,
          4462,
          6578,
          1524,
          1934,
          239,
          891,
          1997,
          5086,
          6926,
          1814,
          2049,
          249,
          894,
          2395,
          5522,
          7504,
          1938,
          2171,
          322,
          961,
          343,
          2401,
          963,
          2569,
          2369,
          5456,
          8625,
          385,
          2513,
          1058,
          2744,
          2548,
          7859,
          8846,
          400,
          3504,
          1062,
          2871,
          2882,
          8682,
          9131,
          484,
          3456,
          1111,
          2921,
          3016,
          9386,
          9589,
          534,
          3549,
          1175,
          3096,
          3068,
          10347,
          10223,
          581,
          3709,
          1211,
          3233,
          3322,
          11741,
          10981,
          631,
          4009,
          1334,
          3375,
          3687,
          13720,
          11623,
          745,
          4109,
          1424,
          3480,
          3768,
          15850,
          12209,
          813,
          4099,
          1488,
          3570,
          4232,
          18520,
          12740,
          910,
          4222,
          1553,
          3836,
          4305,
          19395,
          13309,
          992,
          4341,
          1644,
          3947,
          4783,
          21885,
          13840,
          1029,
          4298,
          1742,
          4473,
          5088,
          24726,
          14503,
          1081,
          4370,
          1839,
          4824,
          5410,
          27803,
          16026,
          1135,
          4490,
          1932,
          5150,
          5758,
          29326,
          18900,
          1175,
          5025,
          2313,
          5479,
          6140,
          31245,
          21272,
          1229,
          5485,
          2429,
          5857,
          6531,
          33199,
          22938,
          1275,
          5793,
          2657,
          5976,
          7090,
          34084,
          24458,
          1355,
          6391,
          2827,
          6224,
          8340,
          35890,
          26058,
          1416,
          7650,
          3047,
          6931,
          9828,
          38965,
          30346,
          1471,
          8358,
          3239,
          7519,
          10954,
          40157,
          33028,
          1522,
          8794,
          3434,
          8059,
          12100,
          41126,
          35582,
          1588,
          10404,
          3591,
          8455,
          12921,
          42456,
          38181,
          1588,
          10404,
          3591,
          8455,
          12921,
          42456,
          38181,
          1692,
          11279,
          3675,
          8753,
          13880,
          42684,
          41216,
          1713,
          12337,
          3736,
          9247,
          14728,
          44999,
          43949,
          1826,
          13286,
          3933,
          9705,
          15540,
          47151,
          48061,
          1958,
          14187,
          4176,
          10435,
          16443,
          49573,
          51790,
          2038,
          15335,
          4370,
          11194,
          17495,
          53262,
          54377,
          2054,
          15653,
          4590,
          11689,
          18480,
          56722,
          57761,
          2227,
          15927,
          5069,
          12704,
          20900,
          67908,
          64052,
          2281,
          16110,
          5160,
          13697,
          21683,
          74533,
          66623,
          2391,
          16334,
          5284,
          14585,
          22553,
          79911,
          69973,
          2471,
          16470,
          5565,
          15607,
          23975,
          86398,
          72544,
          2518,
          16705,
          5658,
          16666,
          25522,
          92781,
          76078,
          2668,
          16822,
          5886,
          17657,
          26981,
          96701,
          81610,
          2780,
          16944,
          5983,
          18755,
          28193,
          101371,
          87108,
          2854,
          17237,
          6060,
          19532,
          29463,
          103904,
          91323
         ]
        }
       ],
       "layout": {
        "height": 600,
        "plot_bgcolor": "rgb(275, 270, 273)",
        "template": {
         "data": {
          "bar": [
           {
            "error_x": {
             "color": "#2a3f5f"
            },
            "error_y": {
             "color": "#2a3f5f"
            },
            "marker": {
             "line": {
              "color": "#E5ECF6",
              "width": 0.5
             }
            },
            "type": "bar"
           }
          ],
          "barpolar": [
           {
            "marker": {
             "line": {
              "color": "#E5ECF6",
              "width": 0.5
             }
            },
            "type": "barpolar"
           }
          ],
          "carpet": [
           {
            "aaxis": {
             "endlinecolor": "#2a3f5f",
             "gridcolor": "white",
             "linecolor": "white",
             "minorgridcolor": "white",
             "startlinecolor": "#2a3f5f"
            },
            "baxis": {
             "endlinecolor": "#2a3f5f",
             "gridcolor": "white",
             "linecolor": "white",
             "minorgridcolor": "white",
             "startlinecolor": "#2a3f5f"
            },
            "type": "carpet"
           }
          ],
          "choropleth": [
           {
            "colorbar": {
             "outlinewidth": 0,
             "ticks": ""
            },
            "type": "choropleth"
           }
          ],
          "contour": [
           {
            "colorbar": {
             "outlinewidth": 0,
             "ticks": ""
            },
            "colorscale": [
             [
              0,
              "#0d0887"
             ],
             [
              0.1111111111111111,
              "#46039f"
             ],
             [
              0.2222222222222222,
              "#7201a8"
             ],
             [
              0.3333333333333333,
              "#9c179e"
             ],
             [
              0.4444444444444444,
              "#bd3786"
             ],
             [
              0.5555555555555556,
              "#d8576b"
             ],
             [
              0.6666666666666666,
              "#ed7953"
             ],
             [
              0.7777777777777778,
              "#fb9f3a"
             ],
             [
              0.8888888888888888,
              "#fdca26"
             ],
             [
              1,
              "#f0f921"
             ]
            ],
            "type": "contour"
           }
          ],
          "contourcarpet": [
           {
            "colorbar": {
             "outlinewidth": 0,
             "ticks": ""
            },
            "type": "contourcarpet"
           }
          ],
          "heatmap": [
           {
            "colorbar": {
             "outlinewidth": 0,
             "ticks": ""
            },
            "colorscale": [
             [
              0,
              "#0d0887"
             ],
             [
              0.1111111111111111,
              "#46039f"
             ],
             [
              0.2222222222222222,
              "#7201a8"
             ],
             [
              0.3333333333333333,
              "#9c179e"
             ],
             [
              0.4444444444444444,
              "#bd3786"
             ],
             [
              0.5555555555555556,
              "#d8576b"
             ],
             [
              0.6666666666666666,
              "#ed7953"
             ],
             [
              0.7777777777777778,
              "#fb9f3a"
             ],
             [
              0.8888888888888888,
              "#fdca26"
             ],
             [
              1,
              "#f0f921"
             ]
            ],
            "type": "heatmap"
           }
          ],
          "heatmapgl": [
           {
            "colorbar": {
             "outlinewidth": 0,
             "ticks": ""
            },
            "colorscale": [
             [
              0,
              "#0d0887"
             ],
             [
              0.1111111111111111,
              "#46039f"
             ],
             [
              0.2222222222222222,
              "#7201a8"
             ],
             [
              0.3333333333333333,
              "#9c179e"
             ],
             [
              0.4444444444444444,
              "#bd3786"
             ],
             [
              0.5555555555555556,
              "#d8576b"
             ],
             [
              0.6666666666666666,
              "#ed7953"
             ],
             [
              0.7777777777777778,
              "#fb9f3a"
             ],
             [
              0.8888888888888888,
              "#fdca26"
             ],
             [
              1,
              "#f0f921"
             ]
            ],
            "type": "heatmapgl"
           }
          ],
          "histogram": [
           {
            "marker": {
             "colorbar": {
              "outlinewidth": 0,
              "ticks": ""
             }
            },
            "type": "histogram"
           }
          ],
          "histogram2d": [
           {
            "colorbar": {
             "outlinewidth": 0,
             "ticks": ""
            },
            "colorscale": [
             [
              0,
              "#0d0887"
             ],
             [
              0.1111111111111111,
              "#46039f"
             ],
             [
              0.2222222222222222,
              "#7201a8"
             ],
             [
              0.3333333333333333,
              "#9c179e"
             ],
             [
              0.4444444444444444,
              "#bd3786"
             ],
             [
              0.5555555555555556,
              "#d8576b"
             ],
             [
              0.6666666666666666,
              "#ed7953"
             ],
             [
              0.7777777777777778,
              "#fb9f3a"
             ],
             [
              0.8888888888888888,
              "#fdca26"
             ],
             [
              1,
              "#f0f921"
             ]
            ],
            "type": "histogram2d"
           }
          ],
          "histogram2dcontour": [
           {
            "colorbar": {
             "outlinewidth": 0,
             "ticks": ""
            },
            "colorscale": [
             [
              0,
              "#0d0887"
             ],
             [
              0.1111111111111111,
              "#46039f"
             ],
             [
              0.2222222222222222,
              "#7201a8"
             ],
             [
              0.3333333333333333,
              "#9c179e"
             ],
             [
              0.4444444444444444,
              "#bd3786"
             ],
             [
              0.5555555555555556,
              "#d8576b"
             ],
             [
              0.6666666666666666,
              "#ed7953"
             ],
             [
              0.7777777777777778,
              "#fb9f3a"
             ],
             [
              0.8888888888888888,
              "#fdca26"
             ],
             [
              1,
              "#f0f921"
             ]
            ],
            "type": "histogram2dcontour"
           }
          ],
          "mesh3d": [
           {
            "colorbar": {
             "outlinewidth": 0,
             "ticks": ""
            },
            "type": "mesh3d"
           }
          ],
          "parcoords": [
           {
            "line": {
             "colorbar": {
              "outlinewidth": 0,
              "ticks": ""
             }
            },
            "type": "parcoords"
           }
          ],
          "pie": [
           {
            "automargin": true,
            "type": "pie"
           }
          ],
          "scatter": [
           {
            "marker": {
             "colorbar": {
              "outlinewidth": 0,
              "ticks": ""
             }
            },
            "type": "scatter"
           }
          ],
          "scatter3d": [
           {
            "line": {
             "colorbar": {
              "outlinewidth": 0,
              "ticks": ""
             }
            },
            "marker": {
             "colorbar": {
              "outlinewidth": 0,
              "ticks": ""
             }
            },
            "type": "scatter3d"
           }
          ],
          "scattercarpet": [
           {
            "marker": {
             "colorbar": {
              "outlinewidth": 0,
              "ticks": ""
             }
            },
            "type": "scattercarpet"
           }
          ],
          "scattergeo": [
           {
            "marker": {
             "colorbar": {
              "outlinewidth": 0,
              "ticks": ""
             }
            },
            "type": "scattergeo"
           }
          ],
          "scattergl": [
           {
            "marker": {
             "colorbar": {
              "outlinewidth": 0,
              "ticks": ""
             }
            },
            "type": "scattergl"
           }
          ],
          "scattermapbox": [
           {
            "marker": {
             "colorbar": {
              "outlinewidth": 0,
              "ticks": ""
             }
            },
            "type": "scattermapbox"
           }
          ],
          "scatterpolar": [
           {
            "marker": {
             "colorbar": {
              "outlinewidth": 0,
              "ticks": ""
             }
            },
            "type": "scatterpolar"
           }
          ],
          "scatterpolargl": [
           {
            "marker": {
             "colorbar": {
              "outlinewidth": 0,
              "ticks": ""
             }
            },
            "type": "scatterpolargl"
           }
          ],
          "scatterternary": [
           {
            "marker": {
             "colorbar": {
              "outlinewidth": 0,
              "ticks": ""
             }
            },
            "type": "scatterternary"
           }
          ],
          "surface": [
           {
            "colorbar": {
             "outlinewidth": 0,
             "ticks": ""
            },
            "colorscale": [
             [
              0,
              "#0d0887"
             ],
             [
              0.1111111111111111,
              "#46039f"
             ],
             [
              0.2222222222222222,
              "#7201a8"
             ],
             [
              0.3333333333333333,
              "#9c179e"
             ],
             [
              0.4444444444444444,
              "#bd3786"
             ],
             [
              0.5555555555555556,
              "#d8576b"
             ],
             [
              0.6666666666666666,
              "#ed7953"
             ],
             [
              0.7777777777777778,
              "#fb9f3a"
             ],
             [
              0.8888888888888888,
              "#fdca26"
             ],
             [
              1,
              "#f0f921"
             ]
            ],
            "type": "surface"
           }
          ],
          "table": [
           {
            "cells": {
             "fill": {
              "color": "#EBF0F8"
             },
             "line": {
              "color": "white"
             }
            },
            "header": {
             "fill": {
              "color": "#C8D4E3"
             },
             "line": {
              "color": "white"
             }
            },
            "type": "table"
           }
          ]
         },
         "layout": {
          "annotationdefaults": {
           "arrowcolor": "#2a3f5f",
           "arrowhead": 0,
           "arrowwidth": 1
          },
          "coloraxis": {
           "colorbar": {
            "outlinewidth": 0,
            "ticks": ""
           }
          },
          "colorscale": {
           "diverging": [
            [
             0,
             "#8e0152"
            ],
            [
             0.1,
             "#c51b7d"
            ],
            [
             0.2,
             "#de77ae"
            ],
            [
             0.3,
             "#f1b6da"
            ],
            [
             0.4,
             "#fde0ef"
            ],
            [
             0.5,
             "#f7f7f7"
            ],
            [
             0.6,
             "#e6f5d0"
            ],
            [
             0.7,
             "#b8e186"
            ],
            [
             0.8,
             "#7fbc41"
            ],
            [
             0.9,
             "#4d9221"
            ],
            [
             1,
             "#276419"
            ]
           ],
           "sequential": [
            [
             0,
             "#0d0887"
            ],
            [
             0.1111111111111111,
             "#46039f"
            ],
            [
             0.2222222222222222,
             "#7201a8"
            ],
            [
             0.3333333333333333,
             "#9c179e"
            ],
            [
             0.4444444444444444,
             "#bd3786"
            ],
            [
             0.5555555555555556,
             "#d8576b"
            ],
            [
             0.6666666666666666,
             "#ed7953"
            ],
            [
             0.7777777777777778,
             "#fb9f3a"
            ],
            [
             0.8888888888888888,
             "#fdca26"
            ],
            [
             1,
             "#f0f921"
            ]
           ],
           "sequentialminus": [
            [
             0,
             "#0d0887"
            ],
            [
             0.1111111111111111,
             "#46039f"
            ],
            [
             0.2222222222222222,
             "#7201a8"
            ],
            [
             0.3333333333333333,
             "#9c179e"
            ],
            [
             0.4444444444444444,
             "#bd3786"
            ],
            [
             0.5555555555555556,
             "#d8576b"
            ],
            [
             0.6666666666666666,
             "#ed7953"
            ],
            [
             0.7777777777777778,
             "#fb9f3a"
            ],
            [
             0.8888888888888888,
             "#fdca26"
            ],
            [
             1,
             "#f0f921"
            ]
           ]
          },
          "colorway": [
           "#636efa",
           "#EF553B",
           "#00cc96",
           "#ab63fa",
           "#FFA15A",
           "#19d3f3",
           "#FF6692",
           "#B6E880",
           "#FF97FF",
           "#FECB52"
          ],
          "font": {
           "color": "#2a3f5f"
          },
          "geo": {
           "bgcolor": "white",
           "lakecolor": "white",
           "landcolor": "#E5ECF6",
           "showlakes": true,
           "showland": true,
           "subunitcolor": "white"
          },
          "hoverlabel": {
           "align": "left"
          },
          "hovermode": "closest",
          "mapbox": {
           "style": "light"
          },
          "paper_bgcolor": "white",
          "plot_bgcolor": "#E5ECF6",
          "polar": {
           "angularaxis": {
            "gridcolor": "white",
            "linecolor": "white",
            "ticks": ""
           },
           "bgcolor": "#E5ECF6",
           "radialaxis": {
            "gridcolor": "white",
            "linecolor": "white",
            "ticks": ""
           }
          },
          "scene": {
           "xaxis": {
            "backgroundcolor": "#E5ECF6",
            "gridcolor": "white",
            "gridwidth": 2,
            "linecolor": "white",
            "showbackground": true,
            "ticks": "",
            "zerolinecolor": "white"
           },
           "yaxis": {
            "backgroundcolor": "#E5ECF6",
            "gridcolor": "white",
            "gridwidth": 2,
            "linecolor": "white",
            "showbackground": true,
            "ticks": "",
            "zerolinecolor": "white"
           },
           "zaxis": {
            "backgroundcolor": "#E5ECF6",
            "gridcolor": "white",
            "gridwidth": 2,
            "linecolor": "white",
            "showbackground": true,
            "ticks": "",
            "zerolinecolor": "white"
           }
          },
          "shapedefaults": {
           "line": {
            "color": "#2a3f5f"
           }
          },
          "ternary": {
           "aaxis": {
            "gridcolor": "white",
            "linecolor": "white",
            "ticks": ""
           },
           "baxis": {
            "gridcolor": "white",
            "linecolor": "white",
            "ticks": ""
           },
           "bgcolor": "#E5ECF6",
           "caxis": {
            "gridcolor": "white",
            "linecolor": "white",
            "ticks": ""
           }
          },
          "title": {
           "x": 0.05
          },
          "xaxis": {
           "automargin": true,
           "gridcolor": "white",
           "linecolor": "white",
           "ticks": "",
           "title": {
            "standoff": 15
           },
           "zerolinecolor": "white",
           "zerolinewidth": 2
          },
          "yaxis": {
           "automargin": true,
           "gridcolor": "white",
           "linecolor": "white",
           "ticks": "",
           "title": {
            "standoff": 15
           },
           "zerolinecolor": "white",
           "zerolinewidth": 2
          }
         }
        },
        "title": {
         "text": "Cumulative Suspected VS Cumulative tests performed"
        },
        "width": 600
       }
      },
      "text/html": [
       "<div>\n",
       "        \n",
       "        \n",
       "            <div id=\"235ea9c1-f3c9-4595-865e-767c7a45badb\" class=\"plotly-graph-div\" style=\"height:600px; width:600px;\"></div>\n",
       "            <script type=\"text/javascript\">\n",
       "                require([\"plotly\"], function(Plotly) {\n",
       "                    window.PLOTLYENV=window.PLOTLYENV || {};\n",
       "                    \n",
       "                if (document.getElementById(\"235ea9c1-f3c9-4595-865e-767c7a45badb\")) {\n",
       "                    Plotly.newPlot(\n",
       "                        '235ea9c1-f3c9-4595-865e-767c7a45badb',\n",
       "                        [{\"marker\": {\"color\": \"blue\"}, \"mode\": \"lines+markers\", \"name\": \"Cumulative tests performed\", \"type\": \"scatter\", \"x\": [\"2020-03-11T00:00:00\", \"2020-03-11T00:00:00\", \"2020-03-11T00:00:00\", \"2020-03-11T00:00:00\", \"2020-03-11T00:00:00\", \"2020-03-11T00:00:00\", \"2020-03-11T00:00:00\", \"2020-03-11T00:00:00\", \"2020-03-12T00:00:00\", \"2020-03-12T00:00:00\", \"2020-03-12T00:00:00\", \"2020-03-12T00:00:00\", \"2020-03-12T00:00:00\", \"2020-03-12T00:00:00\", \"2020-03-12T00:00:00\", \"2020-03-12T00:00:00\", \"2020-03-13T00:00:00\", \"2020-03-13T00:00:00\", \"2020-03-13T00:00:00\", \"2020-03-13T00:00:00\", \"2020-03-13T00:00:00\", \"2020-03-13T00:00:00\", \"2020-03-13T00:00:00\", \"2020-03-13T00:00:00\", \"2020-03-14T00:00:00\", \"2020-03-14T00:00:00\", \"2020-03-14T00:00:00\", \"2020-03-14T00:00:00\", \"2020-03-14T00:00:00\", \"2020-03-14T00:00:00\", \"2020-03-14T00:00:00\", \"2020-03-14T00:00:00\", \"2020-03-15T00:00:00\", \"2020-03-15T00:00:00\", \"2020-03-15T00:00:00\", \"2020-03-15T00:00:00\", \"2020-03-15T00:00:00\", \"2020-03-15T00:00:00\", \"2020-03-15T00:00:00\", \"2020-03-15T00:00:00\", \"2020-03-16T00:00:00\", \"2020-03-16T00:00:00\", \"2020-03-16T00:00:00\", \"2020-03-16T00:00:00\", \"2020-03-16T00:00:00\", \"2020-03-16T00:00:00\", \"2020-03-16T00:00:00\", \"2020-03-16T00:00:00\", \"2020-03-16T00:00:00\", \"2020-03-17T00:00:00\", \"2020-03-17T00:00:00\", \"2020-03-17T00:00:00\", \"2020-03-17T00:00:00\", \"2020-03-17T00:00:00\", \"2020-03-17T00:00:00\", \"2020-03-17T00:00:00\", \"2020-03-17T00:00:00\", \"2020-03-18T00:00:00\", \"2020-03-18T00:00:00\", \"2020-03-18T00:00:00\", \"2020-03-18T00:00:00\", \"2020-03-18T00:00:00\", \"2020-03-18T00:00:00\", \"2020-03-18T00:00:00\", \"2020-03-18T00:00:00\", \"2020-03-19T00:00:00\", \"2020-03-19T00:00:00\", \"2020-03-19T00:00:00\", \"2020-03-19T00:00:00\", \"2020-03-19T00:00:00\", \"2020-03-19T00:00:00\", \"2020-03-19T00:00:00\", \"2020-03-19T00:00:00\", \"2020-03-20T00:00:00\", \"2020-03-20T00:00:00\", \"2020-03-20T00:00:00\", \"2020-03-20T00:00:00\", \"2020-03-20T00:00:00\", \"2020-03-20T00:00:00\", \"2020-03-20T00:00:00\", \"2020-03-20T00:00:00\", \"2020-03-21T00:00:00\", \"2020-03-21T00:00:00\", \"2020-03-21T00:00:00\", \"2020-03-21T00:00:00\", \"2020-03-21T00:00:00\", \"2020-03-21T00:00:00\", \"2020-03-21T00:00:00\", \"2020-03-21T00:00:00\", \"2020-03-22T00:00:00\", \"2020-03-22T00:00:00\", \"2020-03-22T00:00:00\", \"2020-03-22T00:00:00\", \"2020-03-22T00:00:00\", \"2020-03-22T00:00:00\", \"2020-03-22T00:00:00\", \"2020-03-22T00:00:00\", \"2020-03-23T00:00:00\", \"2020-03-23T00:00:00\", \"2020-03-23T00:00:00\", \"2020-03-23T00:00:00\", \"2020-03-23T00:00:00\", \"2020-03-23T00:00:00\", \"2020-03-23T00:00:00\", \"2020-03-24T00:00:00\", \"2020-03-24T00:00:00\", \"2020-03-24T00:00:00\", \"2020-03-24T00:00:00\", \"2020-03-24T00:00:00\", \"2020-03-24T00:00:00\", \"2020-03-24T00:00:00\", \"2020-03-25T00:00:00\", \"2020-03-25T00:00:00\", \"2020-03-25T00:00:00\", \"2020-03-25T00:00:00\", \"2020-03-25T00:00:00\", \"2020-03-25T00:00:00\", \"2020-03-25T00:00:00\", \"2020-03-26T00:00:00\", \"2020-03-26T00:00:00\", \"2020-03-26T00:00:00\", \"2020-03-26T00:00:00\", \"2020-03-26T00:00:00\", \"2020-03-26T00:00:00\", \"2020-03-26T00:00:00\", \"2020-03-27T00:00:00\", \"2020-03-27T00:00:00\", \"2020-03-27T00:00:00\", \"2020-03-27T00:00:00\", \"2020-03-27T00:00:00\", \"2020-03-27T00:00:00\", \"2020-03-27T00:00:00\", \"2020-03-28T00:00:00\", \"2020-03-28T00:00:00\", \"2020-03-28T00:00:00\", \"2020-03-28T00:00:00\", \"2020-03-28T00:00:00\", \"2020-03-28T00:00:00\", \"2020-03-28T00:00:00\", \"2020-03-29T00:00:00\", \"2020-03-29T00:00:00\", \"2020-03-29T00:00:00\", \"2020-03-29T00:00:00\", \"2020-03-29T00:00:00\", \"2020-03-29T00:00:00\", \"2020-03-29T00:00:00\", \"2020-03-30T00:00:00\", \"2020-03-30T00:00:00\", \"2020-03-30T00:00:00\", \"2020-03-30T00:00:00\", \"2020-03-30T00:00:00\", \"2020-03-30T00:00:00\", \"2020-03-30T00:00:00\", \"2020-03-31T00:00:00\", \"2020-03-31T00:00:00\", \"2020-03-31T00:00:00\", \"2020-03-31T00:00:00\", \"2020-03-31T00:00:00\", \"2020-03-31T00:00:00\", \"2020-03-31T00:00:00\", \"2020-04-01T00:00:00\", \"2020-04-01T00:00:00\", \"2020-04-01T00:00:00\", \"2020-04-01T00:00:00\", \"2020-04-01T00:00:00\", \"2020-04-01T00:00:00\", \"2020-04-01T00:00:00\", \"2020-04-02T00:00:00\", \"2020-04-02T00:00:00\", \"2020-04-02T00:00:00\", \"2020-04-02T00:00:00\", \"2020-04-02T00:00:00\", \"2020-04-02T00:00:00\", \"2020-04-02T00:00:00\", \"2020-04-03T00:00:00\", \"2020-04-03T00:00:00\", \"2020-04-03T00:00:00\", \"2020-04-03T00:00:00\", \"2020-04-03T00:00:00\", \"2020-04-03T00:00:00\", \"2020-04-03T00:00:00\", \"2020-04-04T00:00:00\", \"2020-04-04T00:00:00\", \"2020-04-04T00:00:00\", \"2020-04-04T00:00:00\", \"2020-04-04T00:00:00\", \"2020-04-04T00:00:00\", \"2020-04-04T00:00:00\", \"2020-04-05T00:00:00\", \"2020-04-05T00:00:00\", \"2020-04-05T00:00:00\", \"2020-04-05T00:00:00\", \"2020-04-05T00:00:00\", \"2020-04-05T00:00:00\", \"2020-04-05T00:00:00\", \"2020-04-06T00:00:00\", \"2020-04-06T00:00:00\", \"2020-04-06T00:00:00\", \"2020-04-06T00:00:00\", \"2020-04-06T00:00:00\", \"2020-04-06T00:00:00\", \"2020-04-06T00:00:00\", \"2020-04-07T00:00:00\", \"2020-04-07T00:00:00\", \"2020-04-07T00:00:00\", \"2020-04-07T00:00:00\", \"2020-04-07T00:00:00\", \"2020-04-07T00:00:00\", \"2020-04-07T00:00:00\", \"2020-04-08T00:00:00\", \"2020-04-08T00:00:00\", \"2020-04-08T00:00:00\", \"2020-04-08T00:00:00\", \"2020-04-08T00:00:00\", \"2020-04-08T00:00:00\", \"2020-04-08T00:00:00\", \"2020-04-09T00:00:00\", \"2020-04-09T00:00:00\", \"2020-04-09T00:00:00\", \"2020-04-09T00:00:00\", \"2020-04-09T00:00:00\", \"2020-04-09T00:00:00\", \"2020-04-09T00:00:00\", \"2020-04-10T00:00:00\", \"2020-04-10T00:00:00\", \"2020-04-10T00:00:00\", \"2020-04-10T00:00:00\", \"2020-04-10T00:00:00\", \"2020-04-10T00:00:00\", \"2020-04-10T00:00:00\", \"2020-04-11T00:00:00\", \"2020-04-11T00:00:00\", \"2020-04-11T00:00:00\", \"2020-04-11T00:00:00\", \"2020-04-11T00:00:00\", \"2020-04-11T00:00:00\", \"2020-04-11T00:00:00\", \"2020-04-12T00:00:00\", \"2020-04-12T00:00:00\", \"2020-04-12T00:00:00\", \"2020-04-12T00:00:00\", \"2020-04-12T00:00:00\", \"2020-04-12T00:00:00\", \"2020-04-12T00:00:00\", \"2020-04-13T00:00:00\", \"2020-04-13T00:00:00\", \"2020-04-13T00:00:00\", \"2020-04-13T00:00:00\", \"2020-04-13T00:00:00\", \"2020-04-13T00:00:00\", \"2020-04-13T00:00:00\", \"2020-04-14T00:00:00\", \"2020-04-14T00:00:00\", \"2020-04-14T00:00:00\", \"2020-04-14T00:00:00\", \"2020-04-14T00:00:00\", \"2020-04-14T00:00:00\", \"2020-04-14T00:00:00\", \"2020-04-15T00:00:00\", \"2020-04-15T00:00:00\", \"2020-04-15T00:00:00\", \"2020-04-15T00:00:00\", \"2020-04-15T00:00:00\", \"2020-04-15T00:00:00\", \"2020-04-15T00:00:00\", \"2020-04-16T00:00:00\", \"2020-04-16T00:00:00\", \"2020-04-16T00:00:00\", \"2020-04-16T00:00:00\", \"2020-04-16T00:00:00\", \"2020-04-16T00:00:00\", \"2020-04-16T00:00:00\", \"2020-04-17T00:00:00\", \"2020-04-17T00:00:00\", \"2020-04-17T00:00:00\", \"2020-04-17T00:00:00\", \"2020-04-17T00:00:00\", \"2020-04-17T00:00:00\", \"2020-04-17T00:00:00\", \"2020-04-18T00:00:00\", \"2020-04-18T00:00:00\", \"2020-04-18T00:00:00\", \"2020-04-18T00:00:00\", \"2020-04-18T00:00:00\", \"2020-04-18T00:00:00\", \"2020-04-18T00:00:00\", \"2020-04-19T00:00:00\", \"2020-04-19T00:00:00\", \"2020-04-19T00:00:00\", \"2020-04-19T00:00:00\", \"2020-04-19T00:00:00\", \"2020-04-19T00:00:00\", \"2020-04-19T00:00:00\", \"2020-04-20T00:00:00\", \"2020-04-20T00:00:00\", \"2020-04-20T00:00:00\", \"2020-04-20T00:00:00\", \"2020-04-20T00:00:00\", \"2020-04-20T00:00:00\", \"2020-04-20T00:00:00\", \"2020-04-21T00:00:00\", \"2020-04-21T00:00:00\", \"2020-04-21T00:00:00\", \"2020-04-21T00:00:00\", \"2020-04-21T00:00:00\", \"2020-04-21T00:00:00\", \"2020-04-21T00:00:00\", \"2020-04-22T00:00:00\", \"2020-04-22T00:00:00\", \"2020-04-22T00:00:00\", \"2020-04-22T00:00:00\", \"2020-04-22T00:00:00\", \"2020-04-22T00:00:00\", \"2020-04-22T00:00:00\", \"2020-04-23T00:00:00\", \"2020-04-23T00:00:00\", \"2020-04-23T00:00:00\", \"2020-04-23T00:00:00\", \"2020-04-23T00:00:00\", \"2020-04-23T00:00:00\", \"2020-04-23T00:00:00\", \"2020-04-24T00:00:00\", \"2020-04-24T00:00:00\", \"2020-04-24T00:00:00\", \"2020-04-24T00:00:00\", \"2020-04-24T00:00:00\", \"2020-04-24T00:00:00\", \"2020-04-24T00:00:00\", \"2020-04-25T00:00:00\", \"2020-04-25T00:00:00\", \"2020-04-25T00:00:00\", \"2020-04-25T00:00:00\", \"2020-04-25T00:00:00\", \"2020-04-25T00:00:00\", \"2020-04-25T00:00:00\", \"2020-04-26T00:00:00\", \"2020-04-26T00:00:00\", \"2020-04-26T00:00:00\", \"2020-04-26T00:00:00\", \"2020-04-26T00:00:00\", \"2020-04-26T00:00:00\", \"2020-04-26T00:00:00\", \"2020-04-27T00:00:00\", \"2020-04-27T00:00:00\", \"2020-04-27T00:00:00\", \"2020-04-27T00:00:00\", \"2020-04-27T00:00:00\", \"2020-04-27T00:00:00\", \"2020-04-27T00:00:00\", \"2020-04-28T00:00:00\", \"2020-04-28T00:00:00\", \"2020-04-28T00:00:00\", \"2020-04-28T00:00:00\", \"2020-04-28T00:00:00\", \"2020-04-28T00:00:00\", \"2020-04-28T00:00:00\", \"2020-04-29T00:00:00\", \"2020-04-29T00:00:00\", \"2020-04-29T00:00:00\", \"2020-04-29T00:00:00\", \"2020-04-29T00:00:00\", \"2020-04-29T00:00:00\", \"2020-04-29T00:00:00\", \"2020-04-30T00:00:00\", \"2020-04-30T00:00:00\", \"2020-04-30T00:00:00\", \"2020-04-30T00:00:00\", \"2020-04-30T00:00:00\", \"2020-04-30T00:00:00\", \"2020-04-30T00:00:00\", \"2020-05-01T00:00:00\", \"2020-05-01T00:00:00\", \"2020-05-01T00:00:00\", \"2020-05-01T00:00:00\", \"2020-05-01T00:00:00\", \"2020-05-01T00:00:00\", \"2020-05-01T00:00:00\", \"2020-05-02T00:00:00\", \"2020-05-02T00:00:00\", \"2020-05-02T00:00:00\", \"2020-05-02T00:00:00\", \"2020-05-02T00:00:00\", \"2020-05-02T00:00:00\", \"2020-05-02T00:00:00\", \"2020-05-04T00:00:00\", \"2020-05-04T00:00:00\", \"2020-05-04T00:00:00\", \"2020-05-04T00:00:00\", \"2020-05-04T00:00:00\", \"2020-05-04T00:00:00\", \"2020-05-04T00:00:00\", \"2020-05-05T00:00:00\", \"2020-05-05T00:00:00\", \"2020-05-05T00:00:00\", \"2020-05-05T00:00:00\", \"2020-05-05T00:00:00\", \"2020-05-05T00:00:00\", \"2020-05-05T00:00:00\", \"2020-05-06T00:00:00\", \"2020-05-06T00:00:00\", \"2020-05-06T00:00:00\", \"2020-05-06T00:00:00\", \"2020-05-06T00:00:00\", \"2020-05-06T00:00:00\", \"2020-05-06T00:00:00\", \"2020-05-07T00:00:00\", \"2020-05-07T00:00:00\", \"2020-05-07T00:00:00\", \"2020-05-07T00:00:00\", \"2020-05-07T00:00:00\", \"2020-05-07T00:00:00\", \"2020-05-07T00:00:00\", \"2020-05-08T00:00:00\", \"2020-05-08T00:00:00\", \"2020-05-08T00:00:00\", \"2020-05-08T00:00:00\", \"2020-05-08T00:00:00\", \"2020-05-08T00:00:00\", \"2020-05-08T00:00:00\", \"2020-05-09T00:00:00\", \"2020-05-09T00:00:00\", \"2020-05-09T00:00:00\", \"2020-05-09T00:00:00\", \"2020-05-09T00:00:00\", \"2020-05-09T00:00:00\", \"2020-05-09T00:00:00\", \"2020-05-10T00:00:00\", \"2020-05-10T00:00:00\", \"2020-05-10T00:00:00\", \"2020-05-10T00:00:00\", \"2020-05-10T00:00:00\", \"2020-05-10T00:00:00\", \"2020-05-10T00:00:00\", \"2020-05-11T00:00:00\", \"2020-05-11T00:00:00\", \"2020-05-11T00:00:00\", \"2020-05-11T00:00:00\", \"2020-05-11T00:00:00\", \"2020-05-11T00:00:00\", \"2020-05-11T00:00:00\"], \"y\": [80, 95, 171, 28, 0, 18, 4, 26, 85, 105, 198, 29, 0, 18, 8, 28, 92, 110, 240, 30, 0, 18, 9, 32, 99, 116, 282, 31, 0, 35, 10, 36, 115, 126, 315, 32, 0, 42, 11, 45, 147, 166, 364, 32, 0, 40, 11, 45, 28, 581, 166, 554, 51, 0, 163, 11, 45, 627, 133, 606, 42, 0, 151, 11, 51, 184, 254, 908, 67, 0, 637, 23, 90, 277, 872, 1210, 67, 0, 805, 36, 143, 325, 894, 1497, 130, 0, 805, 40, 310, 366, 1361, 1497, 264, 0, 1380, 42, 315, 404, 1436, 1512, 305, 1405, 44, 338, 427, 1436, 1579, 448, 1407, 60, 500, 459, 1436, 1579, 566, 1437, 66, 580, 561, 1436, 1592, 704, 1455, 77, 624, 712, 2257, 1592, 917, 1512, 83, 762, 1056, 3310, 5158, 1121, 1657, 97, 832, 1213, 3492, 5673, 1229, 1737, 97, 895, 1310, 3492, 5945, 1324, 1710, 105, 862, 1469, 2500, 6328, 1512, 1792, 177, 880, 1703, 2720, 6578, 1271, 1934, 239, 750, 1997, 2945, 6926, 1814, 2049, 249, 797, 2395, 15134, 7504, 1938, 2171, 322, 844, 343, 2401, 860, 2569, 1624, 16508, 8625, 385, 2513, 975, 2744, 1769, 17653, 8846, 400, 2777, 998, 2871, 1974, 17724, 9131, 484, 2998, 1015, 2921, 2103, 20073, 9589, 534, 3091, 1127, 3096, 2262, 21826, 10223, 581, 3216, 1143, 3233, 2662, 23080, 10981, 631, 3405, 1266, 3375, 2871, 31535, 11623, 745, 3694, 1334, 3480, 3046, 33328, 12209, 813, 3812, 1408, 3570, 3259, 36199, 12740, 910, 3906, 1476, 3836, 3478, 38199, 13309, 992, 4012, 1563, 3947, 3793, 41781, 13840, 1029, 4100, 1618, 4473, 4151, 43565, 14503, 1081, 4299, 1664, 4824, 4524, 46561, 16026, 1135, 4427, 1826, 5150, 4885, 48381, 18900, 1175, 4812, 2021, 5479, 5311, 52478, 21272, 1229, 5085, 2169, 5857, 6003, 55241, 22938, 1275, 5315, 2430, 5976, 6544, 58304, 24458, 1355, 5636, 2604, 6224, 9360, 60649, 26058, 1416, 6130, 2859, 6931, 10837, 66030, 30346, 1471, 6504, 2998, 7519, 11963, 67882, 33028, 1522, 6742, 3162, 8059, 13109, 69971, 35582, 1588, 7212, 3273, 8455, 13930, 71726, 38181, 1588, 7212, 3273, 8455, 13930, 71726, 38181, 1692, 7582, 3398, 8753, 14889, 73226, 41216, 1713, 7991, 3515, 9247, 15737, 75071, 43949, 1826, 8504, 3647, 9705, 16549, 77619, 48061, 1958, 8820, 3791, 10435, 17452, 79914, 51790, 2038, 9435, 3932, 11194, 18504, 82651, 54377, 2054, 9821, 4146, 11689, 19489, 88899, 57761, 2227, 10326, 4439, 12704, 21909, 96854, 64052, 2281, 10633, 4581, 13697, 22692, 101897, 66623, 2391, 11496, 4748, 14585, 23562, 106927, 68873, 2471, 12289, 4876, 15607, 24984, 112007, 72544, 2518, 13241, 5007, 16666, 26531, 117206, 76078, 2668, 13771, 5135, 17657, 27990, 121194, 81610, 2780, 14374, 5310, 18755, 29202, 125988, 87108, 2854, 14687, 5480, 19532, 30472, 130546, 91323]}, {\"marker\": {\"color\": \"green\"}, \"mode\": \"lines+markers\", \"name\": \"Cumulative Suspected\", \"type\": \"scatter\", \"x\": [\"2020-03-11T00:00:00\", \"2020-03-11T00:00:00\", \"2020-03-11T00:00:00\", \"2020-03-11T00:00:00\", \"2020-03-11T00:00:00\", \"2020-03-11T00:00:00\", \"2020-03-11T00:00:00\", \"2020-03-11T00:00:00\", \"2020-03-12T00:00:00\", \"2020-03-12T00:00:00\", \"2020-03-12T00:00:00\", \"2020-03-12T00:00:00\", \"2020-03-12T00:00:00\", \"2020-03-12T00:00:00\", \"2020-03-12T00:00:00\", \"2020-03-12T00:00:00\", \"2020-03-13T00:00:00\", \"2020-03-13T00:00:00\", \"2020-03-13T00:00:00\", \"2020-03-13T00:00:00\", \"2020-03-13T00:00:00\", \"2020-03-13T00:00:00\", \"2020-03-13T00:00:00\", \"2020-03-13T00:00:00\", \"2020-03-14T00:00:00\", \"2020-03-14T00:00:00\", \"2020-03-14T00:00:00\", \"2020-03-14T00:00:00\", \"2020-03-14T00:00:00\", \"2020-03-14T00:00:00\", \"2020-03-14T00:00:00\", \"2020-03-14T00:00:00\", \"2020-03-15T00:00:00\", \"2020-03-15T00:00:00\", \"2020-03-15T00:00:00\", \"2020-03-15T00:00:00\", \"2020-03-15T00:00:00\", \"2020-03-15T00:00:00\", \"2020-03-15T00:00:00\", \"2020-03-15T00:00:00\", \"2020-03-16T00:00:00\", \"2020-03-16T00:00:00\", \"2020-03-16T00:00:00\", \"2020-03-16T00:00:00\", \"2020-03-16T00:00:00\", \"2020-03-16T00:00:00\", \"2020-03-16T00:00:00\", \"2020-03-16T00:00:00\", \"2020-03-16T00:00:00\", \"2020-03-17T00:00:00\", \"2020-03-17T00:00:00\", \"2020-03-17T00:00:00\", \"2020-03-17T00:00:00\", \"2020-03-17T00:00:00\", \"2020-03-17T00:00:00\", \"2020-03-17T00:00:00\", \"2020-03-17T00:00:00\", \"2020-03-18T00:00:00\", \"2020-03-18T00:00:00\", \"2020-03-18T00:00:00\", \"2020-03-18T00:00:00\", \"2020-03-18T00:00:00\", \"2020-03-18T00:00:00\", \"2020-03-18T00:00:00\", \"2020-03-18T00:00:00\", \"2020-03-19T00:00:00\", \"2020-03-19T00:00:00\", \"2020-03-19T00:00:00\", \"2020-03-19T00:00:00\", \"2020-03-19T00:00:00\", \"2020-03-19T00:00:00\", \"2020-03-19T00:00:00\", \"2020-03-19T00:00:00\", \"2020-03-20T00:00:00\", \"2020-03-20T00:00:00\", \"2020-03-20T00:00:00\", \"2020-03-20T00:00:00\", \"2020-03-20T00:00:00\", \"2020-03-20T00:00:00\", \"2020-03-20T00:00:00\", \"2020-03-20T00:00:00\", \"2020-03-21T00:00:00\", \"2020-03-21T00:00:00\", \"2020-03-21T00:00:00\", \"2020-03-21T00:00:00\", \"2020-03-21T00:00:00\", \"2020-03-21T00:00:00\", \"2020-03-21T00:00:00\", \"2020-03-21T00:00:00\", \"2020-03-22T00:00:00\", \"2020-03-22T00:00:00\", \"2020-03-22T00:00:00\", \"2020-03-22T00:00:00\", \"2020-03-22T00:00:00\", \"2020-03-22T00:00:00\", \"2020-03-22T00:00:00\", \"2020-03-22T00:00:00\", \"2020-03-23T00:00:00\", \"2020-03-23T00:00:00\", \"2020-03-23T00:00:00\", \"2020-03-23T00:00:00\", \"2020-03-23T00:00:00\", \"2020-03-23T00:00:00\", \"2020-03-23T00:00:00\", \"2020-03-24T00:00:00\", \"2020-03-24T00:00:00\", \"2020-03-24T00:00:00\", \"2020-03-24T00:00:00\", \"2020-03-24T00:00:00\", \"2020-03-24T00:00:00\", \"2020-03-24T00:00:00\", \"2020-03-25T00:00:00\", \"2020-03-25T00:00:00\", \"2020-03-25T00:00:00\", \"2020-03-25T00:00:00\", \"2020-03-25T00:00:00\", \"2020-03-25T00:00:00\", \"2020-03-25T00:00:00\", \"2020-03-26T00:00:00\", \"2020-03-26T00:00:00\", \"2020-03-26T00:00:00\", \"2020-03-26T00:00:00\", \"2020-03-26T00:00:00\", \"2020-03-26T00:00:00\", \"2020-03-26T00:00:00\", \"2020-03-27T00:00:00\", \"2020-03-27T00:00:00\", \"2020-03-27T00:00:00\", \"2020-03-27T00:00:00\", \"2020-03-27T00:00:00\", \"2020-03-27T00:00:00\", \"2020-03-27T00:00:00\", \"2020-03-28T00:00:00\", \"2020-03-28T00:00:00\", \"2020-03-28T00:00:00\", \"2020-03-28T00:00:00\", \"2020-03-28T00:00:00\", \"2020-03-28T00:00:00\", \"2020-03-28T00:00:00\", \"2020-03-29T00:00:00\", \"2020-03-29T00:00:00\", \"2020-03-29T00:00:00\", \"2020-03-29T00:00:00\", \"2020-03-29T00:00:00\", \"2020-03-29T00:00:00\", \"2020-03-29T00:00:00\", \"2020-03-30T00:00:00\", \"2020-03-30T00:00:00\", \"2020-03-30T00:00:00\", \"2020-03-30T00:00:00\", \"2020-03-30T00:00:00\", \"2020-03-30T00:00:00\", \"2020-03-30T00:00:00\", \"2020-03-31T00:00:00\", \"2020-03-31T00:00:00\", \"2020-03-31T00:00:00\", \"2020-03-31T00:00:00\", \"2020-03-31T00:00:00\", \"2020-03-31T00:00:00\", \"2020-03-31T00:00:00\", \"2020-04-01T00:00:00\", \"2020-04-01T00:00:00\", \"2020-04-01T00:00:00\", \"2020-04-01T00:00:00\", \"2020-04-01T00:00:00\", \"2020-04-01T00:00:00\", \"2020-04-01T00:00:00\", \"2020-04-02T00:00:00\", \"2020-04-02T00:00:00\", \"2020-04-02T00:00:00\", \"2020-04-02T00:00:00\", \"2020-04-02T00:00:00\", \"2020-04-02T00:00:00\", \"2020-04-02T00:00:00\", \"2020-04-03T00:00:00\", \"2020-04-03T00:00:00\", \"2020-04-03T00:00:00\", \"2020-04-03T00:00:00\", \"2020-04-03T00:00:00\", \"2020-04-03T00:00:00\", \"2020-04-03T00:00:00\", \"2020-04-04T00:00:00\", \"2020-04-04T00:00:00\", \"2020-04-04T00:00:00\", \"2020-04-04T00:00:00\", \"2020-04-04T00:00:00\", \"2020-04-04T00:00:00\", \"2020-04-04T00:00:00\", \"2020-04-05T00:00:00\", \"2020-04-05T00:00:00\", \"2020-04-05T00:00:00\", \"2020-04-05T00:00:00\", \"2020-04-05T00:00:00\", \"2020-04-05T00:00:00\", \"2020-04-05T00:00:00\", \"2020-04-06T00:00:00\", \"2020-04-06T00:00:00\", \"2020-04-06T00:00:00\", \"2020-04-06T00:00:00\", \"2020-04-06T00:00:00\", \"2020-04-06T00:00:00\", \"2020-04-06T00:00:00\", \"2020-04-07T00:00:00\", \"2020-04-07T00:00:00\", \"2020-04-07T00:00:00\", \"2020-04-07T00:00:00\", \"2020-04-07T00:00:00\", \"2020-04-07T00:00:00\", \"2020-04-07T00:00:00\", \"2020-04-08T00:00:00\", \"2020-04-08T00:00:00\", \"2020-04-08T00:00:00\", \"2020-04-08T00:00:00\", \"2020-04-08T00:00:00\", \"2020-04-08T00:00:00\", \"2020-04-08T00:00:00\", \"2020-04-09T00:00:00\", \"2020-04-09T00:00:00\", \"2020-04-09T00:00:00\", \"2020-04-09T00:00:00\", \"2020-04-09T00:00:00\", \"2020-04-09T00:00:00\", \"2020-04-09T00:00:00\", \"2020-04-10T00:00:00\", \"2020-04-10T00:00:00\", \"2020-04-10T00:00:00\", \"2020-04-10T00:00:00\", \"2020-04-10T00:00:00\", \"2020-04-10T00:00:00\", \"2020-04-10T00:00:00\", \"2020-04-11T00:00:00\", \"2020-04-11T00:00:00\", \"2020-04-11T00:00:00\", \"2020-04-11T00:00:00\", \"2020-04-11T00:00:00\", \"2020-04-11T00:00:00\", \"2020-04-11T00:00:00\", \"2020-04-12T00:00:00\", \"2020-04-12T00:00:00\", \"2020-04-12T00:00:00\", \"2020-04-12T00:00:00\", \"2020-04-12T00:00:00\", \"2020-04-12T00:00:00\", \"2020-04-12T00:00:00\", \"2020-04-13T00:00:00\", \"2020-04-13T00:00:00\", \"2020-04-13T00:00:00\", \"2020-04-13T00:00:00\", \"2020-04-13T00:00:00\", \"2020-04-13T00:00:00\", \"2020-04-13T00:00:00\", \"2020-04-14T00:00:00\", \"2020-04-14T00:00:00\", \"2020-04-14T00:00:00\", \"2020-04-14T00:00:00\", \"2020-04-14T00:00:00\", \"2020-04-14T00:00:00\", \"2020-04-14T00:00:00\", \"2020-04-15T00:00:00\", \"2020-04-15T00:00:00\", \"2020-04-15T00:00:00\", \"2020-04-15T00:00:00\", \"2020-04-15T00:00:00\", \"2020-04-15T00:00:00\", \"2020-04-15T00:00:00\", \"2020-04-16T00:00:00\", \"2020-04-16T00:00:00\", \"2020-04-16T00:00:00\", \"2020-04-16T00:00:00\", \"2020-04-16T00:00:00\", \"2020-04-16T00:00:00\", \"2020-04-16T00:00:00\", \"2020-04-17T00:00:00\", \"2020-04-17T00:00:00\", \"2020-04-17T00:00:00\", \"2020-04-17T00:00:00\", \"2020-04-17T00:00:00\", \"2020-04-17T00:00:00\", \"2020-04-17T00:00:00\", \"2020-04-18T00:00:00\", \"2020-04-18T00:00:00\", \"2020-04-18T00:00:00\", \"2020-04-18T00:00:00\", \"2020-04-18T00:00:00\", \"2020-04-18T00:00:00\", \"2020-04-18T00:00:00\", \"2020-04-19T00:00:00\", \"2020-04-19T00:00:00\", \"2020-04-19T00:00:00\", \"2020-04-19T00:00:00\", \"2020-04-19T00:00:00\", \"2020-04-19T00:00:00\", \"2020-04-19T00:00:00\", \"2020-04-20T00:00:00\", \"2020-04-20T00:00:00\", \"2020-04-20T00:00:00\", \"2020-04-20T00:00:00\", \"2020-04-20T00:00:00\", \"2020-04-20T00:00:00\", \"2020-04-20T00:00:00\", \"2020-04-21T00:00:00\", \"2020-04-21T00:00:00\", \"2020-04-21T00:00:00\", \"2020-04-21T00:00:00\", \"2020-04-21T00:00:00\", \"2020-04-21T00:00:00\", \"2020-04-21T00:00:00\", \"2020-04-22T00:00:00\", \"2020-04-22T00:00:00\", \"2020-04-22T00:00:00\", \"2020-04-22T00:00:00\", \"2020-04-22T00:00:00\", \"2020-04-22T00:00:00\", \"2020-04-22T00:00:00\", \"2020-04-23T00:00:00\", \"2020-04-23T00:00:00\", \"2020-04-23T00:00:00\", \"2020-04-23T00:00:00\", \"2020-04-23T00:00:00\", \"2020-04-23T00:00:00\", \"2020-04-23T00:00:00\", \"2020-04-24T00:00:00\", \"2020-04-24T00:00:00\", \"2020-04-24T00:00:00\", \"2020-04-24T00:00:00\", \"2020-04-24T00:00:00\", \"2020-04-24T00:00:00\", \"2020-04-24T00:00:00\", \"2020-04-25T00:00:00\", \"2020-04-25T00:00:00\", \"2020-04-25T00:00:00\", \"2020-04-25T00:00:00\", \"2020-04-25T00:00:00\", \"2020-04-25T00:00:00\", \"2020-04-25T00:00:00\", \"2020-04-26T00:00:00\", \"2020-04-26T00:00:00\", \"2020-04-26T00:00:00\", \"2020-04-26T00:00:00\", \"2020-04-26T00:00:00\", \"2020-04-26T00:00:00\", \"2020-04-26T00:00:00\", \"2020-04-27T00:00:00\", \"2020-04-27T00:00:00\", \"2020-04-27T00:00:00\", \"2020-04-27T00:00:00\", \"2020-04-27T00:00:00\", \"2020-04-27T00:00:00\", \"2020-04-27T00:00:00\", \"2020-04-28T00:00:00\", \"2020-04-28T00:00:00\", \"2020-04-28T00:00:00\", \"2020-04-28T00:00:00\", \"2020-04-28T00:00:00\", \"2020-04-28T00:00:00\", \"2020-04-28T00:00:00\", \"2020-04-29T00:00:00\", \"2020-04-29T00:00:00\", \"2020-04-29T00:00:00\", \"2020-04-29T00:00:00\", \"2020-04-29T00:00:00\", \"2020-04-29T00:00:00\", \"2020-04-29T00:00:00\", \"2020-04-30T00:00:00\", \"2020-04-30T00:00:00\", \"2020-04-30T00:00:00\", \"2020-04-30T00:00:00\", \"2020-04-30T00:00:00\", \"2020-04-30T00:00:00\", \"2020-04-30T00:00:00\", \"2020-05-01T00:00:00\", \"2020-05-01T00:00:00\", \"2020-05-01T00:00:00\", \"2020-05-01T00:00:00\", \"2020-05-01T00:00:00\", \"2020-05-01T00:00:00\", \"2020-05-01T00:00:00\", \"2020-05-02T00:00:00\", \"2020-05-02T00:00:00\", \"2020-05-02T00:00:00\", \"2020-05-02T00:00:00\", \"2020-05-02T00:00:00\", \"2020-05-02T00:00:00\", \"2020-05-02T00:00:00\", \"2020-05-04T00:00:00\", \"2020-05-04T00:00:00\", \"2020-05-04T00:00:00\", \"2020-05-04T00:00:00\", \"2020-05-04T00:00:00\", \"2020-05-04T00:00:00\", \"2020-05-04T00:00:00\", \"2020-05-05T00:00:00\", \"2020-05-05T00:00:00\", \"2020-05-05T00:00:00\", \"2020-05-05T00:00:00\", \"2020-05-05T00:00:00\", \"2020-05-05T00:00:00\", \"2020-05-05T00:00:00\", \"2020-05-06T00:00:00\", \"2020-05-06T00:00:00\", \"2020-05-06T00:00:00\", \"2020-05-06T00:00:00\", \"2020-05-06T00:00:00\", \"2020-05-06T00:00:00\", \"2020-05-06T00:00:00\", \"2020-05-07T00:00:00\", \"2020-05-07T00:00:00\", \"2020-05-07T00:00:00\", \"2020-05-07T00:00:00\", \"2020-05-07T00:00:00\", \"2020-05-07T00:00:00\", \"2020-05-07T00:00:00\", \"2020-05-08T00:00:00\", \"2020-05-08T00:00:00\", \"2020-05-08T00:00:00\", \"2020-05-08T00:00:00\", \"2020-05-08T00:00:00\", \"2020-05-08T00:00:00\", \"2020-05-08T00:00:00\", \"2020-05-09T00:00:00\", \"2020-05-09T00:00:00\", \"2020-05-09T00:00:00\", \"2020-05-09T00:00:00\", \"2020-05-09T00:00:00\", \"2020-05-09T00:00:00\", \"2020-05-09T00:00:00\", \"2020-05-10T00:00:00\", \"2020-05-10T00:00:00\", \"2020-05-10T00:00:00\", \"2020-05-10T00:00:00\", \"2020-05-10T00:00:00\", \"2020-05-10T00:00:00\", \"2020-05-10T00:00:00\", \"2020-05-11T00:00:00\", \"2020-05-11T00:00:00\", \"2020-05-11T00:00:00\", \"2020-05-11T00:00:00\", \"2020-05-11T00:00:00\", \"2020-05-11T00:00:00\", \"2020-05-11T00:00:00\"], \"y\": [48, 61, 84, 20, 3, 19, 3, 10, 52, 67, 89, 24, 3, 23, 3, 10, 57, 71, 107, 27, 4, 31, 4, 17, 62, 77, 119, 29, 4, 45, 4, 23, 65, 83, 127, 30, 5, 45, 4, 23, 69, 95, 135, 36, 5, 70, 9, 23, 0, 76, 112, 140, 52, 5, 103, 20, 25, 84, 129, 151, 58, 6, 134, 21, 29, 103, 158, 173, 72, 7, 134, 23, 64, 137, 182, 182, 94, 19, 650, 36, 64, 171, 196, 210, 130, 21, 698, 40, 310, 188, 246, 232, 155, 21, 1380, 42, 310, 198, 257, 232, 196, 1405, 44, 310, 226, 257, 232, 431, 1407, 60, 310, 236, 257, 238, 538, 1437, 65, 347, 255, 257, 295, 694, 1437, 77, 347, 712, 1298, 4456, 704, 1494, 83, 777, 910, 3339, 4807, 820, 1494, 90, 787, 1067, 3521, 5322, 928, 1601, 97, 788, 1200, 3616, 5945, 1022, 1695, 105, 862, 1395, 3770, 6328, 1334, 1825, 177, 880, 1703, 4462, 6578, 1524, 1934, 239, 891, 1997, 5086, 6926, 1814, 2049, 249, 894, 2395, 5522, 7504, 1938, 2171, 322, 961, 343, 2401, 963, 2569, 2369, 5456, 8625, 385, 2513, 1058, 2744, 2548, 7859, 8846, 400, 3504, 1062, 2871, 2882, 8682, 9131, 484, 3456, 1111, 2921, 3016, 9386, 9589, 534, 3549, 1175, 3096, 3068, 10347, 10223, 581, 3709, 1211, 3233, 3322, 11741, 10981, 631, 4009, 1334, 3375, 3687, 13720, 11623, 745, 4109, 1424, 3480, 3768, 15850, 12209, 813, 4099, 1488, 3570, 4232, 18520, 12740, 910, 4222, 1553, 3836, 4305, 19395, 13309, 992, 4341, 1644, 3947, 4783, 21885, 13840, 1029, 4298, 1742, 4473, 5088, 24726, 14503, 1081, 4370, 1839, 4824, 5410, 27803, 16026, 1135, 4490, 1932, 5150, 5758, 29326, 18900, 1175, 5025, 2313, 5479, 6140, 31245, 21272, 1229, 5485, 2429, 5857, 6531, 33199, 22938, 1275, 5793, 2657, 5976, 7090, 34084, 24458, 1355, 6391, 2827, 6224, 8340, 35890, 26058, 1416, 7650, 3047, 6931, 9828, 38965, 30346, 1471, 8358, 3239, 7519, 10954, 40157, 33028, 1522, 8794, 3434, 8059, 12100, 41126, 35582, 1588, 10404, 3591, 8455, 12921, 42456, 38181, 1588, 10404, 3591, 8455, 12921, 42456, 38181, 1692, 11279, 3675, 8753, 13880, 42684, 41216, 1713, 12337, 3736, 9247, 14728, 44999, 43949, 1826, 13286, 3933, 9705, 15540, 47151, 48061, 1958, 14187, 4176, 10435, 16443, 49573, 51790, 2038, 15335, 4370, 11194, 17495, 53262, 54377, 2054, 15653, 4590, 11689, 18480, 56722, 57761, 2227, 15927, 5069, 12704, 20900, 67908, 64052, 2281, 16110, 5160, 13697, 21683, 74533, 66623, 2391, 16334, 5284, 14585, 22553, 79911, 69973, 2471, 16470, 5565, 15607, 23975, 86398, 72544, 2518, 16705, 5658, 16666, 25522, 92781, 76078, 2668, 16822, 5886, 17657, 26981, 96701, 81610, 2780, 16944, 5983, 18755, 28193, 101371, 87108, 2854, 17237, 6060, 19532, 29463, 103904, 91323]}],\n",
       "                        {\"height\": 600, \"plot_bgcolor\": \"rgb(275, 270, 273)\", \"template\": {\"data\": {\"bar\": [{\"error_x\": {\"color\": \"#2a3f5f\"}, \"error_y\": {\"color\": \"#2a3f5f\"}, \"marker\": {\"line\": {\"color\": \"#E5ECF6\", \"width\": 0.5}}, \"type\": \"bar\"}], \"barpolar\": [{\"marker\": {\"line\": {\"color\": \"#E5ECF6\", \"width\": 0.5}}, \"type\": \"barpolar\"}], \"carpet\": [{\"aaxis\": {\"endlinecolor\": \"#2a3f5f\", \"gridcolor\": \"white\", \"linecolor\": \"white\", \"minorgridcolor\": \"white\", \"startlinecolor\": \"#2a3f5f\"}, \"baxis\": {\"endlinecolor\": \"#2a3f5f\", \"gridcolor\": \"white\", \"linecolor\": \"white\", \"minorgridcolor\": \"white\", \"startlinecolor\": \"#2a3f5f\"}, \"type\": \"carpet\"}], \"choropleth\": [{\"colorbar\": {\"outlinewidth\": 0, \"ticks\": \"\"}, \"type\": \"choropleth\"}], \"contour\": [{\"colorbar\": {\"outlinewidth\": 0, \"ticks\": \"\"}, \"colorscale\": [[0.0, \"#0d0887\"], [0.1111111111111111, \"#46039f\"], [0.2222222222222222, \"#7201a8\"], [0.3333333333333333, \"#9c179e\"], [0.4444444444444444, \"#bd3786\"], [0.5555555555555556, \"#d8576b\"], [0.6666666666666666, \"#ed7953\"], [0.7777777777777778, \"#fb9f3a\"], [0.8888888888888888, \"#fdca26\"], [1.0, \"#f0f921\"]], \"type\": \"contour\"}], \"contourcarpet\": [{\"colorbar\": {\"outlinewidth\": 0, \"ticks\": \"\"}, \"type\": \"contourcarpet\"}], \"heatmap\": [{\"colorbar\": {\"outlinewidth\": 0, \"ticks\": \"\"}, \"colorscale\": [[0.0, \"#0d0887\"], [0.1111111111111111, \"#46039f\"], [0.2222222222222222, \"#7201a8\"], [0.3333333333333333, \"#9c179e\"], [0.4444444444444444, \"#bd3786\"], [0.5555555555555556, \"#d8576b\"], [0.6666666666666666, \"#ed7953\"], [0.7777777777777778, \"#fb9f3a\"], [0.8888888888888888, \"#fdca26\"], [1.0, \"#f0f921\"]], \"type\": \"heatmap\"}], \"heatmapgl\": [{\"colorbar\": {\"outlinewidth\": 0, \"ticks\": \"\"}, \"colorscale\": [[0.0, \"#0d0887\"], [0.1111111111111111, \"#46039f\"], [0.2222222222222222, \"#7201a8\"], [0.3333333333333333, \"#9c179e\"], [0.4444444444444444, \"#bd3786\"], [0.5555555555555556, \"#d8576b\"], [0.6666666666666666, \"#ed7953\"], [0.7777777777777778, \"#fb9f3a\"], [0.8888888888888888, \"#fdca26\"], [1.0, \"#f0f921\"]], \"type\": \"heatmapgl\"}], \"histogram\": [{\"marker\": {\"colorbar\": {\"outlinewidth\": 0, \"ticks\": \"\"}}, \"type\": \"histogram\"}], \"histogram2d\": [{\"colorbar\": {\"outlinewidth\": 0, \"ticks\": \"\"}, \"colorscale\": [[0.0, \"#0d0887\"], [0.1111111111111111, \"#46039f\"], [0.2222222222222222, \"#7201a8\"], [0.3333333333333333, \"#9c179e\"], [0.4444444444444444, \"#bd3786\"], [0.5555555555555556, \"#d8576b\"], [0.6666666666666666, \"#ed7953\"], [0.7777777777777778, \"#fb9f3a\"], [0.8888888888888888, \"#fdca26\"], [1.0, \"#f0f921\"]], \"type\": \"histogram2d\"}], \"histogram2dcontour\": [{\"colorbar\": {\"outlinewidth\": 0, \"ticks\": \"\"}, \"colorscale\": [[0.0, \"#0d0887\"], [0.1111111111111111, \"#46039f\"], [0.2222222222222222, \"#7201a8\"], [0.3333333333333333, \"#9c179e\"], [0.4444444444444444, \"#bd3786\"], [0.5555555555555556, \"#d8576b\"], [0.6666666666666666, \"#ed7953\"], [0.7777777777777778, \"#fb9f3a\"], [0.8888888888888888, \"#fdca26\"], [1.0, \"#f0f921\"]], \"type\": \"histogram2dcontour\"}], \"mesh3d\": [{\"colorbar\": {\"outlinewidth\": 0, \"ticks\": \"\"}, \"type\": \"mesh3d\"}], \"parcoords\": [{\"line\": {\"colorbar\": {\"outlinewidth\": 0, \"ticks\": \"\"}}, \"type\": \"parcoords\"}], \"pie\": [{\"automargin\": true, \"type\": \"pie\"}], \"scatter\": [{\"marker\": {\"colorbar\": {\"outlinewidth\": 0, \"ticks\": \"\"}}, \"type\": \"scatter\"}], \"scatter3d\": [{\"line\": {\"colorbar\": {\"outlinewidth\": 0, \"ticks\": \"\"}}, \"marker\": {\"colorbar\": {\"outlinewidth\": 0, \"ticks\": \"\"}}, \"type\": \"scatter3d\"}], \"scattercarpet\": [{\"marker\": {\"colorbar\": {\"outlinewidth\": 0, \"ticks\": \"\"}}, \"type\": \"scattercarpet\"}], \"scattergeo\": [{\"marker\": {\"colorbar\": {\"outlinewidth\": 0, \"ticks\": \"\"}}, \"type\": \"scattergeo\"}], \"scattergl\": [{\"marker\": {\"colorbar\": {\"outlinewidth\": 0, \"ticks\": \"\"}}, \"type\": \"scattergl\"}], \"scattermapbox\": [{\"marker\": {\"colorbar\": {\"outlinewidth\": 0, \"ticks\": \"\"}}, \"type\": \"scattermapbox\"}], \"scatterpolar\": [{\"marker\": {\"colorbar\": {\"outlinewidth\": 0, \"ticks\": \"\"}}, \"type\": \"scatterpolar\"}], \"scatterpolargl\": [{\"marker\": {\"colorbar\": {\"outlinewidth\": 0, \"ticks\": \"\"}}, \"type\": \"scatterpolargl\"}], \"scatterternary\": [{\"marker\": {\"colorbar\": {\"outlinewidth\": 0, \"ticks\": \"\"}}, \"type\": \"scatterternary\"}], \"surface\": [{\"colorbar\": {\"outlinewidth\": 0, \"ticks\": \"\"}, \"colorscale\": [[0.0, \"#0d0887\"], [0.1111111111111111, \"#46039f\"], [0.2222222222222222, \"#7201a8\"], [0.3333333333333333, \"#9c179e\"], [0.4444444444444444, \"#bd3786\"], [0.5555555555555556, \"#d8576b\"], [0.6666666666666666, \"#ed7953\"], [0.7777777777777778, \"#fb9f3a\"], [0.8888888888888888, \"#fdca26\"], [1.0, \"#f0f921\"]], \"type\": \"surface\"}], \"table\": [{\"cells\": {\"fill\": {\"color\": \"#EBF0F8\"}, \"line\": {\"color\": \"white\"}}, \"header\": {\"fill\": {\"color\": \"#C8D4E3\"}, \"line\": {\"color\": \"white\"}}, \"type\": \"table\"}]}, \"layout\": {\"annotationdefaults\": {\"arrowcolor\": \"#2a3f5f\", \"arrowhead\": 0, \"arrowwidth\": 1}, \"coloraxis\": {\"colorbar\": {\"outlinewidth\": 0, \"ticks\": \"\"}}, \"colorscale\": {\"diverging\": [[0, \"#8e0152\"], [0.1, \"#c51b7d\"], [0.2, \"#de77ae\"], [0.3, \"#f1b6da\"], [0.4, \"#fde0ef\"], [0.5, \"#f7f7f7\"], [0.6, \"#e6f5d0\"], [0.7, \"#b8e186\"], [0.8, \"#7fbc41\"], [0.9, \"#4d9221\"], [1, \"#276419\"]], \"sequential\": [[0.0, \"#0d0887\"], [0.1111111111111111, \"#46039f\"], [0.2222222222222222, \"#7201a8\"], [0.3333333333333333, \"#9c179e\"], [0.4444444444444444, \"#bd3786\"], [0.5555555555555556, \"#d8576b\"], [0.6666666666666666, \"#ed7953\"], [0.7777777777777778, \"#fb9f3a\"], [0.8888888888888888, \"#fdca26\"], [1.0, \"#f0f921\"]], \"sequentialminus\": [[0.0, \"#0d0887\"], [0.1111111111111111, \"#46039f\"], [0.2222222222222222, \"#7201a8\"], [0.3333333333333333, \"#9c179e\"], [0.4444444444444444, \"#bd3786\"], [0.5555555555555556, \"#d8576b\"], [0.6666666666666666, \"#ed7953\"], [0.7777777777777778, \"#fb9f3a\"], [0.8888888888888888, \"#fdca26\"], [1.0, \"#f0f921\"]]}, \"colorway\": [\"#636efa\", \"#EF553B\", \"#00cc96\", \"#ab63fa\", \"#FFA15A\", \"#19d3f3\", \"#FF6692\", \"#B6E880\", \"#FF97FF\", \"#FECB52\"], \"font\": {\"color\": \"#2a3f5f\"}, \"geo\": {\"bgcolor\": \"white\", \"lakecolor\": \"white\", \"landcolor\": \"#E5ECF6\", \"showlakes\": true, \"showland\": true, \"subunitcolor\": \"white\"}, \"hoverlabel\": {\"align\": \"left\"}, \"hovermode\": \"closest\", \"mapbox\": {\"style\": \"light\"}, \"paper_bgcolor\": \"white\", \"plot_bgcolor\": \"#E5ECF6\", \"polar\": {\"angularaxis\": {\"gridcolor\": \"white\", \"linecolor\": \"white\", \"ticks\": \"\"}, \"bgcolor\": \"#E5ECF6\", \"radialaxis\": {\"gridcolor\": \"white\", \"linecolor\": \"white\", \"ticks\": \"\"}}, \"scene\": {\"xaxis\": {\"backgroundcolor\": \"#E5ECF6\", \"gridcolor\": \"white\", \"gridwidth\": 2, \"linecolor\": \"white\", \"showbackground\": true, \"ticks\": \"\", \"zerolinecolor\": \"white\"}, \"yaxis\": {\"backgroundcolor\": \"#E5ECF6\", \"gridcolor\": \"white\", \"gridwidth\": 2, \"linecolor\": \"white\", \"showbackground\": true, \"ticks\": \"\", \"zerolinecolor\": \"white\"}, \"zaxis\": {\"backgroundcolor\": \"#E5ECF6\", \"gridcolor\": \"white\", \"gridwidth\": 2, \"linecolor\": \"white\", \"showbackground\": true, \"ticks\": \"\", \"zerolinecolor\": \"white\"}}, \"shapedefaults\": {\"line\": {\"color\": \"#2a3f5f\"}}, \"ternary\": {\"aaxis\": {\"gridcolor\": \"white\", \"linecolor\": \"white\", \"ticks\": \"\"}, \"baxis\": {\"gridcolor\": \"white\", \"linecolor\": \"white\", \"ticks\": \"\"}, \"bgcolor\": \"#E5ECF6\", \"caxis\": {\"gridcolor\": \"white\", \"linecolor\": \"white\", \"ticks\": \"\"}}, \"title\": {\"x\": 0.05}, \"xaxis\": {\"automargin\": true, \"gridcolor\": \"white\", \"linecolor\": \"white\", \"ticks\": \"\", \"title\": {\"standoff\": 15}, \"zerolinecolor\": \"white\", \"zerolinewidth\": 2}, \"yaxis\": {\"automargin\": true, \"gridcolor\": \"white\", \"linecolor\": \"white\", \"ticks\": \"\", \"title\": {\"standoff\": 15}, \"zerolinecolor\": \"white\", \"zerolinewidth\": 2}}}, \"title\": {\"text\": \"Cumulative Suspected VS Cumulative tests performed\"}, \"width\": 600},\n",
       "                        {\"responsive\": true}\n",
       "                    ).then(function(){\n",
       "                            \n",
       "var gd = document.getElementById('235ea9c1-f3c9-4595-865e-767c7a45badb');\n",
       "var x = new MutationObserver(function (mutations, observer) {{\n",
       "        var display = window.getComputedStyle(gd).display;\n",
       "        if (!display || display === 'none') {{\n",
       "            console.log([gd, 'removed!']);\n",
       "            Plotly.purge(gd);\n",
       "            observer.disconnect();\n",
       "        }}\n",
       "}});\n",
       "\n",
       "// Listen for the removal of the full notebook cells\n",
       "var notebookContainer = gd.closest('#notebook-container');\n",
       "if (notebookContainer) {{\n",
       "    x.observe(notebookContainer, {childList: true});\n",
       "}}\n",
       "\n",
       "// Listen for the clearing of the current output cell\n",
       "var outputEl = gd.closest('.output');\n",
       "if (outputEl) {{\n",
       "    x.observe(outputEl, {childList: true});\n",
       "}}\n",
       "\n",
       "                        })\n",
       "                };\n",
       "                });\n",
       "            </script>\n",
       "        </div>"
      ]
     },
     "metadata": {},
     "output_type": "display_data"
    }
   ],
   "source": [
    "fig = go.Figure()\n",
    "fig.add_trace(go.Scatter(x=covid_data['Date'], y=covid_data['Cumulative  tests performed'],\n",
    "                    mode='lines+markers',marker_color='blue',name='Cumulative tests performed'))\n",
    "fig.add_trace(go.Scatter(x=covid_data['Date'], y=covid_data['Cumulative'],\n",
    "                mode='lines+markers',marker_color='green',name='Cumulative Suspected'))\n",
    "fig.update_layout(title_text='Cumulative Suspected VS Cumulative tests performed',plot_bgcolor='rgb(275, 270, 273)',width=600, height=600)\n",
    "fig.show()"
   ]
  },
  {
   "cell_type": "code",
   "execution_count": 305,
   "metadata": {},
   "outputs": [
    {
     "data": {
      "application/vnd.plotly.v1+json": {
       "config": {
        "plotlyServerURL": "https://plot.ly"
       },
       "data": [
        {
         "marker": {
          "color": "blue"
         },
         "mode": "lines+markers",
         "name": "Expiratin rate",
         "type": "scatter",
         "x": [
          19,
          20,
          21,
          28,
          31,
          53,
          187,
          241,
          302,
          461,
          495,
          750,
          784,
          887,
          991,
          1057,
          1197,
          1408,
          1526,
          1625,
          1865,
          2039,
          2291,
          2450,
          2708,
          2880,
          3277,
          3864,
          4072,
          4322,
          4601,
          4788,
          5038,
          5374,
          5716,
          5988,
          6505,
          7025,
          7481,
          7993,
          8418,
          9216,
          10513,
          11155,
          11940,
          12723,
          12723,
          13328,
          14079,
          14885,
          15759,
          16817,
          18114,
          20186,
          21501,
          22550,
          24073,
          25837,
          27474,
          29465,
          30941
         ],
         "y": [
          0,
          0,
          0,
          0,
          0,
          0,
          0,
          0,
          0.6622516556291391,
          0.43383947939262474,
          0.6060606060606061,
          0.4,
          0.6377551020408163,
          0.6764374295377678,
          0.7063572149344097,
          0.7568590350047304,
          0.7518796992481203,
          0.78125,
          0.8519003931847969,
          1.1076923076923075,
          1.3404825737265416,
          1.2751348700343306,
          1.3531209079004802,
          1.4285714285714286,
          1.4771048744460855,
          1.5625,
          1.5257857796765335,
          1.3975155279503106,
          1.424361493123772,
          1.4576584914391486,
          1.4344707672245165,
          1.4828738512949038,
          1.7070265978562922,
          1.7305545217714924,
          1.6794961511546536,
          1.7869071476285907,
          1.906225980015373,
          1.9217081850533808,
          1.9115091565298756,
          1.9892405855123234,
          2.090757899738655,
          2.083333333333333,
          2.130695329591934,
          2.124607799193187,
          2.1189279731993302,
          2.114281222982001,
          2.114281222982001,
          2.108343337334934,
          2.1379359329497833,
          2.1968424588511923,
          2.1955707849482837,
          2.28935006243682,
          2.302086783703213,
          2.288714950956108,
          2.260359983256593,
          2.3325942350332594,
          2.3428737589830932,
          2.2990285249835507,
          2.2493994321904345,
          2.1686746987951806,
          2.1557157170097927
         ]
        },
        {
         "marker": {
          "color": "red"
         },
         "mode": "lines+markers",
         "name": "Discharging rate",
         "type": "scatter",
         "x": [
          19,
          20,
          21,
          28,
          31,
          53,
          187,
          241,
          302,
          461,
          495,
          750,
          784,
          887,
          991,
          1057,
          1197,
          1408,
          1526,
          1625,
          1865,
          2039,
          2291,
          2450,
          2708,
          2880,
          3277,
          3864,
          4072,
          4322,
          4601,
          4788,
          5038,
          5374,
          5716,
          5988,
          6505,
          7025,
          7481,
          7993,
          8418,
          9216,
          10513,
          11155,
          11940,
          12723,
          12723,
          13328,
          14079,
          14885,
          15759,
          16817,
          18114,
          20186,
          21501,
          22550,
          24073,
          25837,
          27474,
          29465,
          30941
         ],
         "y": [
          5.263157894736842,
          10,
          9.523809523809524,
          10.714285714285714,
          9.67741935483871,
          5.660377358490567,
          2.13903743315508,
          1.6597510373443984,
          1.6556291390728477,
          1.0845986984815619,
          1.0101010101010102,
          0.6666666666666667,
          0.7653061224489796,
          0.6764374295377678,
          1.8163471241170535,
          1.9867549668874174,
          1.921470342522974,
          1.9176136363636365,
          1.834862385321101,
          1.9692307692307693,
          3.1099195710455763,
          4.0215792054928885,
          4.670449585333915,
          5.142857142857142,
          4.800590841949778,
          5.902777777777778,
          7.8425389075373815,
          11.102484472049689,
          11.468565815324165,
          13.234613604812587,
          15.800912845033688,
          15.914786967418545,
          20.3652242953553,
          20.375883885374023,
          24.10776766969909,
          24.148296593186373,
          25.28823981552652,
          25.124555160142346,
          24.488704718620504,
          23.370449143000123,
          23.402233309574722,
          22.41753472222222,
          22.229620469894417,
          49.52039444195428,
          49.07035175879397,
          48.722785506562914,
          22.526133773481096,
          22.7265906362545,
          22.963278641949003,
          23.009741350352705,
          25.712291389047525,
          25.658559790687995,
          50.77288285304184,
          51.000693549985144,
          50.36044835123947,
          27.569844789356985,
          26.85165953557928,
          29.144250493478346,
          28.230326854480598,
          27.228915662650603,
          26.540835784234513
         ]
        }
       ],
       "layout": {
        "height": 600,
        "plot_bgcolor": "rgb(275, 270, 273)",
        "template": {
         "data": {
          "bar": [
           {
            "error_x": {
             "color": "#2a3f5f"
            },
            "error_y": {
             "color": "#2a3f5f"
            },
            "marker": {
             "line": {
              "color": "#E5ECF6",
              "width": 0.5
             }
            },
            "type": "bar"
           }
          ],
          "barpolar": [
           {
            "marker": {
             "line": {
              "color": "#E5ECF6",
              "width": 0.5
             }
            },
            "type": "barpolar"
           }
          ],
          "carpet": [
           {
            "aaxis": {
             "endlinecolor": "#2a3f5f",
             "gridcolor": "white",
             "linecolor": "white",
             "minorgridcolor": "white",
             "startlinecolor": "#2a3f5f"
            },
            "baxis": {
             "endlinecolor": "#2a3f5f",
             "gridcolor": "white",
             "linecolor": "white",
             "minorgridcolor": "white",
             "startlinecolor": "#2a3f5f"
            },
            "type": "carpet"
           }
          ],
          "choropleth": [
           {
            "colorbar": {
             "outlinewidth": 0,
             "ticks": ""
            },
            "type": "choropleth"
           }
          ],
          "contour": [
           {
            "colorbar": {
             "outlinewidth": 0,
             "ticks": ""
            },
            "colorscale": [
             [
              0,
              "#0d0887"
             ],
             [
              0.1111111111111111,
              "#46039f"
             ],
             [
              0.2222222222222222,
              "#7201a8"
             ],
             [
              0.3333333333333333,
              "#9c179e"
             ],
             [
              0.4444444444444444,
              "#bd3786"
             ],
             [
              0.5555555555555556,
              "#d8576b"
             ],
             [
              0.6666666666666666,
              "#ed7953"
             ],
             [
              0.7777777777777778,
              "#fb9f3a"
             ],
             [
              0.8888888888888888,
              "#fdca26"
             ],
             [
              1,
              "#f0f921"
             ]
            ],
            "type": "contour"
           }
          ],
          "contourcarpet": [
           {
            "colorbar": {
             "outlinewidth": 0,
             "ticks": ""
            },
            "type": "contourcarpet"
           }
          ],
          "heatmap": [
           {
            "colorbar": {
             "outlinewidth": 0,
             "ticks": ""
            },
            "colorscale": [
             [
              0,
              "#0d0887"
             ],
             [
              0.1111111111111111,
              "#46039f"
             ],
             [
              0.2222222222222222,
              "#7201a8"
             ],
             [
              0.3333333333333333,
              "#9c179e"
             ],
             [
              0.4444444444444444,
              "#bd3786"
             ],
             [
              0.5555555555555556,
              "#d8576b"
             ],
             [
              0.6666666666666666,
              "#ed7953"
             ],
             [
              0.7777777777777778,
              "#fb9f3a"
             ],
             [
              0.8888888888888888,
              "#fdca26"
             ],
             [
              1,
              "#f0f921"
             ]
            ],
            "type": "heatmap"
           }
          ],
          "heatmapgl": [
           {
            "colorbar": {
             "outlinewidth": 0,
             "ticks": ""
            },
            "colorscale": [
             [
              0,
              "#0d0887"
             ],
             [
              0.1111111111111111,
              "#46039f"
             ],
             [
              0.2222222222222222,
              "#7201a8"
             ],
             [
              0.3333333333333333,
              "#9c179e"
             ],
             [
              0.4444444444444444,
              "#bd3786"
             ],
             [
              0.5555555555555556,
              "#d8576b"
             ],
             [
              0.6666666666666666,
              "#ed7953"
             ],
             [
              0.7777777777777778,
              "#fb9f3a"
             ],
             [
              0.8888888888888888,
              "#fdca26"
             ],
             [
              1,
              "#f0f921"
             ]
            ],
            "type": "heatmapgl"
           }
          ],
          "histogram": [
           {
            "marker": {
             "colorbar": {
              "outlinewidth": 0,
              "ticks": ""
             }
            },
            "type": "histogram"
           }
          ],
          "histogram2d": [
           {
            "colorbar": {
             "outlinewidth": 0,
             "ticks": ""
            },
            "colorscale": [
             [
              0,
              "#0d0887"
             ],
             [
              0.1111111111111111,
              "#46039f"
             ],
             [
              0.2222222222222222,
              "#7201a8"
             ],
             [
              0.3333333333333333,
              "#9c179e"
             ],
             [
              0.4444444444444444,
              "#bd3786"
             ],
             [
              0.5555555555555556,
              "#d8576b"
             ],
             [
              0.6666666666666666,
              "#ed7953"
             ],
             [
              0.7777777777777778,
              "#fb9f3a"
             ],
             [
              0.8888888888888888,
              "#fdca26"
             ],
             [
              1,
              "#f0f921"
             ]
            ],
            "type": "histogram2d"
           }
          ],
          "histogram2dcontour": [
           {
            "colorbar": {
             "outlinewidth": 0,
             "ticks": ""
            },
            "colorscale": [
             [
              0,
              "#0d0887"
             ],
             [
              0.1111111111111111,
              "#46039f"
             ],
             [
              0.2222222222222222,
              "#7201a8"
             ],
             [
              0.3333333333333333,
              "#9c179e"
             ],
             [
              0.4444444444444444,
              "#bd3786"
             ],
             [
              0.5555555555555556,
              "#d8576b"
             ],
             [
              0.6666666666666666,
              "#ed7953"
             ],
             [
              0.7777777777777778,
              "#fb9f3a"
             ],
             [
              0.8888888888888888,
              "#fdca26"
             ],
             [
              1,
              "#f0f921"
             ]
            ],
            "type": "histogram2dcontour"
           }
          ],
          "mesh3d": [
           {
            "colorbar": {
             "outlinewidth": 0,
             "ticks": ""
            },
            "type": "mesh3d"
           }
          ],
          "parcoords": [
           {
            "line": {
             "colorbar": {
              "outlinewidth": 0,
              "ticks": ""
             }
            },
            "type": "parcoords"
           }
          ],
          "pie": [
           {
            "automargin": true,
            "type": "pie"
           }
          ],
          "scatter": [
           {
            "marker": {
             "colorbar": {
              "outlinewidth": 0,
              "ticks": ""
             }
            },
            "type": "scatter"
           }
          ],
          "scatter3d": [
           {
            "line": {
             "colorbar": {
              "outlinewidth": 0,
              "ticks": ""
             }
            },
            "marker": {
             "colorbar": {
              "outlinewidth": 0,
              "ticks": ""
             }
            },
            "type": "scatter3d"
           }
          ],
          "scattercarpet": [
           {
            "marker": {
             "colorbar": {
              "outlinewidth": 0,
              "ticks": ""
             }
            },
            "type": "scattercarpet"
           }
          ],
          "scattergeo": [
           {
            "marker": {
             "colorbar": {
              "outlinewidth": 0,
              "ticks": ""
             }
            },
            "type": "scattergeo"
           }
          ],
          "scattergl": [
           {
            "marker": {
             "colorbar": {
              "outlinewidth": 0,
              "ticks": ""
             }
            },
            "type": "scattergl"
           }
          ],
          "scattermapbox": [
           {
            "marker": {
             "colorbar": {
              "outlinewidth": 0,
              "ticks": ""
             }
            },
            "type": "scattermapbox"
           }
          ],
          "scatterpolar": [
           {
            "marker": {
             "colorbar": {
              "outlinewidth": 0,
              "ticks": ""
             }
            },
            "type": "scatterpolar"
           }
          ],
          "scatterpolargl": [
           {
            "marker": {
             "colorbar": {
              "outlinewidth": 0,
              "ticks": ""
             }
            },
            "type": "scatterpolargl"
           }
          ],
          "scatterternary": [
           {
            "marker": {
             "colorbar": {
              "outlinewidth": 0,
              "ticks": ""
             }
            },
            "type": "scatterternary"
           }
          ],
          "surface": [
           {
            "colorbar": {
             "outlinewidth": 0,
             "ticks": ""
            },
            "colorscale": [
             [
              0,
              "#0d0887"
             ],
             [
              0.1111111111111111,
              "#46039f"
             ],
             [
              0.2222222222222222,
              "#7201a8"
             ],
             [
              0.3333333333333333,
              "#9c179e"
             ],
             [
              0.4444444444444444,
              "#bd3786"
             ],
             [
              0.5555555555555556,
              "#d8576b"
             ],
             [
              0.6666666666666666,
              "#ed7953"
             ],
             [
              0.7777777777777778,
              "#fb9f3a"
             ],
             [
              0.8888888888888888,
              "#fdca26"
             ],
             [
              1,
              "#f0f921"
             ]
            ],
            "type": "surface"
           }
          ],
          "table": [
           {
            "cells": {
             "fill": {
              "color": "#EBF0F8"
             },
             "line": {
              "color": "white"
             }
            },
            "header": {
             "fill": {
              "color": "#C8D4E3"
             },
             "line": {
              "color": "white"
             }
            },
            "type": "table"
           }
          ]
         },
         "layout": {
          "annotationdefaults": {
           "arrowcolor": "#2a3f5f",
           "arrowhead": 0,
           "arrowwidth": 1
          },
          "coloraxis": {
           "colorbar": {
            "outlinewidth": 0,
            "ticks": ""
           }
          },
          "colorscale": {
           "diverging": [
            [
             0,
             "#8e0152"
            ],
            [
             0.1,
             "#c51b7d"
            ],
            [
             0.2,
             "#de77ae"
            ],
            [
             0.3,
             "#f1b6da"
            ],
            [
             0.4,
             "#fde0ef"
            ],
            [
             0.5,
             "#f7f7f7"
            ],
            [
             0.6,
             "#e6f5d0"
            ],
            [
             0.7,
             "#b8e186"
            ],
            [
             0.8,
             "#7fbc41"
            ],
            [
             0.9,
             "#4d9221"
            ],
            [
             1,
             "#276419"
            ]
           ],
           "sequential": [
            [
             0,
             "#0d0887"
            ],
            [
             0.1111111111111111,
             "#46039f"
            ],
            [
             0.2222222222222222,
             "#7201a8"
            ],
            [
             0.3333333333333333,
             "#9c179e"
            ],
            [
             0.4444444444444444,
             "#bd3786"
            ],
            [
             0.5555555555555556,
             "#d8576b"
            ],
            [
             0.6666666666666666,
             "#ed7953"
            ],
            [
             0.7777777777777778,
             "#fb9f3a"
            ],
            [
             0.8888888888888888,
             "#fdca26"
            ],
            [
             1,
             "#f0f921"
            ]
           ],
           "sequentialminus": [
            [
             0,
             "#0d0887"
            ],
            [
             0.1111111111111111,
             "#46039f"
            ],
            [
             0.2222222222222222,
             "#7201a8"
            ],
            [
             0.3333333333333333,
             "#9c179e"
            ],
            [
             0.4444444444444444,
             "#bd3786"
            ],
            [
             0.5555555555555556,
             "#d8576b"
            ],
            [
             0.6666666666666666,
             "#ed7953"
            ],
            [
             0.7777777777777778,
             "#fb9f3a"
            ],
            [
             0.8888888888888888,
             "#fdca26"
            ],
            [
             1,
             "#f0f921"
            ]
           ]
          },
          "colorway": [
           "#636efa",
           "#EF553B",
           "#00cc96",
           "#ab63fa",
           "#FFA15A",
           "#19d3f3",
           "#FF6692",
           "#B6E880",
           "#FF97FF",
           "#FECB52"
          ],
          "font": {
           "color": "#2a3f5f"
          },
          "geo": {
           "bgcolor": "white",
           "lakecolor": "white",
           "landcolor": "#E5ECF6",
           "showlakes": true,
           "showland": true,
           "subunitcolor": "white"
          },
          "hoverlabel": {
           "align": "left"
          },
          "hovermode": "closest",
          "mapbox": {
           "style": "light"
          },
          "paper_bgcolor": "white",
          "plot_bgcolor": "#E5ECF6",
          "polar": {
           "angularaxis": {
            "gridcolor": "white",
            "linecolor": "white",
            "ticks": ""
           },
           "bgcolor": "#E5ECF6",
           "radialaxis": {
            "gridcolor": "white",
            "linecolor": "white",
            "ticks": ""
           }
          },
          "scene": {
           "xaxis": {
            "backgroundcolor": "#E5ECF6",
            "gridcolor": "white",
            "gridwidth": 2,
            "linecolor": "white",
            "showbackground": true,
            "ticks": "",
            "zerolinecolor": "white"
           },
           "yaxis": {
            "backgroundcolor": "#E5ECF6",
            "gridcolor": "white",
            "gridwidth": 2,
            "linecolor": "white",
            "showbackground": true,
            "ticks": "",
            "zerolinecolor": "white"
           },
           "zaxis": {
            "backgroundcolor": "#E5ECF6",
            "gridcolor": "white",
            "gridwidth": 2,
            "linecolor": "white",
            "showbackground": true,
            "ticks": "",
            "zerolinecolor": "white"
           }
          },
          "shapedefaults": {
           "line": {
            "color": "#2a3f5f"
           }
          },
          "ternary": {
           "aaxis": {
            "gridcolor": "white",
            "linecolor": "white",
            "ticks": ""
           },
           "baxis": {
            "gridcolor": "white",
            "linecolor": "white",
            "ticks": ""
           },
           "bgcolor": "#E5ECF6",
           "caxis": {
            "gridcolor": "white",
            "linecolor": "white",
            "ticks": ""
           }
          },
          "title": {
           "x": 0.05
          },
          "xaxis": {
           "automargin": true,
           "gridcolor": "white",
           "linecolor": "white",
           "ticks": "",
           "title": {
            "standoff": 15
           },
           "zerolinecolor": "white",
           "zerolinewidth": 2
          },
          "yaxis": {
           "automargin": true,
           "gridcolor": "white",
           "linecolor": "white",
           "ticks": "",
           "title": {
            "standoff": 15
           },
           "zerolinecolor": "white",
           "zerolinewidth": 2
          }
         }
        },
        "title": {
         "text": "Discharging Rate VS Expiration Rate"
        },
        "width": 600
       }
      },
      "text/html": [
       "<div>\n",
       "        \n",
       "        \n",
       "            <div id=\"c46bc1d6-ba2f-4493-8359-79c059d3cbe3\" class=\"plotly-graph-div\" style=\"height:600px; width:600px;\"></div>\n",
       "            <script type=\"text/javascript\">\n",
       "                require([\"plotly\"], function(Plotly) {\n",
       "                    window.PLOTLYENV=window.PLOTLYENV || {};\n",
       "                    \n",
       "                if (document.getElementById(\"c46bc1d6-ba2f-4493-8359-79c059d3cbe3\")) {\n",
       "                    Plotly.newPlot(\n",
       "                        'c46bc1d6-ba2f-4493-8359-79c059d3cbe3',\n",
       "                        [{\"marker\": {\"color\": \"blue\"}, \"mode\": \"lines+markers\", \"name\": \"Expiratin rate\", \"type\": \"scatter\", \"x\": [19, 20, 21, 28, 31, 53, 187, 241, 302, 461, 495, 750, 784, 887, 991, 1057, 1197, 1408, 1526, 1625, 1865, 2039, 2291, 2450, 2708, 2880, 3277, 3864, 4072, 4322, 4601, 4788, 5038, 5374, 5716, 5988, 6505, 7025, 7481, 7993, 8418, 9216, 10513, 11155, 11940, 12723, 12723, 13328, 14079, 14885, 15759, 16817, 18114, 20186, 21501, 22550, 24073, 25837, 27474, 29465, 30941], \"y\": [0.0, 0.0, 0.0, 0.0, 0.0, 0.0, 0.0, 0.0, 0.6622516556291391, 0.43383947939262474, 0.6060606060606061, 0.4, 0.6377551020408163, 0.6764374295377678, 0.7063572149344097, 0.7568590350047304, 0.7518796992481203, 0.78125, 0.8519003931847969, 1.1076923076923075, 1.3404825737265416, 1.2751348700343306, 1.3531209079004802, 1.4285714285714286, 1.4771048744460855, 1.5625, 1.5257857796765335, 1.3975155279503106, 1.424361493123772, 1.4576584914391486, 1.4344707672245165, 1.4828738512949038, 1.7070265978562922, 1.7305545217714924, 1.6794961511546536, 1.7869071476285907, 1.906225980015373, 1.9217081850533808, 1.9115091565298756, 1.9892405855123234, 2.090757899738655, 2.083333333333333, 2.130695329591934, 2.124607799193187, 2.1189279731993302, 2.114281222982001, 2.114281222982001, 2.108343337334934, 2.1379359329497833, 2.1968424588511923, 2.1955707849482837, 2.28935006243682, 2.302086783703213, 2.288714950956108, 2.260359983256593, 2.3325942350332594, 2.3428737589830932, 2.2990285249835507, 2.2493994321904345, 2.1686746987951806, 2.1557157170097927]}, {\"marker\": {\"color\": \"red\"}, \"mode\": \"lines+markers\", \"name\": \"Discharging rate\", \"type\": \"scatter\", \"x\": [19, 20, 21, 28, 31, 53, 187, 241, 302, 461, 495, 750, 784, 887, 991, 1057, 1197, 1408, 1526, 1625, 1865, 2039, 2291, 2450, 2708, 2880, 3277, 3864, 4072, 4322, 4601, 4788, 5038, 5374, 5716, 5988, 6505, 7025, 7481, 7993, 8418, 9216, 10513, 11155, 11940, 12723, 12723, 13328, 14079, 14885, 15759, 16817, 18114, 20186, 21501, 22550, 24073, 25837, 27474, 29465, 30941], \"y\": [5.263157894736842, 10.0, 9.523809523809524, 10.714285714285714, 9.67741935483871, 5.660377358490567, 2.13903743315508, 1.6597510373443984, 1.6556291390728477, 1.0845986984815619, 1.0101010101010102, 0.6666666666666667, 0.7653061224489796, 0.6764374295377678, 1.8163471241170535, 1.9867549668874174, 1.921470342522974, 1.9176136363636365, 1.834862385321101, 1.9692307692307693, 3.1099195710455763, 4.0215792054928885, 4.670449585333915, 5.142857142857142, 4.800590841949778, 5.902777777777778, 7.8425389075373815, 11.102484472049689, 11.468565815324165, 13.234613604812587, 15.800912845033688, 15.914786967418545, 20.3652242953553, 20.375883885374023, 24.10776766969909, 24.148296593186373, 25.28823981552652, 25.124555160142346, 24.488704718620504, 23.370449143000123, 23.402233309574722, 22.41753472222222, 22.229620469894417, 49.52039444195428, 49.07035175879397, 48.722785506562914, 22.526133773481096, 22.7265906362545, 22.963278641949003, 23.009741350352705, 25.712291389047525, 25.658559790687995, 50.77288285304184, 51.000693549985144, 50.36044835123947, 27.569844789356985, 26.85165953557928, 29.144250493478346, 28.230326854480598, 27.228915662650603, 26.540835784234513]}],\n",
       "                        {\"height\": 600, \"plot_bgcolor\": \"rgb(275, 270, 273)\", \"template\": {\"data\": {\"bar\": [{\"error_x\": {\"color\": \"#2a3f5f\"}, \"error_y\": {\"color\": \"#2a3f5f\"}, \"marker\": {\"line\": {\"color\": \"#E5ECF6\", \"width\": 0.5}}, \"type\": \"bar\"}], \"barpolar\": [{\"marker\": {\"line\": {\"color\": \"#E5ECF6\", \"width\": 0.5}}, \"type\": \"barpolar\"}], \"carpet\": [{\"aaxis\": {\"endlinecolor\": \"#2a3f5f\", \"gridcolor\": \"white\", \"linecolor\": \"white\", \"minorgridcolor\": \"white\", \"startlinecolor\": \"#2a3f5f\"}, \"baxis\": {\"endlinecolor\": \"#2a3f5f\", \"gridcolor\": \"white\", \"linecolor\": \"white\", \"minorgridcolor\": \"white\", \"startlinecolor\": \"#2a3f5f\"}, \"type\": \"carpet\"}], \"choropleth\": [{\"colorbar\": {\"outlinewidth\": 0, \"ticks\": \"\"}, \"type\": \"choropleth\"}], \"contour\": [{\"colorbar\": {\"outlinewidth\": 0, \"ticks\": \"\"}, \"colorscale\": [[0.0, \"#0d0887\"], [0.1111111111111111, \"#46039f\"], [0.2222222222222222, \"#7201a8\"], [0.3333333333333333, \"#9c179e\"], [0.4444444444444444, \"#bd3786\"], [0.5555555555555556, \"#d8576b\"], [0.6666666666666666, \"#ed7953\"], [0.7777777777777778, \"#fb9f3a\"], [0.8888888888888888, \"#fdca26\"], [1.0, \"#f0f921\"]], \"type\": \"contour\"}], \"contourcarpet\": [{\"colorbar\": {\"outlinewidth\": 0, \"ticks\": \"\"}, \"type\": \"contourcarpet\"}], \"heatmap\": [{\"colorbar\": {\"outlinewidth\": 0, \"ticks\": \"\"}, \"colorscale\": [[0.0, \"#0d0887\"], [0.1111111111111111, \"#46039f\"], [0.2222222222222222, \"#7201a8\"], [0.3333333333333333, \"#9c179e\"], [0.4444444444444444, \"#bd3786\"], [0.5555555555555556, \"#d8576b\"], [0.6666666666666666, \"#ed7953\"], [0.7777777777777778, \"#fb9f3a\"], [0.8888888888888888, \"#fdca26\"], [1.0, \"#f0f921\"]], \"type\": \"heatmap\"}], \"heatmapgl\": [{\"colorbar\": {\"outlinewidth\": 0, \"ticks\": \"\"}, \"colorscale\": [[0.0, \"#0d0887\"], [0.1111111111111111, \"#46039f\"], [0.2222222222222222, \"#7201a8\"], [0.3333333333333333, \"#9c179e\"], [0.4444444444444444, \"#bd3786\"], [0.5555555555555556, \"#d8576b\"], [0.6666666666666666, \"#ed7953\"], [0.7777777777777778, \"#fb9f3a\"], [0.8888888888888888, \"#fdca26\"], [1.0, \"#f0f921\"]], \"type\": \"heatmapgl\"}], \"histogram\": [{\"marker\": {\"colorbar\": {\"outlinewidth\": 0, \"ticks\": \"\"}}, \"type\": \"histogram\"}], \"histogram2d\": [{\"colorbar\": {\"outlinewidth\": 0, \"ticks\": \"\"}, \"colorscale\": [[0.0, \"#0d0887\"], [0.1111111111111111, \"#46039f\"], [0.2222222222222222, \"#7201a8\"], [0.3333333333333333, \"#9c179e\"], [0.4444444444444444, \"#bd3786\"], [0.5555555555555556, \"#d8576b\"], [0.6666666666666666, \"#ed7953\"], [0.7777777777777778, \"#fb9f3a\"], [0.8888888888888888, \"#fdca26\"], [1.0, \"#f0f921\"]], \"type\": \"histogram2d\"}], \"histogram2dcontour\": [{\"colorbar\": {\"outlinewidth\": 0, \"ticks\": \"\"}, \"colorscale\": [[0.0, \"#0d0887\"], [0.1111111111111111, \"#46039f\"], [0.2222222222222222, \"#7201a8\"], [0.3333333333333333, \"#9c179e\"], [0.4444444444444444, \"#bd3786\"], [0.5555555555555556, \"#d8576b\"], [0.6666666666666666, \"#ed7953\"], [0.7777777777777778, \"#fb9f3a\"], [0.8888888888888888, \"#fdca26\"], [1.0, \"#f0f921\"]], \"type\": \"histogram2dcontour\"}], \"mesh3d\": [{\"colorbar\": {\"outlinewidth\": 0, \"ticks\": \"\"}, \"type\": \"mesh3d\"}], \"parcoords\": [{\"line\": {\"colorbar\": {\"outlinewidth\": 0, \"ticks\": \"\"}}, \"type\": \"parcoords\"}], \"pie\": [{\"automargin\": true, \"type\": \"pie\"}], \"scatter\": [{\"marker\": {\"colorbar\": {\"outlinewidth\": 0, \"ticks\": \"\"}}, \"type\": \"scatter\"}], \"scatter3d\": [{\"line\": {\"colorbar\": {\"outlinewidth\": 0, \"ticks\": \"\"}}, \"marker\": {\"colorbar\": {\"outlinewidth\": 0, \"ticks\": \"\"}}, \"type\": \"scatter3d\"}], \"scattercarpet\": [{\"marker\": {\"colorbar\": {\"outlinewidth\": 0, \"ticks\": \"\"}}, \"type\": \"scattercarpet\"}], \"scattergeo\": [{\"marker\": {\"colorbar\": {\"outlinewidth\": 0, \"ticks\": \"\"}}, \"type\": \"scattergeo\"}], \"scattergl\": [{\"marker\": {\"colorbar\": {\"outlinewidth\": 0, \"ticks\": \"\"}}, \"type\": \"scattergl\"}], \"scattermapbox\": [{\"marker\": {\"colorbar\": {\"outlinewidth\": 0, \"ticks\": \"\"}}, \"type\": \"scattermapbox\"}], \"scatterpolar\": [{\"marker\": {\"colorbar\": {\"outlinewidth\": 0, \"ticks\": \"\"}}, \"type\": \"scatterpolar\"}], \"scatterpolargl\": [{\"marker\": {\"colorbar\": {\"outlinewidth\": 0, \"ticks\": \"\"}}, \"type\": \"scatterpolargl\"}], \"scatterternary\": [{\"marker\": {\"colorbar\": {\"outlinewidth\": 0, \"ticks\": \"\"}}, \"type\": \"scatterternary\"}], \"surface\": [{\"colorbar\": {\"outlinewidth\": 0, \"ticks\": \"\"}, \"colorscale\": [[0.0, \"#0d0887\"], [0.1111111111111111, \"#46039f\"], [0.2222222222222222, \"#7201a8\"], [0.3333333333333333, \"#9c179e\"], [0.4444444444444444, \"#bd3786\"], [0.5555555555555556, \"#d8576b\"], [0.6666666666666666, \"#ed7953\"], [0.7777777777777778, \"#fb9f3a\"], [0.8888888888888888, \"#fdca26\"], [1.0, \"#f0f921\"]], \"type\": \"surface\"}], \"table\": [{\"cells\": {\"fill\": {\"color\": \"#EBF0F8\"}, \"line\": {\"color\": \"white\"}}, \"header\": {\"fill\": {\"color\": \"#C8D4E3\"}, \"line\": {\"color\": \"white\"}}, \"type\": \"table\"}]}, \"layout\": {\"annotationdefaults\": {\"arrowcolor\": \"#2a3f5f\", \"arrowhead\": 0, \"arrowwidth\": 1}, \"coloraxis\": {\"colorbar\": {\"outlinewidth\": 0, \"ticks\": \"\"}}, \"colorscale\": {\"diverging\": [[0, \"#8e0152\"], [0.1, \"#c51b7d\"], [0.2, \"#de77ae\"], [0.3, \"#f1b6da\"], [0.4, \"#fde0ef\"], [0.5, \"#f7f7f7\"], [0.6, \"#e6f5d0\"], [0.7, \"#b8e186\"], [0.8, \"#7fbc41\"], [0.9, \"#4d9221\"], [1, \"#276419\"]], \"sequential\": [[0.0, \"#0d0887\"], [0.1111111111111111, \"#46039f\"], [0.2222222222222222, \"#7201a8\"], [0.3333333333333333, \"#9c179e\"], [0.4444444444444444, \"#bd3786\"], [0.5555555555555556, \"#d8576b\"], [0.6666666666666666, \"#ed7953\"], [0.7777777777777778, \"#fb9f3a\"], [0.8888888888888888, \"#fdca26\"], [1.0, \"#f0f921\"]], \"sequentialminus\": [[0.0, \"#0d0887\"], [0.1111111111111111, \"#46039f\"], [0.2222222222222222, \"#7201a8\"], [0.3333333333333333, \"#9c179e\"], [0.4444444444444444, \"#bd3786\"], [0.5555555555555556, \"#d8576b\"], [0.6666666666666666, \"#ed7953\"], [0.7777777777777778, \"#fb9f3a\"], [0.8888888888888888, \"#fdca26\"], [1.0, \"#f0f921\"]]}, \"colorway\": [\"#636efa\", \"#EF553B\", \"#00cc96\", \"#ab63fa\", \"#FFA15A\", \"#19d3f3\", \"#FF6692\", \"#B6E880\", \"#FF97FF\", \"#FECB52\"], \"font\": {\"color\": \"#2a3f5f\"}, \"geo\": {\"bgcolor\": \"white\", \"lakecolor\": \"white\", \"landcolor\": \"#E5ECF6\", \"showlakes\": true, \"showland\": true, \"subunitcolor\": \"white\"}, \"hoverlabel\": {\"align\": \"left\"}, \"hovermode\": \"closest\", \"mapbox\": {\"style\": \"light\"}, \"paper_bgcolor\": \"white\", \"plot_bgcolor\": \"#E5ECF6\", \"polar\": {\"angularaxis\": {\"gridcolor\": \"white\", \"linecolor\": \"white\", \"ticks\": \"\"}, \"bgcolor\": \"#E5ECF6\", \"radialaxis\": {\"gridcolor\": \"white\", \"linecolor\": \"white\", \"ticks\": \"\"}}, \"scene\": {\"xaxis\": {\"backgroundcolor\": \"#E5ECF6\", \"gridcolor\": \"white\", \"gridwidth\": 2, \"linecolor\": \"white\", \"showbackground\": true, \"ticks\": \"\", \"zerolinecolor\": \"white\"}, \"yaxis\": {\"backgroundcolor\": \"#E5ECF6\", \"gridcolor\": \"white\", \"gridwidth\": 2, \"linecolor\": \"white\", \"showbackground\": true, \"ticks\": \"\", \"zerolinecolor\": \"white\"}, \"zaxis\": {\"backgroundcolor\": \"#E5ECF6\", \"gridcolor\": \"white\", \"gridwidth\": 2, \"linecolor\": \"white\", \"showbackground\": true, \"ticks\": \"\", \"zerolinecolor\": \"white\"}}, \"shapedefaults\": {\"line\": {\"color\": \"#2a3f5f\"}}, \"ternary\": {\"aaxis\": {\"gridcolor\": \"white\", \"linecolor\": \"white\", \"ticks\": \"\"}, \"baxis\": {\"gridcolor\": \"white\", \"linecolor\": \"white\", \"ticks\": \"\"}, \"bgcolor\": \"#E5ECF6\", \"caxis\": {\"gridcolor\": \"white\", \"linecolor\": \"white\", \"ticks\": \"\"}}, \"title\": {\"x\": 0.05}, \"xaxis\": {\"automargin\": true, \"gridcolor\": \"white\", \"linecolor\": \"white\", \"ticks\": \"\", \"title\": {\"standoff\": 15}, \"zerolinecolor\": \"white\", \"zerolinewidth\": 2}, \"yaxis\": {\"automargin\": true, \"gridcolor\": \"white\", \"linecolor\": \"white\", \"ticks\": \"\", \"title\": {\"standoff\": 15}, \"zerolinecolor\": \"white\", \"zerolinewidth\": 2}}}, \"title\": {\"text\": \"Discharging Rate VS Expiration Rate\"}, \"width\": 600},\n",
       "                        {\"responsive\": true}\n",
       "                    ).then(function(){\n",
       "                            \n",
       "var gd = document.getElementById('c46bc1d6-ba2f-4493-8359-79c059d3cbe3');\n",
       "var x = new MutationObserver(function (mutations, observer) {{\n",
       "        var display = window.getComputedStyle(gd).display;\n",
       "        if (!display || display === 'none') {{\n",
       "            console.log([gd, 'removed!']);\n",
       "            Plotly.purge(gd);\n",
       "            observer.disconnect();\n",
       "        }}\n",
       "}});\n",
       "\n",
       "// Listen for the removal of the full notebook cells\n",
       "var notebookContainer = gd.closest('#notebook-container');\n",
       "if (notebookContainer) {{\n",
       "    x.observe(notebookContainer, {childList: true});\n",
       "}}\n",
       "\n",
       "// Listen for the clearing of the current output cell\n",
       "var outputEl = gd.closest('.output');\n",
       "if (outputEl) {{\n",
       "    x.observe(outputEl, {childList: true});\n",
       "}}\n",
       "\n",
       "                        })\n",
       "                };\n",
       "                });\n",
       "            </script>\n",
       "        </div>"
      ]
     },
     "metadata": {},
     "output_type": "display_data"
    }
   ],
   "source": [
    "\n",
    "evolution = covid_data.groupby('Date').sum()[['Cumulative  Test positive','Discharged', 'Expired']]\n",
    "evolution['Expiration Rate'] = (evolution['Expired'] / evolution['Cumulative  Test positive']) * 100\n",
    "evolution['Discharging Rate'] = (evolution['Discharged'] / evolution['Cumulative  Test positive']) * 100\n",
    "\n",
    "fig = go.Figure()\n",
    "fig.add_trace(go.Scatter(x=evolution['Cumulative  Test positive'], y=evolution['Expiration Rate'],\n",
    "                    mode='lines+markers',marker_color='blue',name='Expiratin rate'))\n",
    "fig.add_trace(go.Scatter(x=evolution['Cumulative  Test positive'], y=evolution['Discharging Rate'], \n",
    "                mode='lines+markers',marker_color='red',name='Discharging rate'))\n",
    "fig.update_layout(title_text='Discharging Rate VS Expiration Rate',plot_bgcolor='rgb(275, 270, 273)',width=600, height=600)\n",
    "fig.show()"
   ]
  }
 ],
 "metadata": {
  "language_info": {
   "codemirror_mode": {
    "name": "ipython",
    "version": 3
   },
   "file_extension": ".py",
   "mimetype": "text/x-python",
   "name": "python",
   "nbconvert_exporter": "python",
   "pygments_lexer": "ipython3",
   "version": "3.7.4"
  }
 },
 "nbformat": 4,
 "nbformat_minor": 2
}
